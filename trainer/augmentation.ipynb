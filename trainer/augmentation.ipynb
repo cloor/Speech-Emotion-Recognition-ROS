{
 "cells": [
  {
   "cell_type": "code",
   "execution_count": 56,
   "source": [
    "!pip install matplotlib==3.3.4"
   ],
   "outputs": [
    {
     "output_type": "stream",
     "name": "stdout",
     "text": [
      "Collecting matplotlib==3.3.4\n",
      "  Using cached matplotlib-3.3.4-cp38-cp38-manylinux1_x86_64.whl (11.6 MB)\n",
      "Requirement already satisfied: numpy>=1.15 in /home/seojungin/anaconda3/lib/python3.8/site-packages (from matplotlib==3.3.4) (1.20.3)\n",
      "Requirement already satisfied: python-dateutil>=2.1 in /home/seojungin/anaconda3/lib/python3.8/site-packages (from matplotlib==3.3.4) (2.8.2)\n",
      "Requirement already satisfied: pyparsing!=2.0.4,!=2.1.2,!=2.1.6,>=2.0.3 in /home/seojungin/anaconda3/lib/python3.8/site-packages (from matplotlib==3.3.4) (3.0.4)\n",
      "Requirement already satisfied: kiwisolver>=1.0.1 in /home/seojungin/anaconda3/lib/python3.8/site-packages (from matplotlib==3.3.4) (1.3.1)\n",
      "Requirement already satisfied: cycler>=0.10 in /home/seojungin/anaconda3/lib/python3.8/site-packages (from matplotlib==3.3.4) (0.11.0)\n",
      "Requirement already satisfied: pillow>=6.2.0 in /home/seojungin/anaconda3/lib/python3.8/site-packages (from matplotlib==3.3.4) (8.4.0)\n",
      "Requirement already satisfied: six>=1.5 in /home/seojungin/anaconda3/lib/python3.8/site-packages (from python-dateutil>=2.1->matplotlib==3.3.4) (1.16.0)\n",
      "Installing collected packages: matplotlib\n",
      "  Attempting uninstall: matplotlib\n",
      "    Found existing installation: matplotlib 3.5.2\n",
      "    Uninstalling matplotlib-3.5.2:\n",
      "      Successfully uninstalled matplotlib-3.5.2\n",
      "Successfully installed matplotlib-3.3.4\n"
     ]
    }
   ],
   "metadata": {}
  },
  {
   "cell_type": "code",
   "execution_count": 66,
   "source": [
    "import os\n",
    "import pandas as pd\n",
    "import librosa\n",
    "import librosa.display\n",
    "import numpy as np\n",
    "import matplotlib.pyplot as plt\n",
    "from matplotlib.pyplot import specgram\n",
    "import torch\n",
    "import torch.nn as nn\n",
    "import torch.nn.functional as F\n",
    "import torch.utils.checkpoint as cp\n",
    "from torch import Tensor\n",
    "import torchvision\n",
    "from torchvision import datasets, transforms, models\n",
    "import torch.optim as optim\n",
    "from tqdm import tqdm\n",
    "from matplotlib.backends.backend_agg import FigureCanvasAgg as FigureCanvas\n",
    "from PIL import Image\n",
    "import cv2\n",
    "import random\n",
    "# import torchaudio"
   ],
   "outputs": [],
   "metadata": {}
  },
  {
   "cell_type": "code",
   "execution_count": 52,
   "source": [
    "def addAWGN(signal, num_bits=16, augmented_num=2, snr_low=15, snr_high=30): \n",
    "    signal_len = len(signal)\n",
    "    # Generate White Gaussian noise\n",
    "    noise = np.random.normal(size=(augmented_num, signal_len))\n",
    "    # Normalize signal and noise\n",
    "    norm_constant = 2.0**(num_bits-1)\n",
    "    signal_norm = signal / norm_constant\n",
    "    noise_norm = noise / norm_constant\n",
    "    # Compute signal and noise power\n",
    "    s_power = np.sum(signal_norm ** 2) / signal_len\n",
    "    n_power = np.sum(noise_norm ** 2, axis=1) / signal_len\n",
    "    # Random SNR: Uniform [15, 30] in dB\n",
    "    target_snr = np.random.randint(snr_low, snr_high)\n",
    "    # Compute K (covariance matrix) for each noise \n",
    "    K = np.sqrt((s_power / n_power) * 10 ** (- target_snr / 10))\n",
    "    K = np.ones((signal_len, augmented_num)) * K  \n",
    "    # Generate noisy signal\n",
    "    return signal + K.T * noise"
   ],
   "outputs": [],
   "metadata": {}
  },
  {
   "cell_type": "code",
   "execution_count": 16,
   "source": [
    "X, sample_rate = librosa.load('aihub/5e2aefca5807b852d9e021e0.wav', res_type='kaiser_fast',sr=16000,offset=0.5)\n",
    "addAWGN(X)[0].shape\n",
    "X.shape"
   ],
   "outputs": [
    {
     "output_type": "execute_result",
     "data": {
      "text/plain": [
       "(69142,)"
      ]
     },
     "metadata": {},
     "execution_count": 16
    }
   ],
   "metadata": {}
  },
  {
   "cell_type": "code",
   "execution_count": 17,
   "source": [
    "labels=[]\n",
    "for i in range(len(sw_list)):\n",
    "    i = sw_list[i]\n",
    "    if i[6:7] =='a':\n",
    "        label = 'angry'\n",
    "    elif i[6:7] =='n':\n",
    "        label = 'neutral'\n",
    "    elif i[6:7] =='s':\n",
    "        label = 'sadness'\n",
    "    elif i[6:7] =='h':\n",
    "        label = 'happiness'\n",
    "    labels.append(label)"
   ],
   "outputs": [
    {
     "output_type": "error",
     "ename": "NameError",
     "evalue": "name 'sw_list' is not defined",
     "traceback": [
      "\u001b[0;31m---------------------------------------------------------------------------\u001b[0m",
      "\u001b[0;31mNameError\u001b[0m                                 Traceback (most recent call last)",
      "\u001b[0;32m/tmp/ipykernel_3150/2308152241.py\u001b[0m in \u001b[0;36m<module>\u001b[0;34m\u001b[0m\n\u001b[1;32m      1\u001b[0m \u001b[0mlabels\u001b[0m\u001b[0;34m=\u001b[0m\u001b[0;34m[\u001b[0m\u001b[0;34m]\u001b[0m\u001b[0;34m\u001b[0m\u001b[0;34m\u001b[0m\u001b[0m\n\u001b[0;32m----> 2\u001b[0;31m \u001b[0;32mfor\u001b[0m \u001b[0mi\u001b[0m \u001b[0;32min\u001b[0m \u001b[0mrange\u001b[0m\u001b[0;34m(\u001b[0m\u001b[0mlen\u001b[0m\u001b[0;34m(\u001b[0m\u001b[0msw_list\u001b[0m\u001b[0;34m)\u001b[0m\u001b[0;34m)\u001b[0m\u001b[0;34m:\u001b[0m\u001b[0;34m\u001b[0m\u001b[0;34m\u001b[0m\u001b[0m\n\u001b[0m\u001b[1;32m      3\u001b[0m     \u001b[0mi\u001b[0m \u001b[0;34m=\u001b[0m \u001b[0msw_list\u001b[0m\u001b[0;34m[\u001b[0m\u001b[0mi\u001b[0m\u001b[0;34m]\u001b[0m\u001b[0;34m\u001b[0m\u001b[0;34m\u001b[0m\u001b[0m\n\u001b[1;32m      4\u001b[0m     \u001b[0;32mif\u001b[0m \u001b[0mi\u001b[0m\u001b[0;34m[\u001b[0m\u001b[0;36m6\u001b[0m\u001b[0;34m:\u001b[0m\u001b[0;36m7\u001b[0m\u001b[0;34m]\u001b[0m \u001b[0;34m==\u001b[0m\u001b[0;34m'a'\u001b[0m\u001b[0;34m:\u001b[0m\u001b[0;34m\u001b[0m\u001b[0;34m\u001b[0m\u001b[0m\n\u001b[1;32m      5\u001b[0m         \u001b[0mlabel\u001b[0m \u001b[0;34m=\u001b[0m \u001b[0;34m'angry'\u001b[0m\u001b[0;34m\u001b[0m\u001b[0;34m\u001b[0m\u001b[0m\n",
      "\u001b[0;31mNameError\u001b[0m: name 'sw_list' is not defined"
     ]
    }
   ],
   "metadata": {}
  },
  {
   "cell_type": "code",
   "execution_count": 18,
   "source": [
    "dicto = {'path' : sw_list, 'emotion' : labels}\n",
    "df2 = pd.DataFrame(dicto)"
   ],
   "outputs": [
    {
     "output_type": "error",
     "ename": "NameError",
     "evalue": "name 'sw_list' is not defined",
     "traceback": [
      "\u001b[0;31m---------------------------------------------------------------------------\u001b[0m",
      "\u001b[0;31mNameError\u001b[0m                                 Traceback (most recent call last)",
      "\u001b[0;32m/tmp/ipykernel_3150/2058815193.py\u001b[0m in \u001b[0;36m<module>\u001b[0;34m\u001b[0m\n\u001b[0;32m----> 1\u001b[0;31m \u001b[0mdicto\u001b[0m \u001b[0;34m=\u001b[0m \u001b[0;34m{\u001b[0m\u001b[0;34m'path'\u001b[0m \u001b[0;34m:\u001b[0m \u001b[0msw_list\u001b[0m\u001b[0;34m,\u001b[0m \u001b[0;34m'emotion'\u001b[0m \u001b[0;34m:\u001b[0m \u001b[0mlabels\u001b[0m\u001b[0;34m}\u001b[0m\u001b[0;34m\u001b[0m\u001b[0;34m\u001b[0m\u001b[0m\n\u001b[0m\u001b[1;32m      2\u001b[0m \u001b[0mdf2\u001b[0m \u001b[0;34m=\u001b[0m \u001b[0mpd\u001b[0m\u001b[0;34m.\u001b[0m\u001b[0mDataFrame\u001b[0m\u001b[0;34m(\u001b[0m\u001b[0mdicto\u001b[0m\u001b[0;34m)\u001b[0m\u001b[0;34m\u001b[0m\u001b[0;34m\u001b[0m\u001b[0m\n",
      "\u001b[0;31mNameError\u001b[0m: name 'sw_list' is not defined"
     ]
    }
   ],
   "metadata": {}
  },
  {
   "cell_type": "code",
   "execution_count": 19,
   "source": [
    "mylist_1= os.listdir('aihub/')\n",
    "type(mylist_1)\n",
    "mylist=[]\n",
    "for item in mylist_1:\n",
    "    if item[-3:]=='wav':\n",
    "        mylist.append(item)\n",
    "df = pd.read_csv('./aihub/AIhub.csv')\n",
    "df = pd.concat([df,df2],ignore_index=True)"
   ],
   "outputs": [
    {
     "output_type": "error",
     "ename": "NameError",
     "evalue": "name 'df2' is not defined",
     "traceback": [
      "\u001b[0;31m---------------------------------------------------------------------------\u001b[0m",
      "\u001b[0;31mNameError\u001b[0m                                 Traceback (most recent call last)",
      "\u001b[0;32m/tmp/ipykernel_3150/3527109535.py\u001b[0m in \u001b[0;36m<module>\u001b[0;34m\u001b[0m\n\u001b[1;32m      6\u001b[0m         \u001b[0mmylist\u001b[0m\u001b[0;34m.\u001b[0m\u001b[0mappend\u001b[0m\u001b[0;34m(\u001b[0m\u001b[0mitem\u001b[0m\u001b[0;34m)\u001b[0m\u001b[0;34m\u001b[0m\u001b[0;34m\u001b[0m\u001b[0m\n\u001b[1;32m      7\u001b[0m \u001b[0mdf\u001b[0m \u001b[0;34m=\u001b[0m \u001b[0mpd\u001b[0m\u001b[0;34m.\u001b[0m\u001b[0mread_csv\u001b[0m\u001b[0;34m(\u001b[0m\u001b[0;34m'./aihub/AIhub.csv'\u001b[0m\u001b[0;34m)\u001b[0m\u001b[0;34m\u001b[0m\u001b[0;34m\u001b[0m\u001b[0m\n\u001b[0;32m----> 8\u001b[0;31m \u001b[0mdf\u001b[0m \u001b[0;34m=\u001b[0m \u001b[0mpd\u001b[0m\u001b[0;34m.\u001b[0m\u001b[0mconcat\u001b[0m\u001b[0;34m(\u001b[0m\u001b[0;34m[\u001b[0m\u001b[0mdf\u001b[0m\u001b[0;34m,\u001b[0m\u001b[0mdf2\u001b[0m\u001b[0;34m]\u001b[0m\u001b[0;34m,\u001b[0m\u001b[0mignore_index\u001b[0m\u001b[0;34m=\u001b[0m\u001b[0;32mTrue\u001b[0m\u001b[0;34m)\u001b[0m\u001b[0;34m\u001b[0m\u001b[0;34m\u001b[0m\u001b[0m\n\u001b[0m",
      "\u001b[0;31mNameError\u001b[0m: name 'df2' is not defined"
     ]
    }
   ],
   "metadata": {}
  },
  {
   "cell_type": "code",
   "execution_count": 20,
   "source": [
    "df =df.reset_index(drop=True)"
   ],
   "outputs": [],
   "metadata": {}
  },
  {
   "cell_type": "code",
   "execution_count": 21,
   "source": [
    "#wav2spec\n",
    "class ETRIDataset_spectram_ai():\n",
    "    def __init__(self, dataframe, frame_length=0.025, frame_stride=0.010):\n",
    "        self.dataframe = dataframe\n",
    "        self.frame_length = frame_length\n",
    "        self.frame_stride = frame_stride\n",
    "    \n",
    "    def __len__(self):\n",
    "        return len(self.dataframe)*3\n",
    "\n",
    "    def __getitem__(self,index):\n",
    "        if index<len(self.dataframe):\n",
    "            audio_path = self.dataframe['path'][index]\n",
    "            X, sample_rate = librosa.load('aihub/'+audio_path[6:], res_type='kaiser_fast',sr=16000,offset=0.5)\n",
    "        elif index < len(self.dataframe)*2:\n",
    "            audio_path = self.dataframe['path'][index-len(self.dataframe)]\n",
    "            X, sample_rate = librosa.load('aihub/'+audio_path[6:], res_type='kaiser_fast',sr=16000,offset=0.5)\n",
    "            X = addAWGN(X)[0]\n",
    "        else:\n",
    "            audio_path = self.dataframe['path'][index-len(self.dataframe)*2]\n",
    "            X, sample_rate = librosa.load('aihub/'+audio_path[6:], res_type='kaiser_fast',sr=16000,offset=0.5)\n",
    "            X = addAWGN(X)[1]\n",
    "            \n",
    "        sample_rate = sample_rate\n",
    "        input_nfft = int(round(sample_rate*self.frame_length))\n",
    "        input_stride = int(round(sample_rate*self.frame_stride))\n",
    "\n",
    "        S = librosa.feature.melspectrogram(y=X, n_mels=64, n_fft=input_nfft, hop_length=input_stride)\n",
    "        P = librosa.power_to_db(S, ref=np.max)\n",
    "        \n",
    "\n",
    "        ## get label\n",
    "        if index < len(self.dataframe):\n",
    "            if audio_path[-3:] == 'wav':\n",
    "                if self.dataframe['emotion'][index] == 'angry':\n",
    "                    label = 0\n",
    "                elif self.dataframe['emotion'][index] == 'neutral':\n",
    "                    label = 1\n",
    "                elif self.dataframe['emotion'][index] == 'sadness':\n",
    "                    label = 2\n",
    "                elif self.dataframe['emotion'][index] == 'happiness':\n",
    "                    label = 3\n",
    "            else:\n",
    "                label=None\n",
    "        elif index < len(self.dataframe)*2:\n",
    "            if audio_path[-3:] == 'wav':\n",
    "                if self.dataframe['emotion'][index-len(self.dataframe)] == 'angry':\n",
    "                    label = 0\n",
    "                elif self.dataframe['emotion'][index-len(self.dataframe)] == 'neutral':\n",
    "                    label = 1\n",
    "                elif self.dataframe['emotion'][index-len(self.dataframe)] == 'sadness':\n",
    "                    label = 2\n",
    "                elif self.dataframe['emotion'][index-len(self.dataframe)] == 'happiness':\n",
    "                    label = 3\n",
    "            else:\n",
    "                label=None\n",
    "        else:\n",
    "            if audio_path[-3:] == 'wav':\n",
    "                if self.dataframe['emotion'][index-len(self.dataframe)*2] == 'angry':\n",
    "                    label = 0\n",
    "                elif self.dataframe['emotion'][index-len(self.dataframe)*2] == 'neutral':\n",
    "                    label = 1\n",
    "                elif self.dataframe['emotion'][index-len(self.dataframe)*2] == 'sadness':\n",
    "                    label = 2\n",
    "                elif self.dataframe['emotion'][index-len(self.dataframe)*2] == 'happiness':\n",
    "                    label = 3\n",
    "            else:\n",
    "                label=None\n",
    "        return P, label"
   ],
   "outputs": [],
   "metadata": {}
  },
  {
   "cell_type": "code",
   "execution_count": 22,
   "source": [
    "# train,test,val split\n",
    "train_size = int(0.7*len(df)*3)\n",
    "\n",
    "val_size = int(0.2*len(df)*3)\n",
    "test_size = int(len(df)*3-train_size-val_size)\n",
    "train_set, val_set, test_set = torch.utils.data.random_split(ETRIDataset_spectram_ai(df),[train_size,val_size,test_size])\n",
    "print(train_size)\n",
    "print(val_size)\n",
    "print(test_size)"
   ],
   "outputs": [
    {
     "output_type": "stream",
     "name": "stdout",
     "text": [
      "4609\n",
      "1317\n",
      "659\n"
     ]
    }
   ],
   "metadata": {}
  },
  {
   "cell_type": "code",
   "execution_count": 25,
   "source": [
    "df['emotion'][2100] == 'angry'"
   ],
   "outputs": [
    {
     "output_type": "execute_result",
     "data": {
      "text/plain": [
       "False"
      ]
     },
     "metadata": {},
     "execution_count": 25
    }
   ],
   "metadata": {}
  },
  {
   "cell_type": "code",
   "execution_count": 67,
   "source": [
    "df"
   ],
   "outputs": [
    {
     "output_type": "execute_result",
     "data": {
      "text/plain": [
       "                                    path  emotion\n",
       "0     ./4y1/5e367ec8ee8206179943c051.wav    angry\n",
       "1     ./4y1/5e37d20fc8c25f16cd145708.wav    angry\n",
       "2     ./4y1/5e36610e7995ef170fc0e868.wav    angry\n",
       "3     ./4y1/5e41317c0b3f160367c2075c.wav    angry\n",
       "4     ./4y1/5e426f780b3f160367c2097d.wav    angry\n",
       "...                                  ...      ...\n",
       "2190  ./5y2/5f7124ddf8fac448cc0a6229.wav  sadness\n",
       "2191  ./4y1/5e33ce7b5807b852d9e0580f.wav  sadness\n",
       "2192  ./4y1/5e43a429189842034d9f77a7.wav  sadness\n",
       "2193  ./4y1/5e44f7f0f2fe7a3b1d544784.wav  sadness\n",
       "2194  ./4y1/5e3976c67995ef170fc0fdfb.wav  sadness\n",
       "\n",
       "[2195 rows x 2 columns]"
      ],
      "text/html": [
       "<div>\n",
       "<style scoped>\n",
       "    .dataframe tbody tr th:only-of-type {\n",
       "        vertical-align: middle;\n",
       "    }\n",
       "\n",
       "    .dataframe tbody tr th {\n",
       "        vertical-align: top;\n",
       "    }\n",
       "\n",
       "    .dataframe thead th {\n",
       "        text-align: right;\n",
       "    }\n",
       "</style>\n",
       "<table border=\"1\" class=\"dataframe\">\n",
       "  <thead>\n",
       "    <tr style=\"text-align: right;\">\n",
       "      <th></th>\n",
       "      <th>path</th>\n",
       "      <th>emotion</th>\n",
       "    </tr>\n",
       "  </thead>\n",
       "  <tbody>\n",
       "    <tr>\n",
       "      <th>0</th>\n",
       "      <td>./4y1/5e367ec8ee8206179943c051.wav</td>\n",
       "      <td>angry</td>\n",
       "    </tr>\n",
       "    <tr>\n",
       "      <th>1</th>\n",
       "      <td>./4y1/5e37d20fc8c25f16cd145708.wav</td>\n",
       "      <td>angry</td>\n",
       "    </tr>\n",
       "    <tr>\n",
       "      <th>2</th>\n",
       "      <td>./4y1/5e36610e7995ef170fc0e868.wav</td>\n",
       "      <td>angry</td>\n",
       "    </tr>\n",
       "    <tr>\n",
       "      <th>3</th>\n",
       "      <td>./4y1/5e41317c0b3f160367c2075c.wav</td>\n",
       "      <td>angry</td>\n",
       "    </tr>\n",
       "    <tr>\n",
       "      <th>4</th>\n",
       "      <td>./4y1/5e426f780b3f160367c2097d.wav</td>\n",
       "      <td>angry</td>\n",
       "    </tr>\n",
       "    <tr>\n",
       "      <th>...</th>\n",
       "      <td>...</td>\n",
       "      <td>...</td>\n",
       "    </tr>\n",
       "    <tr>\n",
       "      <th>2190</th>\n",
       "      <td>./5y2/5f7124ddf8fac448cc0a6229.wav</td>\n",
       "      <td>sadness</td>\n",
       "    </tr>\n",
       "    <tr>\n",
       "      <th>2191</th>\n",
       "      <td>./4y1/5e33ce7b5807b852d9e0580f.wav</td>\n",
       "      <td>sadness</td>\n",
       "    </tr>\n",
       "    <tr>\n",
       "      <th>2192</th>\n",
       "      <td>./4y1/5e43a429189842034d9f77a7.wav</td>\n",
       "      <td>sadness</td>\n",
       "    </tr>\n",
       "    <tr>\n",
       "      <th>2193</th>\n",
       "      <td>./4y1/5e44f7f0f2fe7a3b1d544784.wav</td>\n",
       "      <td>sadness</td>\n",
       "    </tr>\n",
       "    <tr>\n",
       "      <th>2194</th>\n",
       "      <td>./4y1/5e3976c67995ef170fc0fdfb.wav</td>\n",
       "      <td>sadness</td>\n",
       "    </tr>\n",
       "  </tbody>\n",
       "</table>\n",
       "<p>2195 rows × 2 columns</p>\n",
       "</div>"
      ]
     },
     "metadata": {},
     "execution_count": 67
    }
   ],
   "metadata": {}
  },
  {
   "cell_type": "code",
   "execution_count": 86,
   "source": [
    "# spec2img\n",
    "def getimg(dataset,feature):\n",
    "        img_path=[]\n",
    "        labels=[]\n",
    "        for i in range(len(dataset)):\n",
    "                # fig = plt.figure()\n",
    "                # ax = fig.add_subplot(111)\n",
    "                fig, ax = plt.subplots()\n",
    "                p = librosa.display.specshow(dataset[i][0],ax=ax, sr=16000, hop_length=int(round(16000*0.025)), x_axis='time',y_axis='linear')\n",
    "                extent = ax.get_window_extent().transformed(fig.dpi_scale_trans.inverted())\n",
    "\n",
    "                fig.savefig('./image_aihub/%s_%d_%s.jpg' % (dataset[i][1],i,feature), bbox_inches=extent)\n",
    "                img_path.append('./image_aihub/%s_%d_%s.jpg' % (dataset[i][1],i,feature))\n",
    "                labels.append(dataset[i][1])\n",
    "                plt.ioff()\n",
    "                plt.close()\n",
    "        return img_path , labels\n"
   ],
   "outputs": [],
   "metadata": {}
  },
  {
   "cell_type": "code",
   "execution_count": 80,
   "source": [
    "train_path , train_labels = getimg(train_set,'train')\n",
    "val_path , val_labels = getimg(val_set,'val')\n",
    "test_path , test_labels = getimg(test_set,'test')"
   ],
   "outputs": [
    {
     "output_type": "error",
     "ename": "TypeError",
     "evalue": "__init__() got an unexpected keyword argument 'basey'",
     "traceback": [
      "\u001b[0;31m---------------------------------------------------------------------------\u001b[0m",
      "\u001b[0;31mTypeError\u001b[0m                                 Traceback (most recent call last)",
      "\u001b[0;32m/tmp/ipykernel_3150/4224471753.py\u001b[0m in \u001b[0;36m<module>\u001b[0;34m\u001b[0m\n\u001b[0;32m----> 1\u001b[0;31m \u001b[0mtrain_path\u001b[0m \u001b[0;34m,\u001b[0m \u001b[0mtrain_labels\u001b[0m \u001b[0;34m=\u001b[0m \u001b[0mgetimg\u001b[0m\u001b[0;34m(\u001b[0m\u001b[0mtrain_set\u001b[0m\u001b[0;34m,\u001b[0m\u001b[0;34m'train'\u001b[0m\u001b[0;34m)\u001b[0m\u001b[0;34m\u001b[0m\u001b[0;34m\u001b[0m\u001b[0m\n\u001b[0m\u001b[1;32m      2\u001b[0m \u001b[0mval_path\u001b[0m \u001b[0;34m,\u001b[0m \u001b[0mval_labels\u001b[0m \u001b[0;34m=\u001b[0m \u001b[0mgetimg\u001b[0m\u001b[0;34m(\u001b[0m\u001b[0mval_set\u001b[0m\u001b[0;34m,\u001b[0m\u001b[0;34m'val'\u001b[0m\u001b[0;34m)\u001b[0m\u001b[0;34m\u001b[0m\u001b[0;34m\u001b[0m\u001b[0m\n\u001b[1;32m      3\u001b[0m \u001b[0mtest_path\u001b[0m \u001b[0;34m,\u001b[0m \u001b[0mtest_labels\u001b[0m \u001b[0;34m=\u001b[0m \u001b[0mgetimg\u001b[0m\u001b[0;34m(\u001b[0m\u001b[0mtest_set\u001b[0m\u001b[0;34m,\u001b[0m\u001b[0;34m'test'\u001b[0m\u001b[0;34m)\u001b[0m\u001b[0;34m\u001b[0m\u001b[0;34m\u001b[0m\u001b[0m\n",
      "\u001b[0;32m/tmp/ipykernel_3150/3585991209.py\u001b[0m in \u001b[0;36mgetimg\u001b[0;34m(dataset, feature)\u001b[0m\n\u001b[1;32m      7\u001b[0m                 \u001b[0;31m# ax = fig.add_subplot(111)\u001b[0m\u001b[0;34m\u001b[0m\u001b[0;34m\u001b[0m\u001b[0;34m\u001b[0m\u001b[0m\n\u001b[1;32m      8\u001b[0m                 \u001b[0mfig\u001b[0m\u001b[0;34m,\u001b[0m \u001b[0max\u001b[0m \u001b[0;34m=\u001b[0m \u001b[0mplt\u001b[0m\u001b[0;34m.\u001b[0m\u001b[0msubplots\u001b[0m\u001b[0;34m(\u001b[0m\u001b[0;34m)\u001b[0m\u001b[0;34m\u001b[0m\u001b[0;34m\u001b[0m\u001b[0m\n\u001b[0;32m----> 9\u001b[0;31m                 \u001b[0mp\u001b[0m \u001b[0;34m=\u001b[0m \u001b[0mlibrosa\u001b[0m\u001b[0;34m.\u001b[0m\u001b[0mdisplay\u001b[0m\u001b[0;34m.\u001b[0m\u001b[0mspecshow\u001b[0m\u001b[0;34m(\u001b[0m\u001b[0mdataset\u001b[0m\u001b[0;34m[\u001b[0m\u001b[0mi\u001b[0m\u001b[0;34m]\u001b[0m\u001b[0;34m[\u001b[0m\u001b[0;36m0\u001b[0m\u001b[0;34m]\u001b[0m\u001b[0;34m,\u001b[0m\u001b[0max\u001b[0m\u001b[0;34m=\u001b[0m\u001b[0max\u001b[0m\u001b[0;34m,\u001b[0m \u001b[0msr\u001b[0m\u001b[0;34m=\u001b[0m\u001b[0;36m16000\u001b[0m\u001b[0;34m,\u001b[0m \u001b[0mhop_length\u001b[0m\u001b[0;34m=\u001b[0m\u001b[0mint\u001b[0m\u001b[0;34m(\u001b[0m\u001b[0mround\u001b[0m\u001b[0;34m(\u001b[0m\u001b[0;36m16000\u001b[0m\u001b[0;34m*\u001b[0m\u001b[0;36m0.025\u001b[0m\u001b[0;34m)\u001b[0m\u001b[0;34m)\u001b[0m\u001b[0;34m,\u001b[0m \u001b[0mx_axis\u001b[0m\u001b[0;34m=\u001b[0m\u001b[0;34m'time'\u001b[0m\u001b[0;34m,\u001b[0m\u001b[0my_axis\u001b[0m\u001b[0;34m=\u001b[0m\u001b[0;34m'log'\u001b[0m\u001b[0;34m)\u001b[0m\u001b[0;34m\u001b[0m\u001b[0;34m\u001b[0m\u001b[0m\n\u001b[0m\u001b[1;32m     10\u001b[0m                 \u001b[0mextent\u001b[0m \u001b[0;34m=\u001b[0m \u001b[0max\u001b[0m\u001b[0;34m.\u001b[0m\u001b[0mget_window_extent\u001b[0m\u001b[0;34m(\u001b[0m\u001b[0;34m)\u001b[0m\u001b[0;34m.\u001b[0m\u001b[0mtransformed\u001b[0m\u001b[0;34m(\u001b[0m\u001b[0mfig\u001b[0m\u001b[0;34m.\u001b[0m\u001b[0mdpi_scale_trans\u001b[0m\u001b[0;34m.\u001b[0m\u001b[0minverted\u001b[0m\u001b[0;34m(\u001b[0m\u001b[0;34m)\u001b[0m\u001b[0;34m)\u001b[0m\u001b[0;34m\u001b[0m\u001b[0;34m\u001b[0m\u001b[0m\n\u001b[1;32m     11\u001b[0m \u001b[0;34m\u001b[0m\u001b[0m\n",
      "\u001b[0;32m~/anaconda3/lib/python3.8/site-packages/librosa/display.py\u001b[0m in \u001b[0;36mspecshow\u001b[0;34m(data, x_coords, y_coords, x_axis, y_axis, sr, hop_length, fmin, fmax, tuning, bins_per_octave, key, Sa, mela, thaat, ax, **kwargs)\u001b[0m\n\u001b[1;32m    854\u001b[0m     \u001b[0;31m# Set up axis scaling\u001b[0m\u001b[0;34m\u001b[0m\u001b[0;34m\u001b[0m\u001b[0;34m\u001b[0m\u001b[0m\n\u001b[1;32m    855\u001b[0m     \u001b[0m__scale_axes\u001b[0m\u001b[0;34m(\u001b[0m\u001b[0maxes\u001b[0m\u001b[0;34m,\u001b[0m \u001b[0mx_axis\u001b[0m\u001b[0;34m,\u001b[0m \u001b[0;34m\"x\"\u001b[0m\u001b[0;34m)\u001b[0m\u001b[0;34m\u001b[0m\u001b[0;34m\u001b[0m\u001b[0m\n\u001b[0;32m--> 856\u001b[0;31m     \u001b[0m__scale_axes\u001b[0m\u001b[0;34m(\u001b[0m\u001b[0maxes\u001b[0m\u001b[0;34m,\u001b[0m \u001b[0my_axis\u001b[0m\u001b[0;34m,\u001b[0m \u001b[0;34m\"y\"\u001b[0m\u001b[0;34m)\u001b[0m\u001b[0;34m\u001b[0m\u001b[0;34m\u001b[0m\u001b[0m\n\u001b[0m\u001b[1;32m    857\u001b[0m \u001b[0;34m\u001b[0m\u001b[0m\n\u001b[1;32m    858\u001b[0m     \u001b[0;31m# Construct tickers and locators\u001b[0m\u001b[0;34m\u001b[0m\u001b[0;34m\u001b[0m\u001b[0;34m\u001b[0m\u001b[0m\n",
      "\u001b[0;32m~/anaconda3/lib/python3.8/site-packages/librosa/display.py\u001b[0m in \u001b[0;36m__scale_axes\u001b[0;34m(axes, ax_type, which)\u001b[0m\n\u001b[1;32m    972\u001b[0m         \u001b[0;32mreturn\u001b[0m\u001b[0;34m\u001b[0m\u001b[0;34m\u001b[0m\u001b[0m\n\u001b[1;32m    973\u001b[0m \u001b[0;34m\u001b[0m\u001b[0m\n\u001b[0;32m--> 974\u001b[0;31m     \u001b[0mscaler\u001b[0m\u001b[0;34m(\u001b[0m\u001b[0mmode\u001b[0m\u001b[0;34m,\u001b[0m \u001b[0;34m**\u001b[0m\u001b[0mkwargs\u001b[0m\u001b[0;34m)\u001b[0m\u001b[0;34m\u001b[0m\u001b[0;34m\u001b[0m\u001b[0m\n\u001b[0m\u001b[1;32m    975\u001b[0m \u001b[0;34m\u001b[0m\u001b[0m\n\u001b[1;32m    976\u001b[0m \u001b[0;34m\u001b[0m\u001b[0m\n",
      "\u001b[0;32m~/anaconda3/lib/python3.8/site-packages/matplotlib/axes/_base.py\u001b[0m in \u001b[0;36mset_yscale\u001b[0;34m(self, value, **kwargs)\u001b[0m\n",
      "\u001b[0;32m~/anaconda3/lib/python3.8/site-packages/matplotlib/axis.py\u001b[0m in \u001b[0;36m_set_scale\u001b[0;34m(self, value, **kwargs)\u001b[0m\n\u001b[1;32m    759\u001b[0m         \u001b[0mself\u001b[0m\u001b[0;34m.\u001b[0m\u001b[0misDefault_label\u001b[0m \u001b[0;34m=\u001b[0m \u001b[0;32mTrue\u001b[0m\u001b[0;34m\u001b[0m\u001b[0;34m\u001b[0m\u001b[0m\n\u001b[1;32m    760\u001b[0m \u001b[0;34m\u001b[0m\u001b[0m\n\u001b[0;32m--> 761\u001b[0;31m         \u001b[0;31m# Clear the callback registry for this axis, or it may \"leak\"\u001b[0m\u001b[0;34m\u001b[0m\u001b[0;34m\u001b[0m\u001b[0;34m\u001b[0m\u001b[0m\n\u001b[0m\u001b[1;32m    762\u001b[0m         \u001b[0mself\u001b[0m\u001b[0;34m.\u001b[0m\u001b[0mcallbacks\u001b[0m \u001b[0;34m=\u001b[0m \u001b[0mcbook\u001b[0m\u001b[0;34m.\u001b[0m\u001b[0mCallbackRegistry\u001b[0m\u001b[0;34m(\u001b[0m\u001b[0;34m)\u001b[0m\u001b[0;34m\u001b[0m\u001b[0;34m\u001b[0m\u001b[0m\n\u001b[1;32m    763\u001b[0m \u001b[0;34m\u001b[0m\u001b[0m\n",
      "\u001b[0;32m~/anaconda3/lib/python3.8/site-packages/matplotlib/scale.py\u001b[0m in \u001b[0;36mscale_factory\u001b[0;34m(scale, axis, **kwargs)\u001b[0m\n",
      "\u001b[0;31mTypeError\u001b[0m: __init__() got an unexpected keyword argument 'basey'"
     ]
    },
    {
     "output_type": "display_data",
     "data": {
      "text/plain": [
       "<Figure size 432x288 with 1 Axes>"
      ],
      "image/svg+xml": "<?xml version=\"1.0\" encoding=\"utf-8\" standalone=\"no\"?>\n<!DOCTYPE svg PUBLIC \"-//W3C//DTD SVG 1.1//EN\"\n  \"http://www.w3.org/Graphics/SVG/1.1/DTD/svg11.dtd\">\n<svg xmlns:xlink=\"http://www.w3.org/1999/xlink\" width=\"381.65pt\" height=\"252.317344pt\" viewBox=\"0 0 381.65 252.317344\" xmlns=\"http://www.w3.org/2000/svg\" version=\"1.1\">\n <metadata>\n  <rdf:RDF xmlns:dc=\"http://purl.org/dc/elements/1.1/\" xmlns:cc=\"http://creativecommons.org/ns#\" xmlns:rdf=\"http://www.w3.org/1999/02/22-rdf-syntax-ns#\">\n   <cc:Work>\n    <dc:type rdf:resource=\"http://purl.org/dc/dcmitype/StillImage\"/>\n    <dc:date>2022-06-10T16:15:54.004455</dc:date>\n    <dc:format>image/svg+xml</dc:format>\n    <dc:creator>\n     <cc:Agent>\n      <dc:title>Matplotlib v3.5.0, https://matplotlib.org/</dc:title>\n     </cc:Agent>\n    </dc:creator>\n   </cc:Work>\n  </rdf:RDF>\n </metadata>\n <defs>\n  <style type=\"text/css\">*{stroke-linejoin: round; stroke-linecap: butt}</style>\n </defs>\n <g id=\"figure_1\">\n  <g id=\"patch_1\">\n   <path d=\"M -0 252.317344 \nL 381.65 252.317344 \nL 381.65 0 \nL -0 0 \nL -0 252.317344 \nz\n\" style=\"fill: none\"/>\n  </g>\n  <g id=\"axes_1\">\n   <g id=\"patch_2\">\n    <path d=\"M 39.65 228.439219 \nL 374.45 228.439219 \nL 374.45 10.999219 \nL 39.65 10.999219 \nz\n\" style=\"fill: #ffffff\"/>\n   </g>\n   <image xlink:href=\"data:image/png;base64,\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\" id=\"imageb6b20940c5\" transform=\"scale(1 -1)translate(0 -217)\" x=\"40\" y=\"-11\" width=\"334\" height=\"217\"/>\n   <g id=\"matplotlib.axis_1\">\n    <g id=\"xtick_1\">\n     <g id=\"line2d_1\">\n      <defs>\n       <path id=\"mc1006893d6\" d=\"M 0 0 \nL 0 3.5 \n\" style=\"stroke: #000000; stroke-width: 0.8\"/>\n      </defs>\n      <g>\n       <use xlink:href=\"#mc1006893d6\" x=\"39.65\" y=\"228.439219\" style=\"stroke: #000000; stroke-width: 0.8\"/>\n      </g>\n     </g>\n     <g id=\"text_1\">\n      <!-- 0 -->\n      <g transform=\"translate(36.46875 243.037656)scale(0.1 -0.1)\">\n       <defs>\n        <path id=\"DejaVuSans-30\" d=\"M 2034 4250 \nQ 1547 4250 1301 3770 \nQ 1056 3291 1056 2328 \nQ 1056 1369 1301 889 \nQ 1547 409 2034 409 \nQ 2525 409 2770 889 \nQ 3016 1369 3016 2328 \nQ 3016 3291 2770 3770 \nQ 2525 4250 2034 4250 \nz\nM 2034 4750 \nQ 2819 4750 3233 4129 \nQ 3647 3509 3647 2328 \nQ 3647 1150 3233 529 \nQ 2819 -91 2034 -91 \nQ 1250 -91 836 529 \nQ 422 1150 422 2328 \nQ 422 3509 836 4129 \nQ 1250 4750 2034 4750 \nz\n\" transform=\"scale(0.015625)\"/>\n       </defs>\n       <use xlink:href=\"#DejaVuSans-30\"/>\n      </g>\n     </g>\n    </g>\n    <g id=\"xtick_2\">\n     <g id=\"line2d_2\">\n      <g>\n       <use xlink:href=\"#mc1006893d6\" x=\"86.393455\" y=\"228.439219\" style=\"stroke: #000000; stroke-width: 0.8\"/>\n      </g>\n     </g>\n     <g id=\"text_2\">\n      <!-- 2 -->\n      <g transform=\"translate(83.212205 243.037656)scale(0.1 -0.1)\">\n       <defs>\n        <path id=\"DejaVuSans-32\" d=\"M 1228 531 \nL 3431 531 \nL 3431 0 \nL 469 0 \nL 469 531 \nQ 828 903 1448 1529 \nQ 2069 2156 2228 2338 \nQ 2531 2678 2651 2914 \nQ 2772 3150 2772 3378 \nQ 2772 3750 2511 3984 \nQ 2250 4219 1831 4219 \nQ 1534 4219 1204 4116 \nQ 875 4013 500 3803 \nL 500 4441 \nQ 881 4594 1212 4672 \nQ 1544 4750 1819 4750 \nQ 2544 4750 2975 4387 \nQ 3406 4025 3406 3419 \nQ 3406 3131 3298 2873 \nQ 3191 2616 2906 2266 \nQ 2828 2175 2409 1742 \nQ 1991 1309 1228 531 \nz\n\" transform=\"scale(0.015625)\"/>\n       </defs>\n       <use xlink:href=\"#DejaVuSans-32\"/>\n      </g>\n     </g>\n    </g>\n    <g id=\"xtick_3\">\n     <g id=\"line2d_3\">\n      <g>\n       <use xlink:href=\"#mc1006893d6\" x=\"133.136911\" y=\"228.439219\" style=\"stroke: #000000; stroke-width: 0.8\"/>\n      </g>\n     </g>\n     <g id=\"text_3\">\n      <!-- 4 -->\n      <g transform=\"translate(129.955661 243.037656)scale(0.1 -0.1)\">\n       <defs>\n        <path id=\"DejaVuSans-34\" d=\"M 2419 4116 \nL 825 1625 \nL 2419 1625 \nL 2419 4116 \nz\nM 2253 4666 \nL 3047 4666 \nL 3047 1625 \nL 3713 1625 \nL 3713 1100 \nL 3047 1100 \nL 3047 0 \nL 2419 0 \nL 2419 1100 \nL 313 1100 \nL 313 1709 \nL 2253 4666 \nz\n\" transform=\"scale(0.015625)\"/>\n       </defs>\n       <use xlink:href=\"#DejaVuSans-34\"/>\n      </g>\n     </g>\n    </g>\n    <g id=\"xtick_4\">\n     <g id=\"line2d_4\">\n      <g>\n       <use xlink:href=\"#mc1006893d6\" x=\"179.880366\" y=\"228.439219\" style=\"stroke: #000000; stroke-width: 0.8\"/>\n      </g>\n     </g>\n     <g id=\"text_4\">\n      <!-- 6 -->\n      <g transform=\"translate(176.699116 243.037656)scale(0.1 -0.1)\">\n       <defs>\n        <path id=\"DejaVuSans-36\" d=\"M 2113 2584 \nQ 1688 2584 1439 2293 \nQ 1191 2003 1191 1497 \nQ 1191 994 1439 701 \nQ 1688 409 2113 409 \nQ 2538 409 2786 701 \nQ 3034 994 3034 1497 \nQ 3034 2003 2786 2293 \nQ 2538 2584 2113 2584 \nz\nM 3366 4563 \nL 3366 3988 \nQ 3128 4100 2886 4159 \nQ 2644 4219 2406 4219 \nQ 1781 4219 1451 3797 \nQ 1122 3375 1075 2522 \nQ 1259 2794 1537 2939 \nQ 1816 3084 2150 3084 \nQ 2853 3084 3261 2657 \nQ 3669 2231 3669 1497 \nQ 3669 778 3244 343 \nQ 2819 -91 2113 -91 \nQ 1303 -91 875 529 \nQ 447 1150 447 2328 \nQ 447 3434 972 4092 \nQ 1497 4750 2381 4750 \nQ 2619 4750 2861 4703 \nQ 3103 4656 3366 4563 \nz\n\" transform=\"scale(0.015625)\"/>\n       </defs>\n       <use xlink:href=\"#DejaVuSans-36\"/>\n      </g>\n     </g>\n    </g>\n    <g id=\"xtick_5\">\n     <g id=\"line2d_5\">\n      <g>\n       <use xlink:href=\"#mc1006893d6\" x=\"226.623822\" y=\"228.439219\" style=\"stroke: #000000; stroke-width: 0.8\"/>\n      </g>\n     </g>\n     <g id=\"text_5\">\n      <!-- 8 -->\n      <g transform=\"translate(223.442572 243.037656)scale(0.1 -0.1)\">\n       <defs>\n        <path id=\"DejaVuSans-38\" d=\"M 2034 2216 \nQ 1584 2216 1326 1975 \nQ 1069 1734 1069 1313 \nQ 1069 891 1326 650 \nQ 1584 409 2034 409 \nQ 2484 409 2743 651 \nQ 3003 894 3003 1313 \nQ 3003 1734 2745 1975 \nQ 2488 2216 2034 2216 \nz\nM 1403 2484 \nQ 997 2584 770 2862 \nQ 544 3141 544 3541 \nQ 544 4100 942 4425 \nQ 1341 4750 2034 4750 \nQ 2731 4750 3128 4425 \nQ 3525 4100 3525 3541 \nQ 3525 3141 3298 2862 \nQ 3072 2584 2669 2484 \nQ 3125 2378 3379 2068 \nQ 3634 1759 3634 1313 \nQ 3634 634 3220 271 \nQ 2806 -91 2034 -91 \nQ 1263 -91 848 271 \nQ 434 634 434 1313 \nQ 434 1759 690 2068 \nQ 947 2378 1403 2484 \nz\nM 1172 3481 \nQ 1172 3119 1398 2916 \nQ 1625 2713 2034 2713 \nQ 2441 2713 2670 2916 \nQ 2900 3119 2900 3481 \nQ 2900 3844 2670 4047 \nQ 2441 4250 2034 4250 \nQ 1625 4250 1398 4047 \nQ 1172 3844 1172 3481 \nz\n\" transform=\"scale(0.015625)\"/>\n       </defs>\n       <use xlink:href=\"#DejaVuSans-38\"/>\n      </g>\n     </g>\n    </g>\n    <g id=\"xtick_6\">\n     <g id=\"line2d_6\">\n      <g>\n       <use xlink:href=\"#mc1006893d6\" x=\"273.367277\" y=\"228.439219\" style=\"stroke: #000000; stroke-width: 0.8\"/>\n      </g>\n     </g>\n     <g id=\"text_6\">\n      <!-- 10 -->\n      <g transform=\"translate(267.004777 243.037656)scale(0.1 -0.1)\">\n       <defs>\n        <path id=\"DejaVuSans-31\" d=\"M 794 531 \nL 1825 531 \nL 1825 4091 \nL 703 3866 \nL 703 4441 \nL 1819 4666 \nL 2450 4666 \nL 2450 531 \nL 3481 531 \nL 3481 0 \nL 794 0 \nL 794 531 \nz\n\" transform=\"scale(0.015625)\"/>\n       </defs>\n       <use xlink:href=\"#DejaVuSans-31\"/>\n       <use xlink:href=\"#DejaVuSans-30\" x=\"63.623047\"/>\n      </g>\n     </g>\n    </g>\n    <g id=\"xtick_7\">\n     <g id=\"line2d_7\">\n      <g>\n       <use xlink:href=\"#mc1006893d6\" x=\"320.110733\" y=\"228.439219\" style=\"stroke: #000000; stroke-width: 0.8\"/>\n      </g>\n     </g>\n     <g id=\"text_7\">\n      <!-- 12 -->\n      <g transform=\"translate(313.748233 243.037656)scale(0.1 -0.1)\">\n       <use xlink:href=\"#DejaVuSans-31\"/>\n       <use xlink:href=\"#DejaVuSans-32\" x=\"63.623047\"/>\n      </g>\n     </g>\n    </g>\n    <g id=\"xtick_8\">\n     <g id=\"line2d_8\">\n      <g>\n       <use xlink:href=\"#mc1006893d6\" x=\"366.854188\" y=\"228.439219\" style=\"stroke: #000000; stroke-width: 0.8\"/>\n      </g>\n     </g>\n     <g id=\"text_8\">\n      <!-- 14 -->\n      <g transform=\"translate(360.491688 243.037656)scale(0.1 -0.1)\">\n       <use xlink:href=\"#DejaVuSans-31\"/>\n       <use xlink:href=\"#DejaVuSans-34\" x=\"63.623047\"/>\n      </g>\n     </g>\n    </g>\n   </g>\n   <g id=\"matplotlib.axis_2\">\n    <g id=\"ytick_1\">\n     <g id=\"line2d_9\">\n      <defs>\n       <path id=\"m3bd27632b8\" d=\"M 0 0 \nL -3.5 0 \n\" style=\"stroke: #000000; stroke-width: 0.8\"/>\n      </defs>\n      <g>\n       <use xlink:href=\"#m3bd27632b8\" x=\"39.65\" y=\"228.439219\" style=\"stroke: #000000; stroke-width: 0.8\"/>\n      </g>\n     </g>\n     <g id=\"text_9\">\n      <!-- 0 -->\n      <g transform=\"translate(26.2875 232.238437)scale(0.1 -0.1)\">\n       <use xlink:href=\"#DejaVuSans-30\"/>\n      </g>\n     </g>\n    </g>\n    <g id=\"ytick_2\">\n     <g id=\"line2d_10\">\n      <g>\n       <use xlink:href=\"#m3bd27632b8\" x=\"39.65\" y=\"201.259219\" style=\"stroke: #000000; stroke-width: 0.8\"/>\n      </g>\n     </g>\n     <g id=\"text_10\">\n      <!-- 1000 -->\n      <g transform=\"translate(7.2 205.058437)scale(0.1 -0.1)\">\n       <use xlink:href=\"#DejaVuSans-31\"/>\n       <use xlink:href=\"#DejaVuSans-30\" x=\"63.623047\"/>\n       <use xlink:href=\"#DejaVuSans-30\" x=\"127.246094\"/>\n       <use xlink:href=\"#DejaVuSans-30\" x=\"190.869141\"/>\n      </g>\n     </g>\n    </g>\n    <g id=\"ytick_3\">\n     <g id=\"line2d_11\">\n      <g>\n       <use xlink:href=\"#m3bd27632b8\" x=\"39.65\" y=\"174.079219\" style=\"stroke: #000000; stroke-width: 0.8\"/>\n      </g>\n     </g>\n     <g id=\"text_11\">\n      <!-- 2000 -->\n      <g transform=\"translate(7.2 177.878437)scale(0.1 -0.1)\">\n       <use xlink:href=\"#DejaVuSans-32\"/>\n       <use xlink:href=\"#DejaVuSans-30\" x=\"63.623047\"/>\n       <use xlink:href=\"#DejaVuSans-30\" x=\"127.246094\"/>\n       <use xlink:href=\"#DejaVuSans-30\" x=\"190.869141\"/>\n      </g>\n     </g>\n    </g>\n    <g id=\"ytick_4\">\n     <g id=\"line2d_12\">\n      <g>\n       <use xlink:href=\"#m3bd27632b8\" x=\"39.65\" y=\"146.899219\" style=\"stroke: #000000; stroke-width: 0.8\"/>\n      </g>\n     </g>\n     <g id=\"text_12\">\n      <!-- 3000 -->\n      <g transform=\"translate(7.2 150.698437)scale(0.1 -0.1)\">\n       <defs>\n        <path id=\"DejaVuSans-33\" d=\"M 2597 2516 \nQ 3050 2419 3304 2112 \nQ 3559 1806 3559 1356 \nQ 3559 666 3084 287 \nQ 2609 -91 1734 -91 \nQ 1441 -91 1130 -33 \nQ 819 25 488 141 \nL 488 750 \nQ 750 597 1062 519 \nQ 1375 441 1716 441 \nQ 2309 441 2620 675 \nQ 2931 909 2931 1356 \nQ 2931 1769 2642 2001 \nQ 2353 2234 1838 2234 \nL 1294 2234 \nL 1294 2753 \nL 1863 2753 \nQ 2328 2753 2575 2939 \nQ 2822 3125 2822 3475 \nQ 2822 3834 2567 4026 \nQ 2313 4219 1838 4219 \nQ 1578 4219 1281 4162 \nQ 984 4106 628 3988 \nL 628 4550 \nQ 988 4650 1302 4700 \nQ 1616 4750 1894 4750 \nQ 2613 4750 3031 4423 \nQ 3450 4097 3450 3541 \nQ 3450 3153 3228 2886 \nQ 3006 2619 2597 2516 \nz\n\" transform=\"scale(0.015625)\"/>\n       </defs>\n       <use xlink:href=\"#DejaVuSans-33\"/>\n       <use xlink:href=\"#DejaVuSans-30\" x=\"63.623047\"/>\n       <use xlink:href=\"#DejaVuSans-30\" x=\"127.246094\"/>\n       <use xlink:href=\"#DejaVuSans-30\" x=\"190.869141\"/>\n      </g>\n     </g>\n    </g>\n    <g id=\"ytick_5\">\n     <g id=\"line2d_13\">\n      <g>\n       <use xlink:href=\"#m3bd27632b8\" x=\"39.65\" y=\"119.719219\" style=\"stroke: #000000; stroke-width: 0.8\"/>\n      </g>\n     </g>\n     <g id=\"text_13\">\n      <!-- 4000 -->\n      <g transform=\"translate(7.2 123.518437)scale(0.1 -0.1)\">\n       <use xlink:href=\"#DejaVuSans-34\"/>\n       <use xlink:href=\"#DejaVuSans-30\" x=\"63.623047\"/>\n       <use xlink:href=\"#DejaVuSans-30\" x=\"127.246094\"/>\n       <use xlink:href=\"#DejaVuSans-30\" x=\"190.869141\"/>\n      </g>\n     </g>\n    </g>\n    <g id=\"ytick_6\">\n     <g id=\"line2d_14\">\n      <g>\n       <use xlink:href=\"#m3bd27632b8\" x=\"39.65\" y=\"92.539219\" style=\"stroke: #000000; stroke-width: 0.8\"/>\n      </g>\n     </g>\n     <g id=\"text_14\">\n      <!-- 5000 -->\n      <g transform=\"translate(7.2 96.338437)scale(0.1 -0.1)\">\n       <defs>\n        <path id=\"DejaVuSans-35\" d=\"M 691 4666 \nL 3169 4666 \nL 3169 4134 \nL 1269 4134 \nL 1269 2991 \nQ 1406 3038 1543 3061 \nQ 1681 3084 1819 3084 \nQ 2600 3084 3056 2656 \nQ 3513 2228 3513 1497 \nQ 3513 744 3044 326 \nQ 2575 -91 1722 -91 \nQ 1428 -91 1123 -41 \nQ 819 9 494 109 \nL 494 744 \nQ 775 591 1075 516 \nQ 1375 441 1709 441 \nQ 2250 441 2565 725 \nQ 2881 1009 2881 1497 \nQ 2881 1984 2565 2268 \nQ 2250 2553 1709 2553 \nQ 1456 2553 1204 2497 \nQ 953 2441 691 2322 \nL 691 4666 \nz\n\" transform=\"scale(0.015625)\"/>\n       </defs>\n       <use xlink:href=\"#DejaVuSans-35\"/>\n       <use xlink:href=\"#DejaVuSans-30\" x=\"63.623047\"/>\n       <use xlink:href=\"#DejaVuSans-30\" x=\"127.246094\"/>\n       <use xlink:href=\"#DejaVuSans-30\" x=\"190.869141\"/>\n      </g>\n     </g>\n    </g>\n    <g id=\"ytick_7\">\n     <g id=\"line2d_15\">\n      <g>\n       <use xlink:href=\"#m3bd27632b8\" x=\"39.65\" y=\"65.359219\" style=\"stroke: #000000; stroke-width: 0.8\"/>\n      </g>\n     </g>\n     <g id=\"text_15\">\n      <!-- 6000 -->\n      <g transform=\"translate(7.2 69.158437)scale(0.1 -0.1)\">\n       <use xlink:href=\"#DejaVuSans-36\"/>\n       <use xlink:href=\"#DejaVuSans-30\" x=\"63.623047\"/>\n       <use xlink:href=\"#DejaVuSans-30\" x=\"127.246094\"/>\n       <use xlink:href=\"#DejaVuSans-30\" x=\"190.869141\"/>\n      </g>\n     </g>\n    </g>\n    <g id=\"ytick_8\">\n     <g id=\"line2d_16\">\n      <g>\n       <use xlink:href=\"#m3bd27632b8\" x=\"39.65\" y=\"38.179219\" style=\"stroke: #000000; stroke-width: 0.8\"/>\n      </g>\n     </g>\n     <g id=\"text_16\">\n      <!-- 7000 -->\n      <g transform=\"translate(7.2 41.978437)scale(0.1 -0.1)\">\n       <defs>\n        <path id=\"DejaVuSans-37\" d=\"M 525 4666 \nL 3525 4666 \nL 3525 4397 \nL 1831 0 \nL 1172 0 \nL 2766 4134 \nL 525 4134 \nL 525 4666 \nz\n\" transform=\"scale(0.015625)\"/>\n       </defs>\n       <use xlink:href=\"#DejaVuSans-37\"/>\n       <use xlink:href=\"#DejaVuSans-30\" x=\"63.623047\"/>\n       <use xlink:href=\"#DejaVuSans-30\" x=\"127.246094\"/>\n       <use xlink:href=\"#DejaVuSans-30\" x=\"190.869141\"/>\n      </g>\n     </g>\n    </g>\n    <g id=\"ytick_9\">\n     <g id=\"line2d_17\">\n      <g>\n       <use xlink:href=\"#m3bd27632b8\" x=\"39.65\" y=\"10.999219\" style=\"stroke: #000000; stroke-width: 0.8\"/>\n      </g>\n     </g>\n     <g id=\"text_17\">\n      <!-- 8000 -->\n      <g transform=\"translate(7.2 14.798437)scale(0.1 -0.1)\">\n       <use xlink:href=\"#DejaVuSans-38\"/>\n       <use xlink:href=\"#DejaVuSans-30\" x=\"63.623047\"/>\n       <use xlink:href=\"#DejaVuSans-30\" x=\"127.246094\"/>\n       <use xlink:href=\"#DejaVuSans-30\" x=\"190.869141\"/>\n      </g>\n     </g>\n    </g>\n   </g>\n   <g id=\"patch_3\">\n    <path d=\"M 39.65 228.439219 \nL 39.65 10.999219 \n\" style=\"fill: none; stroke: #000000; stroke-width: 0.8; stroke-linejoin: miter; stroke-linecap: square\"/>\n   </g>\n   <g id=\"patch_4\">\n    <path d=\"M 374.45 228.439219 \nL 374.45 10.999219 \n\" style=\"fill: none; stroke: #000000; stroke-width: 0.8; stroke-linejoin: miter; stroke-linecap: square\"/>\n   </g>\n   <g id=\"patch_5\">\n    <path d=\"M 39.65 228.439219 \nL 374.45 228.439219 \n\" style=\"fill: none; stroke: #000000; stroke-width: 0.8; stroke-linejoin: miter; stroke-linecap: square\"/>\n   </g>\n   <g id=\"patch_6\">\n    <path d=\"M 39.65 10.999219 \nL 374.45 10.999219 \n\" style=\"fill: none; stroke: #000000; stroke-width: 0.8; stroke-linejoin: miter; stroke-linecap: square\"/>\n   </g>\n  </g>\n </g>\n</svg>\n",
      "image/png": "[encoded data removed]"
     },
     "metadata": {
      "needs_background": "light"
     }
    }
   ],
   "metadata": {}
  },
  {
   "cell_type": "code",
   "execution_count": 220,
   "source": [
    "train_transforms = transforms.Compose([transforms.RandomRotation(30),\n",
    "                                       transforms.RandomResizedCrop(224),\n",
    "                                       transforms.RandomHorizontalFlip(),\n",
    "                                       transforms.ToTensor(),\n",
    "                                       transforms.Normalize([0.485, 0.456, 0.406],\n",
    "                                                            [0.229, 0.224, 0.225])])\n",
    "test_transforms = transforms.Compose([transforms.Resize(255),\n",
    "                                      transforms.CenterCrop(224),\n",
    "                                      transforms.ToTensor(),\n",
    "                                      transforms.Normalize([0.485, 0.456, 0.406],\n",
    "                                                           [0.229, 0.224, 0.225])])\n",
    "                                                           "
   ],
   "outputs": [],
   "metadata": {}
  },
  {
   "cell_type": "code",
   "execution_count": 221,
   "source": [
    "class img2tensor():\n",
    "    def __init__(self,data_path,labels,transforms):\n",
    "        self.data_path = data_path\n",
    "        self.labels = labels\n",
    "        self.transforms = transforms\n",
    "\n",
    "    def __len__(self):\n",
    "        return len(self.data_path)\n",
    "\n",
    "        \n",
    "    def __getitem__(self, index):\n",
    "        img_path = self.data_path[index]\n",
    "        image = Image.open(img_path)\n",
    "        I = train_transforms(image)\n",
    "        label = self.labels[index]\n",
    "\n",
    "        return I, label\n",
    "        \n",
    "        "
   ],
   "outputs": [],
   "metadata": {}
  },
  {
   "cell_type": "code",
   "execution_count": 222,
   "source": [
    "# set batch_size\n",
    "batch_size = 16\n",
    "# dataloader\n",
    "train_dataloader = torch.utils.data.DataLoader(img2tensor(train_path,train_labels,train_transforms), batch_size=batch_size, shuffle=True)\n",
    "val_dataloader = torch.utils.data.DataLoader(img2tensor(val_path,val_labels,test_transforms), batch_size=batch_size, shuffle=False)\n",
    "dataloaders_dict ={'train':train_dataloader, 'val': val_dataloader}\n",
    "# test\n",
    "batch_iterator = iter(dataloaders_dict['train'])\n",
    "inputs, labels = next(batch_iterator)\n",
    "print(inputs.size())\n",
    "print(labels)"
   ],
   "outputs": [
    {
     "output_type": "stream",
     "name": "stdout",
     "text": [
      "torch.Size([16, 3, 224, 224])\n",
      "tensor([0, 2, 1, 0, 1, 3, 1, 1, 2, 1, 3, 0, 0, 1, 0, 0])\n"
     ]
    }
   ],
   "metadata": {}
  },
  {
   "cell_type": "code",
   "execution_count": null,
   "source": [],
   "outputs": [],
   "metadata": {}
  },
  {
   "cell_type": "code",
   "execution_count": 263,
   "source": [
    "# model = torchvision.models.densenet121(pretrained=True)\n",
    "model = torchvision.models.resnet34(pretrained=True)\n",
    "model.to(torch.device('cuda'))\n",
    "# model.classifier = nn.Linear(in_features=1024, out_features=4)\n",
    "model.classifier = nn.Linear(in_features=1000, out_features=4)\n",
    "criterion = nn.CrossEntropyLoss()\n",
    "optimizer = optim.RMSprop(model.parameters() ,lr=0.00001, weight_decay=1e-6, momentum=0.9)\n",
    "model.train()"
   ],
   "outputs": [
    {
     "output_type": "stream",
     "name": "stderr",
     "text": [
      "Downloading: \"https://download.pytorch.org/models/resnet34-b627a593.pth\" to /home/seojungin/.cache/torch/hub/checkpoints/resnet34-b627a593.pth\n",
      "100%|██████████| 83.3M/83.3M [00:03<00:00, 23.8MB/s]\n"
     ]
    },
    {
     "output_type": "execute_result",
     "data": {
      "text/plain": [
       "ResNet(\n",
       "  (conv1): Conv2d(3, 64, kernel_size=(7, 7), stride=(2, 2), padding=(3, 3), bias=False)\n",
       "  (bn1): BatchNorm2d(64, eps=1e-05, momentum=0.1, affine=True, track_running_stats=True)\n",
       "  (relu): ReLU(inplace=True)\n",
       "  (maxpool): MaxPool2d(kernel_size=3, stride=2, padding=1, dilation=1, ceil_mode=False)\n",
       "  (layer1): Sequential(\n",
       "    (0): BasicBlock(\n",
       "      (conv1): Conv2d(64, 64, kernel_size=(3, 3), stride=(1, 1), padding=(1, 1), bias=False)\n",
       "      (bn1): BatchNorm2d(64, eps=1e-05, momentum=0.1, affine=True, track_running_stats=True)\n",
       "      (relu): ReLU(inplace=True)\n",
       "      (conv2): Conv2d(64, 64, kernel_size=(3, 3), stride=(1, 1), padding=(1, 1), bias=False)\n",
       "      (bn2): BatchNorm2d(64, eps=1e-05, momentum=0.1, affine=True, track_running_stats=True)\n",
       "    )\n",
       "    (1): BasicBlock(\n",
       "      (conv1): Conv2d(64, 64, kernel_size=(3, 3), stride=(1, 1), padding=(1, 1), bias=False)\n",
       "      (bn1): BatchNorm2d(64, eps=1e-05, momentum=0.1, affine=True, track_running_stats=True)\n",
       "      (relu): ReLU(inplace=True)\n",
       "      (conv2): Conv2d(64, 64, kernel_size=(3, 3), stride=(1, 1), padding=(1, 1), bias=False)\n",
       "      (bn2): BatchNorm2d(64, eps=1e-05, momentum=0.1, affine=True, track_running_stats=True)\n",
       "    )\n",
       "    (2): BasicBlock(\n",
       "      (conv1): Conv2d(64, 64, kernel_size=(3, 3), stride=(1, 1), padding=(1, 1), bias=False)\n",
       "      (bn1): BatchNorm2d(64, eps=1e-05, momentum=0.1, affine=True, track_running_stats=True)\n",
       "      (relu): ReLU(inplace=True)\n",
       "      (conv2): Conv2d(64, 64, kernel_size=(3, 3), stride=(1, 1), padding=(1, 1), bias=False)\n",
       "      (bn2): BatchNorm2d(64, eps=1e-05, momentum=0.1, affine=True, track_running_stats=True)\n",
       "    )\n",
       "  )\n",
       "  (layer2): Sequential(\n",
       "    (0): BasicBlock(\n",
       "      (conv1): Conv2d(64, 128, kernel_size=(3, 3), stride=(2, 2), padding=(1, 1), bias=False)\n",
       "      (bn1): BatchNorm2d(128, eps=1e-05, momentum=0.1, affine=True, track_running_stats=True)\n",
       "      (relu): ReLU(inplace=True)\n",
       "      (conv2): Conv2d(128, 128, kernel_size=(3, 3), stride=(1, 1), padding=(1, 1), bias=False)\n",
       "      (bn2): BatchNorm2d(128, eps=1e-05, momentum=0.1, affine=True, track_running_stats=True)\n",
       "      (downsample): Sequential(\n",
       "        (0): Conv2d(64, 128, kernel_size=(1, 1), stride=(2, 2), bias=False)\n",
       "        (1): BatchNorm2d(128, eps=1e-05, momentum=0.1, affine=True, track_running_stats=True)\n",
       "      )\n",
       "    )\n",
       "    (1): BasicBlock(\n",
       "      (conv1): Conv2d(128, 128, kernel_size=(3, 3), stride=(1, 1), padding=(1, 1), bias=False)\n",
       "      (bn1): BatchNorm2d(128, eps=1e-05, momentum=0.1, affine=True, track_running_stats=True)\n",
       "      (relu): ReLU(inplace=True)\n",
       "      (conv2): Conv2d(128, 128, kernel_size=(3, 3), stride=(1, 1), padding=(1, 1), bias=False)\n",
       "      (bn2): BatchNorm2d(128, eps=1e-05, momentum=0.1, affine=True, track_running_stats=True)\n",
       "    )\n",
       "    (2): BasicBlock(\n",
       "      (conv1): Conv2d(128, 128, kernel_size=(3, 3), stride=(1, 1), padding=(1, 1), bias=False)\n",
       "      (bn1): BatchNorm2d(128, eps=1e-05, momentum=0.1, affine=True, track_running_stats=True)\n",
       "      (relu): ReLU(inplace=True)\n",
       "      (conv2): Conv2d(128, 128, kernel_size=(3, 3), stride=(1, 1), padding=(1, 1), bias=False)\n",
       "      (bn2): BatchNorm2d(128, eps=1e-05, momentum=0.1, affine=True, track_running_stats=True)\n",
       "    )\n",
       "    (3): BasicBlock(\n",
       "      (conv1): Conv2d(128, 128, kernel_size=(3, 3), stride=(1, 1), padding=(1, 1), bias=False)\n",
       "      (bn1): BatchNorm2d(128, eps=1e-05, momentum=0.1, affine=True, track_running_stats=True)\n",
       "      (relu): ReLU(inplace=True)\n",
       "      (conv2): Conv2d(128, 128, kernel_size=(3, 3), stride=(1, 1), padding=(1, 1), bias=False)\n",
       "      (bn2): BatchNorm2d(128, eps=1e-05, momentum=0.1, affine=True, track_running_stats=True)\n",
       "    )\n",
       "  )\n",
       "  (layer3): Sequential(\n",
       "    (0): BasicBlock(\n",
       "      (conv1): Conv2d(128, 256, kernel_size=(3, 3), stride=(2, 2), padding=(1, 1), bias=False)\n",
       "      (bn1): BatchNorm2d(256, eps=1e-05, momentum=0.1, affine=True, track_running_stats=True)\n",
       "      (relu): ReLU(inplace=True)\n",
       "      (conv2): Conv2d(256, 256, kernel_size=(3, 3), stride=(1, 1), padding=(1, 1), bias=False)\n",
       "      (bn2): BatchNorm2d(256, eps=1e-05, momentum=0.1, affine=True, track_running_stats=True)\n",
       "      (downsample): Sequential(\n",
       "        (0): Conv2d(128, 256, kernel_size=(1, 1), stride=(2, 2), bias=False)\n",
       "        (1): BatchNorm2d(256, eps=1e-05, momentum=0.1, affine=True, track_running_stats=True)\n",
       "      )\n",
       "    )\n",
       "    (1): BasicBlock(\n",
       "      (conv1): Conv2d(256, 256, kernel_size=(3, 3), stride=(1, 1), padding=(1, 1), bias=False)\n",
       "      (bn1): BatchNorm2d(256, eps=1e-05, momentum=0.1, affine=True, track_running_stats=True)\n",
       "      (relu): ReLU(inplace=True)\n",
       "      (conv2): Conv2d(256, 256, kernel_size=(3, 3), stride=(1, 1), padding=(1, 1), bias=False)\n",
       "      (bn2): BatchNorm2d(256, eps=1e-05, momentum=0.1, affine=True, track_running_stats=True)\n",
       "    )\n",
       "    (2): BasicBlock(\n",
       "      (conv1): Conv2d(256, 256, kernel_size=(3, 3), stride=(1, 1), padding=(1, 1), bias=False)\n",
       "      (bn1): BatchNorm2d(256, eps=1e-05, momentum=0.1, affine=True, track_running_stats=True)\n",
       "      (relu): ReLU(inplace=True)\n",
       "      (conv2): Conv2d(256, 256, kernel_size=(3, 3), stride=(1, 1), padding=(1, 1), bias=False)\n",
       "      (bn2): BatchNorm2d(256, eps=1e-05, momentum=0.1, affine=True, track_running_stats=True)\n",
       "    )\n",
       "    (3): BasicBlock(\n",
       "      (conv1): Conv2d(256, 256, kernel_size=(3, 3), stride=(1, 1), padding=(1, 1), bias=False)\n",
       "      (bn1): BatchNorm2d(256, eps=1e-05, momentum=0.1, affine=True, track_running_stats=True)\n",
       "      (relu): ReLU(inplace=True)\n",
       "      (conv2): Conv2d(256, 256, kernel_size=(3, 3), stride=(1, 1), padding=(1, 1), bias=False)\n",
       "      (bn2): BatchNorm2d(256, eps=1e-05, momentum=0.1, affine=True, track_running_stats=True)\n",
       "    )\n",
       "    (4): BasicBlock(\n",
       "      (conv1): Conv2d(256, 256, kernel_size=(3, 3), stride=(1, 1), padding=(1, 1), bias=False)\n",
       "      (bn1): BatchNorm2d(256, eps=1e-05, momentum=0.1, affine=True, track_running_stats=True)\n",
       "      (relu): ReLU(inplace=True)\n",
       "      (conv2): Conv2d(256, 256, kernel_size=(3, 3), stride=(1, 1), padding=(1, 1), bias=False)\n",
       "      (bn2): BatchNorm2d(256, eps=1e-05, momentum=0.1, affine=True, track_running_stats=True)\n",
       "    )\n",
       "    (5): BasicBlock(\n",
       "      (conv1): Conv2d(256, 256, kernel_size=(3, 3), stride=(1, 1), padding=(1, 1), bias=False)\n",
       "      (bn1): BatchNorm2d(256, eps=1e-05, momentum=0.1, affine=True, track_running_stats=True)\n",
       "      (relu): ReLU(inplace=True)\n",
       "      (conv2): Conv2d(256, 256, kernel_size=(3, 3), stride=(1, 1), padding=(1, 1), bias=False)\n",
       "      (bn2): BatchNorm2d(256, eps=1e-05, momentum=0.1, affine=True, track_running_stats=True)\n",
       "    )\n",
       "  )\n",
       "  (layer4): Sequential(\n",
       "    (0): BasicBlock(\n",
       "      (conv1): Conv2d(256, 512, kernel_size=(3, 3), stride=(2, 2), padding=(1, 1), bias=False)\n",
       "      (bn1): BatchNorm2d(512, eps=1e-05, momentum=0.1, affine=True, track_running_stats=True)\n",
       "      (relu): ReLU(inplace=True)\n",
       "      (conv2): Conv2d(512, 512, kernel_size=(3, 3), stride=(1, 1), padding=(1, 1), bias=False)\n",
       "      (bn2): BatchNorm2d(512, eps=1e-05, momentum=0.1, affine=True, track_running_stats=True)\n",
       "      (downsample): Sequential(\n",
       "        (0): Conv2d(256, 512, kernel_size=(1, 1), stride=(2, 2), bias=False)\n",
       "        (1): BatchNorm2d(512, eps=1e-05, momentum=0.1, affine=True, track_running_stats=True)\n",
       "      )\n",
       "    )\n",
       "    (1): BasicBlock(\n",
       "      (conv1): Conv2d(512, 512, kernel_size=(3, 3), stride=(1, 1), padding=(1, 1), bias=False)\n",
       "      (bn1): BatchNorm2d(512, eps=1e-05, momentum=0.1, affine=True, track_running_stats=True)\n",
       "      (relu): ReLU(inplace=True)\n",
       "      (conv2): Conv2d(512, 512, kernel_size=(3, 3), stride=(1, 1), padding=(1, 1), bias=False)\n",
       "      (bn2): BatchNorm2d(512, eps=1e-05, momentum=0.1, affine=True, track_running_stats=True)\n",
       "    )\n",
       "    (2): BasicBlock(\n",
       "      (conv1): Conv2d(512, 512, kernel_size=(3, 3), stride=(1, 1), padding=(1, 1), bias=False)\n",
       "      (bn1): BatchNorm2d(512, eps=1e-05, momentum=0.1, affine=True, track_running_stats=True)\n",
       "      (relu): ReLU(inplace=True)\n",
       "      (conv2): Conv2d(512, 512, kernel_size=(3, 3), stride=(1, 1), padding=(1, 1), bias=False)\n",
       "      (bn2): BatchNorm2d(512, eps=1e-05, momentum=0.1, affine=True, track_running_stats=True)\n",
       "    )\n",
       "  )\n",
       "  (avgpool): AdaptiveAvgPool2d(output_size=(1, 1))\n",
       "  (fc): Linear(in_features=512, out_features=1000, bias=True)\n",
       "  (classifier): Linear(in_features=1000, out_features=4, bias=True)\n",
       ")"
      ]
     },
     "metadata": {},
     "execution_count": 263
    }
   ],
   "metadata": {}
  },
  {
   "cell_type": "code",
   "execution_count": 264,
   "source": [
    "def train(net, dataloader, criterion, optimizer, num_epochs):\n",
    "    device = torch.device('cuda:0' if torch.cuda.is_available() else 'cpu')\n",
    "    print(device)\n",
    "    model.to(device)\n",
    "    torch.backends.cudnn.benchmark = True\n",
    "\n",
    "    \n",
    "    for epoch in range(num_epochs):\n",
    "        print('Epoch {}/{}'.format(epoch+1,num_epochs))\n",
    "        print('-------------------------------')\n",
    "\n",
    "        for phase in ['train','val']:\n",
    "            if phase == 'train':\n",
    "                net.train()\n",
    "            else:\n",
    "                net.eval()\n",
    "            epoch_loss = 0.0\n",
    "            epoch_corrects = 0\n",
    "\n",
    "            if (epoch == 0) and(phase == 'train'):\n",
    "                continue\n",
    "            for inputs, labels in tqdm(dataloader[phase]):\n",
    "                inputs = inputs.to(device)\n",
    "                labels = labels.to(device)\n",
    "\n",
    "                optimizer.zero_grad()\n",
    "\n",
    "                with torch.set_grad_enabled(phase == 'train'):\n",
    "                    outputs = net(inputs)\n",
    "                    loss = criterion(outputs, labels)\n",
    "                    _, preds = torch.max(outputs,1)\n",
    "\n",
    "                    if phase == 'train':\n",
    "                        loss.backward()\n",
    "                        optimizer.step()\n",
    "\n",
    "                    epoch_loss += loss.item() *inputs.size(0)\n",
    "\n",
    "                    epoch_corrects += torch.sum(preds == labels.data)\n",
    "\n",
    "                    epoch_loss = epoch_loss / len(dataloader[phase].dataset)\n",
    "                    epoch_acc = epoch_corrects.double() / len(dataloader[phase].dataset)\n",
    "\n",
    "\n",
    "            print('{} Loss: {:.4f} ACC {:.4f}'.format(\n",
    "                phase, epoch_loss, epoch_acc))\n",
    "                "
   ],
   "outputs": [],
   "metadata": {}
  },
  {
   "cell_type": "code",
   "execution_count": 265,
   "source": [
    "train(model, dataloaders_dict, criterion,optimizer, num_epochs=200)"
   ],
   "outputs": [
    {
     "output_type": "stream",
     "name": "stdout",
     "text": [
      "cuda:0\n",
      "Epoch 1/200\n",
      "-------------------------------\n"
     ]
    },
    {
     "output_type": "stream",
     "name": "stderr",
     "text": [
      "100%|██████████| 86/86 [00:04<00:00, 21.33it/s]\n"
     ]
    },
    {
     "output_type": "stream",
     "name": "stdout",
     "text": [
      "val Loss: 0.0779 ACC 0.0000\n",
      "Epoch 2/200\n",
      "-------------------------------\n"
     ]
    },
    {
     "output_type": "stream",
     "name": "stderr",
     "text": [
      "100%|██████████| 300/300 [00:22<00:00, 13.34it/s]\n"
     ]
    },
    {
     "output_type": "stream",
     "name": "stdout",
     "text": [
      "train Loss: 0.0033 ACC 0.3797\n"
     ]
    },
    {
     "output_type": "stream",
     "name": "stderr",
     "text": [
      "100%|██████████| 86/86 [00:03<00:00, 23.11it/s]\n"
     ]
    },
    {
     "output_type": "stream",
     "name": "stdout",
     "text": [
      "val Loss: 0.0097 ACC 0.4139\n",
      "Epoch 3/200\n",
      "-------------------------------\n"
     ]
    },
    {
     "output_type": "stream",
     "name": "stderr",
     "text": [
      "100%|██████████| 300/300 [00:22<00:00, 13.43it/s]\n"
     ]
    },
    {
     "output_type": "stream",
     "name": "stdout",
     "text": [
      "train Loss: 0.0026 ACC 0.4404\n"
     ]
    },
    {
     "output_type": "stream",
     "name": "stderr",
     "text": [
      "100%|██████████| 86/86 [00:03<00:00, 22.67it/s]\n"
     ]
    },
    {
     "output_type": "stream",
     "name": "stdout",
     "text": [
      "val Loss: 0.0086 ACC 0.4562\n",
      "Epoch 4/200\n",
      "-------------------------------\n"
     ]
    },
    {
     "output_type": "stream",
     "name": "stderr",
     "text": [
      "100%|██████████| 300/300 [00:21<00:00, 13.66it/s]\n"
     ]
    },
    {
     "output_type": "stream",
     "name": "stdout",
     "text": [
      "train Loss: 0.0023 ACC 0.4714\n"
     ]
    },
    {
     "output_type": "stream",
     "name": "stderr",
     "text": [
      "100%|██████████| 86/86 [00:03<00:00, 23.13it/s]\n"
     ]
    },
    {
     "output_type": "stream",
     "name": "stdout",
     "text": [
      "val Loss: 0.0066 ACC 0.4584\n",
      "Epoch 5/200\n",
      "-------------------------------\n"
     ]
    },
    {
     "output_type": "stream",
     "name": "stderr",
     "text": [
      "100%|██████████| 300/300 [00:21<00:00, 13.68it/s]\n"
     ]
    },
    {
     "output_type": "stream",
     "name": "stdout",
     "text": [
      "train Loss: 0.0033 ACC 0.4946\n"
     ]
    },
    {
     "output_type": "stream",
     "name": "stderr",
     "text": [
      "100%|██████████| 86/86 [00:03<00:00, 23.29it/s]\n"
     ]
    },
    {
     "output_type": "stream",
     "name": "stdout",
     "text": [
      "val Loss: 0.0072 ACC 0.4920\n",
      "Epoch 6/200\n",
      "-------------------------------\n"
     ]
    },
    {
     "output_type": "stream",
     "name": "stderr",
     "text": [
      "100%|██████████| 300/300 [00:21<00:00, 13.69it/s]\n"
     ]
    },
    {
     "output_type": "stream",
     "name": "stdout",
     "text": [
      "train Loss: 0.0024 ACC 0.5090\n"
     ]
    },
    {
     "output_type": "stream",
     "name": "stderr",
     "text": [
      "100%|██████████| 86/86 [00:03<00:00, 23.22it/s]\n"
     ]
    },
    {
     "output_type": "stream",
     "name": "stdout",
     "text": [
      "val Loss: 0.0062 ACC 0.4956\n",
      "Epoch 7/200\n",
      "-------------------------------\n"
     ]
    },
    {
     "output_type": "stream",
     "name": "stderr",
     "text": [
      "100%|██████████| 300/300 [00:21<00:00, 13.76it/s]\n"
     ]
    },
    {
     "output_type": "stream",
     "name": "stdout",
     "text": [
      "train Loss: 0.0031 ACC 0.5244\n"
     ]
    },
    {
     "output_type": "stream",
     "name": "stderr",
     "text": [
      "100%|██████████| 86/86 [00:03<00:00, 23.08it/s]\n"
     ]
    },
    {
     "output_type": "stream",
     "name": "stdout",
     "text": [
      "val Loss: 0.0078 ACC 0.4964\n",
      "Epoch 8/200\n",
      "-------------------------------\n"
     ]
    },
    {
     "output_type": "stream",
     "name": "stderr",
     "text": [
      "100%|██████████| 300/300 [00:21<00:00, 13.71it/s]\n"
     ]
    },
    {
     "output_type": "stream",
     "name": "stdout",
     "text": [
      "train Loss: 0.0030 ACC 0.5446\n"
     ]
    },
    {
     "output_type": "stream",
     "name": "stderr",
     "text": [
      "100%|██████████| 86/86 [00:03<00:00, 23.07it/s]\n"
     ]
    },
    {
     "output_type": "stream",
     "name": "stdout",
     "text": [
      "val Loss: 0.0088 ACC 0.5015\n",
      "Epoch 9/200\n",
      "-------------------------------\n"
     ]
    },
    {
     "output_type": "stream",
     "name": "stderr",
     "text": [
      "100%|██████████| 300/300 [00:21<00:00, 13.70it/s]\n"
     ]
    },
    {
     "output_type": "stream",
     "name": "stdout",
     "text": [
      "train Loss: 0.0028 ACC 0.5603\n"
     ]
    },
    {
     "output_type": "stream",
     "name": "stderr",
     "text": [
      "100%|██████████| 86/86 [00:03<00:00, 23.01it/s]\n"
     ]
    },
    {
     "output_type": "stream",
     "name": "stdout",
     "text": [
      "val Loss: 0.0073 ACC 0.5496\n",
      "Epoch 10/200\n",
      "-------------------------------\n"
     ]
    },
    {
     "output_type": "stream",
     "name": "stderr",
     "text": [
      "100%|██████████| 300/300 [00:21<00:00, 13.74it/s]\n"
     ]
    },
    {
     "output_type": "stream",
     "name": "stdout",
     "text": [
      "train Loss: 0.0019 ACC 0.5713\n"
     ]
    },
    {
     "output_type": "stream",
     "name": "stderr",
     "text": [
      "100%|██████████| 86/86 [00:03<00:00, 22.85it/s]\n"
     ]
    },
    {
     "output_type": "stream",
     "name": "stdout",
     "text": [
      "val Loss: 0.0065 ACC 0.5810\n",
      "Epoch 11/200\n",
      "-------------------------------\n"
     ]
    },
    {
     "output_type": "stream",
     "name": "stderr",
     "text": [
      "100%|██████████| 300/300 [00:21<00:00, 13.74it/s]\n"
     ]
    },
    {
     "output_type": "stream",
     "name": "stdout",
     "text": [
      "train Loss: 0.0029 ACC 0.5776\n"
     ]
    },
    {
     "output_type": "stream",
     "name": "stderr",
     "text": [
      "100%|██████████| 86/86 [00:03<00:00, 23.14it/s]\n"
     ]
    },
    {
     "output_type": "stream",
     "name": "stdout",
     "text": [
      "val Loss: 0.0068 ACC 0.5518\n",
      "Epoch 12/200\n",
      "-------------------------------\n"
     ]
    },
    {
     "output_type": "stream",
     "name": "stderr",
     "text": [
      "100%|██████████| 300/300 [00:21<00:00, 13.67it/s]\n"
     ]
    },
    {
     "output_type": "stream",
     "name": "stdout",
     "text": [
      "train Loss: 0.0029 ACC 0.5922\n"
     ]
    },
    {
     "output_type": "stream",
     "name": "stderr",
     "text": [
      "100%|██████████| 86/86 [00:03<00:00, 23.44it/s]\n"
     ]
    },
    {
     "output_type": "stream",
     "name": "stdout",
     "text": [
      "val Loss: 0.0055 ACC 0.5474\n",
      "Epoch 13/200\n",
      "-------------------------------\n"
     ]
    },
    {
     "output_type": "stream",
     "name": "stderr",
     "text": [
      "100%|██████████| 300/300 [00:22<00:00, 13.63it/s]\n"
     ]
    },
    {
     "output_type": "stream",
     "name": "stdout",
     "text": [
      "train Loss: 0.0018 ACC 0.5976\n"
     ]
    },
    {
     "output_type": "stream",
     "name": "stderr",
     "text": [
      "100%|██████████| 86/86 [00:03<00:00, 22.96it/s]\n"
     ]
    },
    {
     "output_type": "stream",
     "name": "stdout",
     "text": [
      "val Loss: 0.0106 ACC 0.5591\n",
      "Epoch 14/200\n",
      "-------------------------------\n"
     ]
    },
    {
     "output_type": "stream",
     "name": "stderr",
     "text": [
      "100%|██████████| 300/300 [00:21<00:00, 13.72it/s]\n"
     ]
    },
    {
     "output_type": "stream",
     "name": "stdout",
     "text": [
      "train Loss: 0.0019 ACC 0.6036\n"
     ]
    },
    {
     "output_type": "stream",
     "name": "stderr",
     "text": [
      "100%|██████████| 86/86 [00:03<00:00, 22.98it/s]\n"
     ]
    },
    {
     "output_type": "stream",
     "name": "stdout",
     "text": [
      "val Loss: 0.0070 ACC 0.5613\n",
      "Epoch 15/200\n",
      "-------------------------------\n"
     ]
    },
    {
     "output_type": "stream",
     "name": "stderr",
     "text": [
      "100%|██████████| 300/300 [00:21<00:00, 13.68it/s]\n"
     ]
    },
    {
     "output_type": "stream",
     "name": "stdout",
     "text": [
      "train Loss: 0.0021 ACC 0.6297\n"
     ]
    },
    {
     "output_type": "stream",
     "name": "stderr",
     "text": [
      "100%|██████████| 86/86 [00:03<00:00, 22.95it/s]\n"
     ]
    },
    {
     "output_type": "stream",
     "name": "stdout",
     "text": [
      "val Loss: 0.0050 ACC 0.5876\n",
      "Epoch 16/200\n",
      "-------------------------------\n"
     ]
    },
    {
     "output_type": "stream",
     "name": "stderr",
     "text": [
      "100%|██████████| 300/300 [00:22<00:00, 13.63it/s]\n"
     ]
    },
    {
     "output_type": "stream",
     "name": "stdout",
     "text": [
      "train Loss: 0.0018 ACC 0.6305\n"
     ]
    },
    {
     "output_type": "stream",
     "name": "stderr",
     "text": [
      "100%|██████████| 86/86 [00:03<00:00, 22.83it/s]\n"
     ]
    },
    {
     "output_type": "stream",
     "name": "stdout",
     "text": [
      "val Loss: 0.0056 ACC 0.5781\n",
      "Epoch 17/200\n",
      "-------------------------------\n"
     ]
    },
    {
     "output_type": "stream",
     "name": "stderr",
     "text": [
      "100%|██████████| 300/300 [00:22<00:00, 13.61it/s]\n"
     ]
    },
    {
     "output_type": "stream",
     "name": "stdout",
     "text": [
      "train Loss: 0.0023 ACC 0.6418\n"
     ]
    },
    {
     "output_type": "stream",
     "name": "stderr",
     "text": [
      "100%|██████████| 86/86 [00:03<00:00, 23.02it/s]\n"
     ]
    },
    {
     "output_type": "stream",
     "name": "stdout",
     "text": [
      "val Loss: 0.0062 ACC 0.5504\n",
      "Epoch 18/200\n",
      "-------------------------------\n"
     ]
    },
    {
     "output_type": "stream",
     "name": "stderr",
     "text": [
      "100%|██████████| 300/300 [00:21<00:00, 13.68it/s]\n"
     ]
    },
    {
     "output_type": "stream",
     "name": "stdout",
     "text": [
      "train Loss: 0.0039 ACC 0.6455\n"
     ]
    },
    {
     "output_type": "stream",
     "name": "stderr",
     "text": [
      "100%|██████████| 86/86 [00:03<00:00, 23.14it/s]\n"
     ]
    },
    {
     "output_type": "stream",
     "name": "stdout",
     "text": [
      "val Loss: 0.0057 ACC 0.5905\n",
      "Epoch 19/200\n",
      "-------------------------------\n"
     ]
    },
    {
     "output_type": "stream",
     "name": "stderr",
     "text": [
      "100%|██████████| 300/300 [00:21<00:00, 13.70it/s]\n"
     ]
    },
    {
     "output_type": "stream",
     "name": "stdout",
     "text": [
      "train Loss: 0.0025 ACC 0.6457\n"
     ]
    },
    {
     "output_type": "stream",
     "name": "stderr",
     "text": [
      "100%|██████████| 86/86 [00:03<00:00, 22.91it/s]\n"
     ]
    },
    {
     "output_type": "stream",
     "name": "stdout",
     "text": [
      "val Loss: 0.0039 ACC 0.6307\n",
      "Epoch 20/200\n",
      "-------------------------------\n"
     ]
    },
    {
     "output_type": "stream",
     "name": "stderr",
     "text": [
      "100%|██████████| 300/300 [00:21<00:00, 13.68it/s]\n"
     ]
    },
    {
     "output_type": "stream",
     "name": "stdout",
     "text": [
      "train Loss: 0.0027 ACC 0.6626\n"
     ]
    },
    {
     "output_type": "stream",
     "name": "stderr",
     "text": [
      "100%|██████████| 86/86 [00:03<00:00, 22.24it/s]\n"
     ]
    },
    {
     "output_type": "stream",
     "name": "stdout",
     "text": [
      "val Loss: 0.0042 ACC 0.6234\n",
      "Epoch 21/200\n",
      "-------------------------------\n"
     ]
    },
    {
     "output_type": "stream",
     "name": "stderr",
     "text": [
      "100%|██████████| 300/300 [00:22<00:00, 13.45it/s]\n"
     ]
    },
    {
     "output_type": "stream",
     "name": "stdout",
     "text": [
      "train Loss: 0.0026 ACC 0.6670\n"
     ]
    },
    {
     "output_type": "stream",
     "name": "stderr",
     "text": [
      "100%|██████████| 86/86 [00:03<00:00, 22.81it/s]\n"
     ]
    },
    {
     "output_type": "stream",
     "name": "stdout",
     "text": [
      "val Loss: 0.0070 ACC 0.5664\n",
      "Epoch 22/200\n",
      "-------------------------------\n"
     ]
    },
    {
     "output_type": "stream",
     "name": "stderr",
     "text": [
      "100%|██████████| 300/300 [00:22<00:00, 13.62it/s]\n"
     ]
    },
    {
     "output_type": "stream",
     "name": "stdout",
     "text": [
      "train Loss: 0.0021 ACC 0.6804\n"
     ]
    },
    {
     "output_type": "stream",
     "name": "stderr",
     "text": [
      "100%|██████████| 86/86 [00:03<00:00, 23.22it/s]\n"
     ]
    },
    {
     "output_type": "stream",
     "name": "stdout",
     "text": [
      "val Loss: 0.0054 ACC 0.6387\n",
      "Epoch 23/200\n",
      "-------------------------------\n"
     ]
    },
    {
     "output_type": "stream",
     "name": "stderr",
     "text": [
      "100%|██████████| 300/300 [00:21<00:00, 13.68it/s]\n"
     ]
    },
    {
     "output_type": "stream",
     "name": "stdout",
     "text": [
      "train Loss: 0.0019 ACC 0.6952\n"
     ]
    },
    {
     "output_type": "stream",
     "name": "stderr",
     "text": [
      "100%|██████████| 86/86 [00:03<00:00, 22.91it/s]\n"
     ]
    },
    {
     "output_type": "stream",
     "name": "stdout",
     "text": [
      "val Loss: 0.0062 ACC 0.6241\n",
      "Epoch 24/200\n",
      "-------------------------------\n"
     ]
    },
    {
     "output_type": "stream",
     "name": "stderr",
     "text": [
      "100%|██████████| 300/300 [00:22<00:00, 13.63it/s]\n"
     ]
    },
    {
     "output_type": "stream",
     "name": "stdout",
     "text": [
      "train Loss: 0.0028 ACC 0.7077\n"
     ]
    },
    {
     "output_type": "stream",
     "name": "stderr",
     "text": [
      "100%|██████████| 86/86 [00:03<00:00, 23.14it/s]\n"
     ]
    },
    {
     "output_type": "stream",
     "name": "stdout",
     "text": [
      "val Loss: 0.0085 ACC 0.6095\n",
      "Epoch 25/200\n",
      "-------------------------------\n"
     ]
    },
    {
     "output_type": "stream",
     "name": "stderr",
     "text": [
      "100%|██████████| 300/300 [00:22<00:00, 13.61it/s]\n"
     ]
    },
    {
     "output_type": "stream",
     "name": "stdout",
     "text": [
      "train Loss: 0.0011 ACC 0.7035\n"
     ]
    },
    {
     "output_type": "stream",
     "name": "stderr",
     "text": [
      "100%|██████████| 86/86 [00:03<00:00, 22.97it/s]\n"
     ]
    },
    {
     "output_type": "stream",
     "name": "stdout",
     "text": [
      "val Loss: 0.0077 ACC 0.6102\n",
      "Epoch 26/200\n",
      "-------------------------------\n"
     ]
    },
    {
     "output_type": "stream",
     "name": "stderr",
     "text": [
      "100%|██████████| 300/300 [00:22<00:00, 13.60it/s]\n"
     ]
    },
    {
     "output_type": "stream",
     "name": "stdout",
     "text": [
      "train Loss: 0.0012 ACC 0.7100\n"
     ]
    },
    {
     "output_type": "stream",
     "name": "stderr",
     "text": [
      "100%|██████████| 86/86 [00:03<00:00, 22.04it/s]\n"
     ]
    },
    {
     "output_type": "stream",
     "name": "stdout",
     "text": [
      "val Loss: 0.0047 ACC 0.6431\n",
      "Epoch 27/200\n",
      "-------------------------------\n"
     ]
    },
    {
     "output_type": "stream",
     "name": "stderr",
     "text": [
      "100%|██████████| 300/300 [00:21<00:00, 13.69it/s]\n"
     ]
    },
    {
     "output_type": "stream",
     "name": "stdout",
     "text": [
      "train Loss: 0.0010 ACC 0.7221\n"
     ]
    },
    {
     "output_type": "stream",
     "name": "stderr",
     "text": [
      "100%|██████████| 86/86 [00:03<00:00, 23.47it/s]\n"
     ]
    },
    {
     "output_type": "stream",
     "name": "stdout",
     "text": [
      "val Loss: 0.0075 ACC 0.6423\n",
      "Epoch 28/200\n",
      "-------------------------------\n"
     ]
    },
    {
     "output_type": "stream",
     "name": "stderr",
     "text": [
      "100%|██████████| 300/300 [00:22<00:00, 13.53it/s]\n"
     ]
    },
    {
     "output_type": "stream",
     "name": "stdout",
     "text": [
      "train Loss: 0.0014 ACC 0.7252\n"
     ]
    },
    {
     "output_type": "stream",
     "name": "stderr",
     "text": [
      "100%|██████████| 86/86 [00:03<00:00, 23.00it/s]\n"
     ]
    },
    {
     "output_type": "stream",
     "name": "stdout",
     "text": [
      "val Loss: 0.0047 ACC 0.6467\n",
      "Epoch 29/200\n",
      "-------------------------------\n"
     ]
    },
    {
     "output_type": "stream",
     "name": "stderr",
     "text": [
      "100%|██████████| 300/300 [00:21<00:00, 13.64it/s]\n"
     ]
    },
    {
     "output_type": "stream",
     "name": "stdout",
     "text": [
      "train Loss: 0.0016 ACC 0.7179\n"
     ]
    },
    {
     "output_type": "stream",
     "name": "stderr",
     "text": [
      "100%|██████████| 86/86 [00:03<00:00, 23.02it/s]\n"
     ]
    },
    {
     "output_type": "stream",
     "name": "stdout",
     "text": [
      "val Loss: 0.0026 ACC 0.6504\n",
      "Epoch 30/200\n",
      "-------------------------------\n"
     ]
    },
    {
     "output_type": "stream",
     "name": "stderr",
     "text": [
      "100%|██████████| 300/300 [00:21<00:00, 13.69it/s]\n"
     ]
    },
    {
     "output_type": "stream",
     "name": "stdout",
     "text": [
      "train Loss: 0.0011 ACC 0.7327\n"
     ]
    },
    {
     "output_type": "stream",
     "name": "stderr",
     "text": [
      "100%|██████████| 86/86 [00:03<00:00, 22.97it/s]\n"
     ]
    },
    {
     "output_type": "stream",
     "name": "stdout",
     "text": [
      "val Loss: 0.0061 ACC 0.6686\n",
      "Epoch 31/200\n",
      "-------------------------------\n"
     ]
    },
    {
     "output_type": "stream",
     "name": "stderr",
     "text": [
      "100%|██████████| 300/300 [00:21<00:00, 13.81it/s]\n"
     ]
    },
    {
     "output_type": "stream",
     "name": "stdout",
     "text": [
      "train Loss: 0.0008 ACC 0.7465\n"
     ]
    },
    {
     "output_type": "stream",
     "name": "stderr",
     "text": [
      "100%|██████████| 86/86 [00:03<00:00, 23.15it/s]\n"
     ]
    },
    {
     "output_type": "stream",
     "name": "stdout",
     "text": [
      "val Loss: 0.0042 ACC 0.6810\n",
      "Epoch 32/200\n",
      "-------------------------------\n"
     ]
    },
    {
     "output_type": "stream",
     "name": "stderr",
     "text": [
      "100%|██████████| 300/300 [00:21<00:00, 13.65it/s]\n"
     ]
    },
    {
     "output_type": "stream",
     "name": "stdout",
     "text": [
      "train Loss: 0.0024 ACC 0.7469\n"
     ]
    },
    {
     "output_type": "stream",
     "name": "stderr",
     "text": [
      "100%|██████████| 86/86 [00:03<00:00, 23.24it/s]\n"
     ]
    },
    {
     "output_type": "stream",
     "name": "stdout",
     "text": [
      "val Loss: 0.0093 ACC 0.6635\n",
      "Epoch 33/200\n",
      "-------------------------------\n"
     ]
    },
    {
     "output_type": "stream",
     "name": "stderr",
     "text": [
      "100%|██████████| 300/300 [00:21<00:00, 13.69it/s]\n"
     ]
    },
    {
     "output_type": "stream",
     "name": "stdout",
     "text": [
      "train Loss: 0.0024 ACC 0.7442\n"
     ]
    },
    {
     "output_type": "stream",
     "name": "stderr",
     "text": [
      "100%|██████████| 86/86 [00:03<00:00, 22.72it/s]\n"
     ]
    },
    {
     "output_type": "stream",
     "name": "stdout",
     "text": [
      "val Loss: 0.0023 ACC 0.6818\n",
      "Epoch 34/200\n",
      "-------------------------------\n"
     ]
    },
    {
     "output_type": "stream",
     "name": "stderr",
     "text": [
      "100%|██████████| 300/300 [00:21<00:00, 13.72it/s]\n"
     ]
    },
    {
     "output_type": "stream",
     "name": "stdout",
     "text": [
      "train Loss: 0.0024 ACC 0.7540\n"
     ]
    },
    {
     "output_type": "stream",
     "name": "stderr",
     "text": [
      "100%|██████████| 86/86 [00:03<00:00, 22.66it/s]\n"
     ]
    },
    {
     "output_type": "stream",
     "name": "stdout",
     "text": [
      "val Loss: 0.0038 ACC 0.6869\n",
      "Epoch 35/200\n",
      "-------------------------------\n"
     ]
    },
    {
     "output_type": "stream",
     "name": "stderr",
     "text": [
      "100%|██████████| 300/300 [00:21<00:00, 13.66it/s]\n"
     ]
    },
    {
     "output_type": "stream",
     "name": "stdout",
     "text": [
      "train Loss: 0.0030 ACC 0.7673\n"
     ]
    },
    {
     "output_type": "stream",
     "name": "stderr",
     "text": [
      "100%|██████████| 86/86 [00:03<00:00, 21.82it/s]\n"
     ]
    },
    {
     "output_type": "stream",
     "name": "stdout",
     "text": [
      "val Loss: 0.0042 ACC 0.6876\n",
      "Epoch 36/200\n",
      "-------------------------------\n"
     ]
    },
    {
     "output_type": "stream",
     "name": "stderr",
     "text": [
      "100%|██████████| 300/300 [00:21<00:00, 13.67it/s]\n"
     ]
    },
    {
     "output_type": "stream",
     "name": "stdout",
     "text": [
      "train Loss: 0.0023 ACC 0.7529\n"
     ]
    },
    {
     "output_type": "stream",
     "name": "stderr",
     "text": [
      "100%|██████████| 86/86 [00:03<00:00, 22.34it/s]\n"
     ]
    },
    {
     "output_type": "stream",
     "name": "stdout",
     "text": [
      "val Loss: 0.0048 ACC 0.7022\n",
      "Epoch 37/200\n",
      "-------------------------------\n"
     ]
    },
    {
     "output_type": "stream",
     "name": "stderr",
     "text": [
      "100%|██████████| 300/300 [00:21<00:00, 13.70it/s]\n"
     ]
    },
    {
     "output_type": "stream",
     "name": "stdout",
     "text": [
      "train Loss: 0.0016 ACC 0.7656\n"
     ]
    },
    {
     "output_type": "stream",
     "name": "stderr",
     "text": [
      "100%|██████████| 86/86 [00:03<00:00, 22.77it/s]\n"
     ]
    },
    {
     "output_type": "stream",
     "name": "stdout",
     "text": [
      "val Loss: 0.0044 ACC 0.6920\n",
      "Epoch 38/200\n",
      "-------------------------------\n"
     ]
    },
    {
     "output_type": "stream",
     "name": "stderr",
     "text": [
      "100%|██████████| 300/300 [00:22<00:00, 13.58it/s]\n"
     ]
    },
    {
     "output_type": "stream",
     "name": "stdout",
     "text": [
      "train Loss: 0.0025 ACC 0.7771\n"
     ]
    },
    {
     "output_type": "stream",
     "name": "stderr",
     "text": [
      "100%|██████████| 86/86 [00:03<00:00, 22.91it/s]\n"
     ]
    },
    {
     "output_type": "stream",
     "name": "stdout",
     "text": [
      "val Loss: 0.0024 ACC 0.7153\n",
      "Epoch 39/200\n",
      "-------------------------------\n"
     ]
    },
    {
     "output_type": "stream",
     "name": "stderr",
     "text": [
      "100%|██████████| 300/300 [00:22<00:00, 13.62it/s]\n"
     ]
    },
    {
     "output_type": "stream",
     "name": "stdout",
     "text": [
      "train Loss: 0.0016 ACC 0.7832\n"
     ]
    },
    {
     "output_type": "stream",
     "name": "stderr",
     "text": [
      "100%|██████████| 86/86 [00:03<00:00, 22.37it/s]\n"
     ]
    },
    {
     "output_type": "stream",
     "name": "stdout",
     "text": [
      "val Loss: 0.0031 ACC 0.7146\n",
      "Epoch 40/200\n",
      "-------------------------------\n"
     ]
    },
    {
     "output_type": "stream",
     "name": "stderr",
     "text": [
      "100%|██████████| 300/300 [00:22<00:00, 13.60it/s]\n"
     ]
    },
    {
     "output_type": "stream",
     "name": "stdout",
     "text": [
      "train Loss: 0.0008 ACC 0.7923\n"
     ]
    },
    {
     "output_type": "stream",
     "name": "stderr",
     "text": [
      "100%|██████████| 86/86 [00:03<00:00, 23.23it/s]\n"
     ]
    },
    {
     "output_type": "stream",
     "name": "stdout",
     "text": [
      "val Loss: 0.0043 ACC 0.6701\n",
      "Epoch 41/200\n",
      "-------------------------------\n"
     ]
    },
    {
     "output_type": "stream",
     "name": "stderr",
     "text": [
      "100%|██████████| 300/300 [00:21<00:00, 13.70it/s]\n"
     ]
    },
    {
     "output_type": "stream",
     "name": "stdout",
     "text": [
      "train Loss: 0.0007 ACC 0.7769\n"
     ]
    },
    {
     "output_type": "stream",
     "name": "stderr",
     "text": [
      "100%|██████████| 86/86 [00:03<00:00, 23.14it/s]\n"
     ]
    },
    {
     "output_type": "stream",
     "name": "stdout",
     "text": [
      "val Loss: 0.0033 ACC 0.6985\n",
      "Epoch 42/200\n",
      "-------------------------------\n"
     ]
    },
    {
     "output_type": "stream",
     "name": "stderr",
     "text": [
      "100%|██████████| 300/300 [00:21<00:00, 13.69it/s]\n"
     ]
    },
    {
     "output_type": "stream",
     "name": "stdout",
     "text": [
      "train Loss: 0.0004 ACC 0.7869\n"
     ]
    },
    {
     "output_type": "stream",
     "name": "stderr",
     "text": [
      "100%|██████████| 86/86 [00:03<00:00, 22.56it/s]\n"
     ]
    },
    {
     "output_type": "stream",
     "name": "stdout",
     "text": [
      "val Loss: 0.0028 ACC 0.7088\n",
      "Epoch 43/200\n",
      "-------------------------------\n"
     ]
    },
    {
     "output_type": "stream",
     "name": "stderr",
     "text": [
      "100%|██████████| 300/300 [00:22<00:00, 13.51it/s]\n"
     ]
    },
    {
     "output_type": "stream",
     "name": "stdout",
     "text": [
      "train Loss: 0.0015 ACC 0.7921\n"
     ]
    },
    {
     "output_type": "stream",
     "name": "stderr",
     "text": [
      "100%|██████████| 86/86 [00:03<00:00, 23.49it/s]\n"
     ]
    },
    {
     "output_type": "stream",
     "name": "stdout",
     "text": [
      "val Loss: 0.0049 ACC 0.7131\n",
      "Epoch 44/200\n",
      "-------------------------------\n"
     ]
    },
    {
     "output_type": "stream",
     "name": "stderr",
     "text": [
      "100%|██████████| 300/300 [00:21<00:00, 13.71it/s]\n"
     ]
    },
    {
     "output_type": "stream",
     "name": "stdout",
     "text": [
      "train Loss: 0.0013 ACC 0.7936\n"
     ]
    },
    {
     "output_type": "stream",
     "name": "stderr",
     "text": [
      "100%|██████████| 86/86 [00:03<00:00, 23.07it/s]\n"
     ]
    },
    {
     "output_type": "stream",
     "name": "stdout",
     "text": [
      "val Loss: 0.0055 ACC 0.7270\n",
      "Epoch 45/200\n",
      "-------------------------------\n"
     ]
    },
    {
     "output_type": "stream",
     "name": "stderr",
     "text": [
      "100%|██████████| 300/300 [00:21<00:00, 13.73it/s]\n"
     ]
    },
    {
     "output_type": "stream",
     "name": "stdout",
     "text": [
      "train Loss: 0.0015 ACC 0.7871\n"
     ]
    },
    {
     "output_type": "stream",
     "name": "stderr",
     "text": [
      "100%|██████████| 86/86 [00:03<00:00, 22.95it/s]\n"
     ]
    },
    {
     "output_type": "stream",
     "name": "stdout",
     "text": [
      "val Loss: 0.0042 ACC 0.7190\n",
      "Epoch 46/200\n",
      "-------------------------------\n"
     ]
    },
    {
     "output_type": "stream",
     "name": "stderr",
     "text": [
      "100%|██████████| 300/300 [00:21<00:00, 13.83it/s]\n"
     ]
    },
    {
     "output_type": "stream",
     "name": "stdout",
     "text": [
      "train Loss: 0.0009 ACC 0.8015\n"
     ]
    },
    {
     "output_type": "stream",
     "name": "stderr",
     "text": [
      "100%|██████████| 86/86 [00:03<00:00, 23.39it/s]\n"
     ]
    },
    {
     "output_type": "stream",
     "name": "stdout",
     "text": [
      "val Loss: 0.0057 ACC 0.6825\n",
      "Epoch 47/200\n",
      "-------------------------------\n"
     ]
    },
    {
     "output_type": "stream",
     "name": "stderr",
     "text": [
      "100%|██████████| 300/300 [00:21<00:00, 13.64it/s]\n"
     ]
    },
    {
     "output_type": "stream",
     "name": "stdout",
     "text": [
      "train Loss: 0.0018 ACC 0.8028\n"
     ]
    },
    {
     "output_type": "stream",
     "name": "stderr",
     "text": [
      "100%|██████████| 86/86 [00:03<00:00, 22.93it/s]\n"
     ]
    },
    {
     "output_type": "stream",
     "name": "stdout",
     "text": [
      "val Loss: 0.0063 ACC 0.7248\n",
      "Epoch 48/200\n",
      "-------------------------------\n"
     ]
    },
    {
     "output_type": "stream",
     "name": "stderr",
     "text": [
      "100%|██████████| 300/300 [00:21<00:00, 13.70it/s]\n"
     ]
    },
    {
     "output_type": "stream",
     "name": "stdout",
     "text": [
      "train Loss: 0.0012 ACC 0.8061\n"
     ]
    },
    {
     "output_type": "stream",
     "name": "stderr",
     "text": [
      "100%|██████████| 86/86 [00:03<00:00, 23.46it/s]\n"
     ]
    },
    {
     "output_type": "stream",
     "name": "stdout",
     "text": [
      "val Loss: 0.0045 ACC 0.7416\n",
      "Epoch 49/200\n",
      "-------------------------------\n"
     ]
    },
    {
     "output_type": "stream",
     "name": "stderr",
     "text": [
      "100%|██████████| 300/300 [00:21<00:00, 13.72it/s]\n"
     ]
    },
    {
     "output_type": "stream",
     "name": "stdout",
     "text": [
      "train Loss: 0.0015 ACC 0.8103\n"
     ]
    },
    {
     "output_type": "stream",
     "name": "stderr",
     "text": [
      "100%|██████████| 86/86 [00:03<00:00, 22.63it/s]\n"
     ]
    },
    {
     "output_type": "stream",
     "name": "stdout",
     "text": [
      "val Loss: 0.0052 ACC 0.7161\n",
      "Epoch 50/200\n",
      "-------------------------------\n"
     ]
    },
    {
     "output_type": "stream",
     "name": "stderr",
     "text": [
      "100%|██████████| 300/300 [00:22<00:00, 13.52it/s]\n"
     ]
    },
    {
     "output_type": "stream",
     "name": "stdout",
     "text": [
      "train Loss: 0.0010 ACC 0.8159\n"
     ]
    },
    {
     "output_type": "stream",
     "name": "stderr",
     "text": [
      "100%|██████████| 86/86 [00:03<00:00, 22.79it/s]\n"
     ]
    },
    {
     "output_type": "stream",
     "name": "stdout",
     "text": [
      "val Loss: 0.0040 ACC 0.7350\n",
      "Epoch 51/200\n",
      "-------------------------------\n"
     ]
    },
    {
     "output_type": "stream",
     "name": "stderr",
     "text": [
      "100%|██████████| 300/300 [00:22<00:00, 13.56it/s]\n"
     ]
    },
    {
     "output_type": "stream",
     "name": "stdout",
     "text": [
      "train Loss: 0.0018 ACC 0.8169\n"
     ]
    },
    {
     "output_type": "stream",
     "name": "stderr",
     "text": [
      "100%|██████████| 86/86 [00:03<00:00, 22.93it/s]\n"
     ]
    },
    {
     "output_type": "stream",
     "name": "stdout",
     "text": [
      "val Loss: 0.0052 ACC 0.7285\n",
      "Epoch 52/200\n",
      "-------------------------------\n"
     ]
    },
    {
     "output_type": "stream",
     "name": "stderr",
     "text": [
      "100%|██████████| 300/300 [00:21<00:00, 13.70it/s]\n"
     ]
    },
    {
     "output_type": "stream",
     "name": "stdout",
     "text": [
      "train Loss: 0.0007 ACC 0.8180\n"
     ]
    },
    {
     "output_type": "stream",
     "name": "stderr",
     "text": [
      "100%|██████████| 86/86 [00:03<00:00, 23.11it/s]\n"
     ]
    },
    {
     "output_type": "stream",
     "name": "stdout",
     "text": [
      "val Loss: 0.0028 ACC 0.7350\n",
      "Epoch 53/200\n",
      "-------------------------------\n"
     ]
    },
    {
     "output_type": "stream",
     "name": "stderr",
     "text": [
      "100%|██████████| 300/300 [00:22<00:00, 13.60it/s]\n"
     ]
    },
    {
     "output_type": "stream",
     "name": "stdout",
     "text": [
      "train Loss: 0.0017 ACC 0.8180\n"
     ]
    },
    {
     "output_type": "stream",
     "name": "stderr",
     "text": [
      "100%|██████████| 86/86 [00:03<00:00, 22.95it/s]\n"
     ]
    },
    {
     "output_type": "stream",
     "name": "stdout",
     "text": [
      "val Loss: 0.0022 ACC 0.7511\n",
      "Epoch 54/200\n",
      "-------------------------------\n"
     ]
    },
    {
     "output_type": "stream",
     "name": "stderr",
     "text": [
      "100%|██████████| 300/300 [00:21<00:00, 13.71it/s]\n"
     ]
    },
    {
     "output_type": "stream",
     "name": "stdout",
     "text": [
      "train Loss: 0.0031 ACC 0.8265\n"
     ]
    },
    {
     "output_type": "stream",
     "name": "stderr",
     "text": [
      "100%|██████████| 86/86 [00:03<00:00, 23.12it/s]\n"
     ]
    },
    {
     "output_type": "stream",
     "name": "stdout",
     "text": [
      "val Loss: 0.0055 ACC 0.7175\n",
      "Epoch 55/200\n",
      "-------------------------------\n"
     ]
    },
    {
     "output_type": "stream",
     "name": "stderr",
     "text": [
      "100%|██████████| 300/300 [00:21<00:00, 13.64it/s]\n"
     ]
    },
    {
     "output_type": "stream",
     "name": "stdout",
     "text": [
      "train Loss: 0.0010 ACC 0.8209\n"
     ]
    },
    {
     "output_type": "stream",
     "name": "stderr",
     "text": [
      "100%|██████████| 86/86 [00:03<00:00, 22.84it/s]\n"
     ]
    },
    {
     "output_type": "stream",
     "name": "stdout",
     "text": [
      "val Loss: 0.0016 ACC 0.7350\n",
      "Epoch 56/200\n",
      "-------------------------------\n"
     ]
    },
    {
     "output_type": "stream",
     "name": "stderr",
     "text": [
      "100%|██████████| 300/300 [00:21<00:00, 13.65it/s]\n"
     ]
    },
    {
     "output_type": "stream",
     "name": "stdout",
     "text": [
      "train Loss: 0.0010 ACC 0.8169\n"
     ]
    },
    {
     "output_type": "stream",
     "name": "stderr",
     "text": [
      "100%|██████████| 86/86 [00:03<00:00, 23.05it/s]\n"
     ]
    },
    {
     "output_type": "stream",
     "name": "stdout",
     "text": [
      "val Loss: 0.0021 ACC 0.7438\n",
      "Epoch 57/200\n",
      "-------------------------------\n"
     ]
    },
    {
     "output_type": "stream",
     "name": "stderr",
     "text": [
      "100%|██████████| 300/300 [00:22<00:00, 13.62it/s]\n"
     ]
    },
    {
     "output_type": "stream",
     "name": "stdout",
     "text": [
      "train Loss: 0.0003 ACC 0.8322\n"
     ]
    },
    {
     "output_type": "stream",
     "name": "stderr",
     "text": [
      "100%|██████████| 86/86 [00:03<00:00, 23.08it/s]\n"
     ]
    },
    {
     "output_type": "stream",
     "name": "stdout",
     "text": [
      "val Loss: 0.0069 ACC 0.7693\n",
      "Epoch 58/200\n",
      "-------------------------------\n"
     ]
    },
    {
     "output_type": "stream",
     "name": "stderr",
     "text": [
      "100%|██████████| 300/300 [00:21<00:00, 13.65it/s]\n"
     ]
    },
    {
     "output_type": "stream",
     "name": "stdout",
     "text": [
      "train Loss: 0.0013 ACC 0.8240\n"
     ]
    },
    {
     "output_type": "stream",
     "name": "stderr",
     "text": [
      "100%|██████████| 86/86 [00:03<00:00, 23.02it/s]\n"
     ]
    },
    {
     "output_type": "stream",
     "name": "stdout",
     "text": [
      "val Loss: 0.0022 ACC 0.7679\n",
      "Epoch 59/200\n",
      "-------------------------------\n"
     ]
    },
    {
     "output_type": "stream",
     "name": "stderr",
     "text": [
      "100%|██████████| 300/300 [00:22<00:00, 13.64it/s]\n"
     ]
    },
    {
     "output_type": "stream",
     "name": "stdout",
     "text": [
      "train Loss: 0.0011 ACC 0.8367\n"
     ]
    },
    {
     "output_type": "stream",
     "name": "stderr",
     "text": [
      "100%|██████████| 86/86 [00:04<00:00, 21.46it/s]\n"
     ]
    },
    {
     "output_type": "stream",
     "name": "stdout",
     "text": [
      "val Loss: 0.0084 ACC 0.7299\n",
      "Epoch 60/200\n",
      "-------------------------------\n"
     ]
    },
    {
     "output_type": "stream",
     "name": "stderr",
     "text": [
      "100%|██████████| 300/300 [00:21<00:00, 13.64it/s]\n"
     ]
    },
    {
     "output_type": "stream",
     "name": "stdout",
     "text": [
      "train Loss: 0.0010 ACC 0.8253\n"
     ]
    },
    {
     "output_type": "stream",
     "name": "stderr",
     "text": [
      "100%|██████████| 86/86 [00:03<00:00, 23.26it/s]\n"
     ]
    },
    {
     "output_type": "stream",
     "name": "stdout",
     "text": [
      "val Loss: 0.0036 ACC 0.7635\n",
      "Epoch 61/200\n",
      "-------------------------------\n"
     ]
    },
    {
     "output_type": "stream",
     "name": "stderr",
     "text": [
      "100%|██████████| 300/300 [00:21<00:00, 13.66it/s]\n"
     ]
    },
    {
     "output_type": "stream",
     "name": "stdout",
     "text": [
      "train Loss: 0.0014 ACC 0.8374\n"
     ]
    },
    {
     "output_type": "stream",
     "name": "stderr",
     "text": [
      "100%|██████████| 86/86 [00:03<00:00, 22.83it/s]\n"
     ]
    },
    {
     "output_type": "stream",
     "name": "stdout",
     "text": [
      "val Loss: 0.0048 ACC 0.7672\n",
      "Epoch 62/200\n",
      "-------------------------------\n"
     ]
    },
    {
     "output_type": "stream",
     "name": "stderr",
     "text": [
      "100%|██████████| 300/300 [00:22<00:00, 13.50it/s]\n"
     ]
    },
    {
     "output_type": "stream",
     "name": "stdout",
     "text": [
      "train Loss: 0.0013 ACC 0.8422\n"
     ]
    },
    {
     "output_type": "stream",
     "name": "stderr",
     "text": [
      "100%|██████████| 86/86 [00:03<00:00, 21.82it/s]\n"
     ]
    },
    {
     "output_type": "stream",
     "name": "stdout",
     "text": [
      "val Loss: 0.0041 ACC 0.7555\n",
      "Epoch 63/200\n",
      "-------------------------------\n"
     ]
    },
    {
     "output_type": "stream",
     "name": "stderr",
     "text": [
      "100%|██████████| 300/300 [00:22<00:00, 13.50it/s]\n"
     ]
    },
    {
     "output_type": "stream",
     "name": "stdout",
     "text": [
      "train Loss: 0.0021 ACC 0.8255\n"
     ]
    },
    {
     "output_type": "stream",
     "name": "stderr",
     "text": [
      "100%|██████████| 86/86 [00:03<00:00, 22.30it/s]\n"
     ]
    },
    {
     "output_type": "stream",
     "name": "stdout",
     "text": [
      "val Loss: 0.0011 ACC 0.7715\n",
      "Epoch 64/200\n",
      "-------------------------------\n"
     ]
    },
    {
     "output_type": "stream",
     "name": "stderr",
     "text": [
      "100%|██████████| 300/300 [00:22<00:00, 13.60it/s]\n"
     ]
    },
    {
     "output_type": "stream",
     "name": "stdout",
     "text": [
      "train Loss: 0.0013 ACC 0.8390\n"
     ]
    },
    {
     "output_type": "stream",
     "name": "stderr",
     "text": [
      "100%|██████████| 86/86 [00:03<00:00, 22.62it/s]\n"
     ]
    },
    {
     "output_type": "stream",
     "name": "stdout",
     "text": [
      "val Loss: 0.0074 ACC 0.7591\n",
      "Epoch 65/200\n",
      "-------------------------------\n"
     ]
    },
    {
     "output_type": "stream",
     "name": "stderr",
     "text": [
      "100%|██████████| 300/300 [00:22<00:00, 13.61it/s]\n"
     ]
    },
    {
     "output_type": "stream",
     "name": "stdout",
     "text": [
      "train Loss: 0.0009 ACC 0.8369\n"
     ]
    },
    {
     "output_type": "stream",
     "name": "stderr",
     "text": [
      "100%|██████████| 86/86 [00:03<00:00, 22.75it/s]\n"
     ]
    },
    {
     "output_type": "stream",
     "name": "stdout",
     "text": [
      "val Loss: 0.0021 ACC 0.7438\n",
      "Epoch 66/200\n",
      "-------------------------------\n"
     ]
    },
    {
     "output_type": "stream",
     "name": "stderr",
     "text": [
      "100%|██████████| 300/300 [00:22<00:00, 13.60it/s]\n"
     ]
    },
    {
     "output_type": "stream",
     "name": "stdout",
     "text": [
      "train Loss: 0.0018 ACC 0.8474\n"
     ]
    },
    {
     "output_type": "stream",
     "name": "stderr",
     "text": [
      "100%|██████████| 86/86 [00:03<00:00, 22.70it/s]\n"
     ]
    },
    {
     "output_type": "stream",
     "name": "stdout",
     "text": [
      "val Loss: 0.0019 ACC 0.7642\n",
      "Epoch 67/200\n",
      "-------------------------------\n"
     ]
    },
    {
     "output_type": "stream",
     "name": "stderr",
     "text": [
      "100%|██████████| 300/300 [00:21<00:00, 13.67it/s]\n"
     ]
    },
    {
     "output_type": "stream",
     "name": "stdout",
     "text": [
      "train Loss: 0.0004 ACC 0.8442\n"
     ]
    },
    {
     "output_type": "stream",
     "name": "stderr",
     "text": [
      "100%|██████████| 86/86 [00:03<00:00, 23.37it/s]\n"
     ]
    },
    {
     "output_type": "stream",
     "name": "stdout",
     "text": [
      "val Loss: 0.0024 ACC 0.7766\n",
      "Epoch 68/200\n",
      "-------------------------------\n"
     ]
    },
    {
     "output_type": "stream",
     "name": "stderr",
     "text": [
      "100%|██████████| 300/300 [00:22<00:00, 13.61it/s]\n"
     ]
    },
    {
     "output_type": "stream",
     "name": "stdout",
     "text": [
      "train Loss: 0.0013 ACC 0.8424\n"
     ]
    },
    {
     "output_type": "stream",
     "name": "stderr",
     "text": [
      "100%|██████████| 86/86 [00:03<00:00, 23.13it/s]\n"
     ]
    },
    {
     "output_type": "stream",
     "name": "stdout",
     "text": [
      "val Loss: 0.0041 ACC 0.7599\n",
      "Epoch 69/200\n",
      "-------------------------------\n"
     ]
    },
    {
     "output_type": "stream",
     "name": "stderr",
     "text": [
      "100%|██████████| 300/300 [00:22<00:00, 13.63it/s]\n"
     ]
    },
    {
     "output_type": "stream",
     "name": "stdout",
     "text": [
      "train Loss: 0.0001 ACC 0.8488\n"
     ]
    },
    {
     "output_type": "stream",
     "name": "stderr",
     "text": [
      "100%|██████████| 86/86 [00:03<00:00, 23.38it/s]\n"
     ]
    },
    {
     "output_type": "stream",
     "name": "stdout",
     "text": [
      "val Loss: 0.0058 ACC 0.7679\n",
      "Epoch 70/200\n",
      "-------------------------------\n"
     ]
    },
    {
     "output_type": "stream",
     "name": "stderr",
     "text": [
      "100%|██████████| 300/300 [00:21<00:00, 13.70it/s]\n"
     ]
    },
    {
     "output_type": "stream",
     "name": "stdout",
     "text": [
      "train Loss: 0.0016 ACC 0.8486\n"
     ]
    },
    {
     "output_type": "stream",
     "name": "stderr",
     "text": [
      "100%|██████████| 86/86 [00:03<00:00, 22.74it/s]\n"
     ]
    },
    {
     "output_type": "stream",
     "name": "stdout",
     "text": [
      "val Loss: 0.0038 ACC 0.7701\n",
      "Epoch 71/200\n",
      "-------------------------------\n"
     ]
    },
    {
     "output_type": "stream",
     "name": "stderr",
     "text": [
      "100%|██████████| 300/300 [00:21<00:00, 13.68it/s]\n"
     ]
    },
    {
     "output_type": "stream",
     "name": "stdout",
     "text": [
      "train Loss: 0.0009 ACC 0.8532\n"
     ]
    },
    {
     "output_type": "stream",
     "name": "stderr",
     "text": [
      "100%|██████████| 86/86 [00:03<00:00, 23.17it/s]\n"
     ]
    },
    {
     "output_type": "stream",
     "name": "stdout",
     "text": [
      "val Loss: 0.0021 ACC 0.7985\n",
      "Epoch 72/200\n",
      "-------------------------------\n"
     ]
    },
    {
     "output_type": "stream",
     "name": "stderr",
     "text": [
      "100%|██████████| 300/300 [00:22<00:00, 13.43it/s]\n"
     ]
    },
    {
     "output_type": "stream",
     "name": "stdout",
     "text": [
      "train Loss: 0.0010 ACC 0.8482\n"
     ]
    },
    {
     "output_type": "stream",
     "name": "stderr",
     "text": [
      "100%|██████████| 86/86 [00:03<00:00, 23.17it/s]\n"
     ]
    },
    {
     "output_type": "stream",
     "name": "stdout",
     "text": [
      "val Loss: 0.0025 ACC 0.7606\n",
      "Epoch 73/200\n",
      "-------------------------------\n"
     ]
    },
    {
     "output_type": "stream",
     "name": "stderr",
     "text": [
      "100%|██████████| 300/300 [00:21<00:00, 13.75it/s]\n"
     ]
    },
    {
     "output_type": "stream",
     "name": "stdout",
     "text": [
      "train Loss: 0.0010 ACC 0.8511\n"
     ]
    },
    {
     "output_type": "stream",
     "name": "stderr",
     "text": [
      "100%|██████████| 86/86 [00:03<00:00, 23.13it/s]\n"
     ]
    },
    {
     "output_type": "stream",
     "name": "stdout",
     "text": [
      "val Loss: 0.0036 ACC 0.7803\n",
      "Epoch 74/200\n",
      "-------------------------------\n"
     ]
    },
    {
     "output_type": "stream",
     "name": "stderr",
     "text": [
      "100%|██████████| 300/300 [00:21<00:00, 13.65it/s]\n"
     ]
    },
    {
     "output_type": "stream",
     "name": "stdout",
     "text": [
      "train Loss: 0.0003 ACC 0.8490\n"
     ]
    },
    {
     "output_type": "stream",
     "name": "stderr",
     "text": [
      "100%|██████████| 86/86 [00:03<00:00, 23.10it/s]\n"
     ]
    },
    {
     "output_type": "stream",
     "name": "stdout",
     "text": [
      "val Loss: 0.0046 ACC 0.7540\n",
      "Epoch 75/200\n",
      "-------------------------------\n"
     ]
    },
    {
     "output_type": "stream",
     "name": "stderr",
     "text": [
      "100%|██████████| 300/300 [00:21<00:00, 13.74it/s]\n"
     ]
    },
    {
     "output_type": "stream",
     "name": "stdout",
     "text": [
      "train Loss: 0.0008 ACC 0.8545\n"
     ]
    },
    {
     "output_type": "stream",
     "name": "stderr",
     "text": [
      "100%|██████████| 86/86 [00:03<00:00, 22.83it/s]\n"
     ]
    },
    {
     "output_type": "stream",
     "name": "stdout",
     "text": [
      "val Loss: 0.0029 ACC 0.7927\n",
      "Epoch 76/200\n",
      "-------------------------------\n"
     ]
    },
    {
     "output_type": "stream",
     "name": "stderr",
     "text": [
      "100%|██████████| 300/300 [00:21<00:00, 13.71it/s]\n"
     ]
    },
    {
     "output_type": "stream",
     "name": "stdout",
     "text": [
      "train Loss: 0.0006 ACC 0.8686\n"
     ]
    },
    {
     "output_type": "stream",
     "name": "stderr",
     "text": [
      "100%|██████████| 86/86 [00:03<00:00, 22.84it/s]\n"
     ]
    },
    {
     "output_type": "stream",
     "name": "stdout",
     "text": [
      "val Loss: 0.0023 ACC 0.7883\n",
      "Epoch 77/200\n",
      "-------------------------------\n"
     ]
    },
    {
     "output_type": "stream",
     "name": "stderr",
     "text": [
      "100%|██████████| 300/300 [00:22<00:00, 13.58it/s]\n"
     ]
    },
    {
     "output_type": "stream",
     "name": "stdout",
     "text": [
      "train Loss: 0.0009 ACC 0.8547\n"
     ]
    },
    {
     "output_type": "stream",
     "name": "stderr",
     "text": [
      "100%|██████████| 86/86 [00:03<00:00, 23.06it/s]\n"
     ]
    },
    {
     "output_type": "stream",
     "name": "stdout",
     "text": [
      "val Loss: 0.0042 ACC 0.7861\n",
      "Epoch 78/200\n",
      "-------------------------------\n"
     ]
    },
    {
     "output_type": "stream",
     "name": "stderr",
     "text": [
      "100%|██████████| 300/300 [00:21<00:00, 13.71it/s]\n"
     ]
    },
    {
     "output_type": "stream",
     "name": "stdout",
     "text": [
      "train Loss: 0.0004 ACC 0.8684\n"
     ]
    },
    {
     "output_type": "stream",
     "name": "stderr",
     "text": [
      "100%|██████████| 86/86 [00:03<00:00, 22.77it/s]\n"
     ]
    },
    {
     "output_type": "stream",
     "name": "stdout",
     "text": [
      "val Loss: 0.0024 ACC 0.7584\n",
      "Epoch 79/200\n",
      "-------------------------------\n"
     ]
    },
    {
     "output_type": "stream",
     "name": "stderr",
     "text": [
      "100%|██████████| 300/300 [00:21<00:00, 13.66it/s]\n"
     ]
    },
    {
     "output_type": "stream",
     "name": "stdout",
     "text": [
      "train Loss: 0.0011 ACC 0.8582\n"
     ]
    },
    {
     "output_type": "stream",
     "name": "stderr",
     "text": [
      "100%|██████████| 86/86 [00:03<00:00, 22.60it/s]\n"
     ]
    },
    {
     "output_type": "stream",
     "name": "stdout",
     "text": [
      "val Loss: 0.0051 ACC 0.7876\n",
      "Epoch 80/200\n",
      "-------------------------------\n"
     ]
    },
    {
     "output_type": "stream",
     "name": "stderr",
     "text": [
      "100%|██████████| 300/300 [00:21<00:00, 13.72it/s]\n"
     ]
    },
    {
     "output_type": "stream",
     "name": "stdout",
     "text": [
      "train Loss: 0.0011 ACC 0.8545\n"
     ]
    },
    {
     "output_type": "stream",
     "name": "stderr",
     "text": [
      "100%|██████████| 86/86 [00:03<00:00, 22.63it/s]\n"
     ]
    },
    {
     "output_type": "stream",
     "name": "stdout",
     "text": [
      "val Loss: 0.0009 ACC 0.7788\n",
      "Epoch 81/200\n",
      "-------------------------------\n"
     ]
    },
    {
     "output_type": "stream",
     "name": "stderr",
     "text": [
      "100%|██████████| 300/300 [00:22<00:00, 13.59it/s]\n"
     ]
    },
    {
     "output_type": "stream",
     "name": "stdout",
     "text": [
      "train Loss: 0.0015 ACC 0.8599\n"
     ]
    },
    {
     "output_type": "stream",
     "name": "stderr",
     "text": [
      "100%|██████████| 86/86 [00:03<00:00, 23.26it/s]\n"
     ]
    },
    {
     "output_type": "stream",
     "name": "stdout",
     "text": [
      "val Loss: 0.0067 ACC 0.7679\n",
      "Epoch 82/200\n",
      "-------------------------------\n"
     ]
    },
    {
     "output_type": "stream",
     "name": "stderr",
     "text": [
      "100%|██████████| 300/300 [00:21<00:00, 13.69it/s]\n"
     ]
    },
    {
     "output_type": "stream",
     "name": "stdout",
     "text": [
      "train Loss: 0.0004 ACC 0.8584\n"
     ]
    },
    {
     "output_type": "stream",
     "name": "stderr",
     "text": [
      "100%|██████████| 86/86 [00:03<00:00, 23.27it/s]\n"
     ]
    },
    {
     "output_type": "stream",
     "name": "stdout",
     "text": [
      "val Loss: 0.0050 ACC 0.7956\n",
      "Epoch 83/200\n",
      "-------------------------------\n"
     ]
    },
    {
     "output_type": "stream",
     "name": "stderr",
     "text": [
      "100%|██████████| 300/300 [00:21<00:00, 13.64it/s]\n"
     ]
    },
    {
     "output_type": "stream",
     "name": "stdout",
     "text": [
      "train Loss: 0.0004 ACC 0.8674\n"
     ]
    },
    {
     "output_type": "stream",
     "name": "stderr",
     "text": [
      "100%|██████████| 86/86 [00:03<00:00, 23.37it/s]\n"
     ]
    },
    {
     "output_type": "stream",
     "name": "stdout",
     "text": [
      "val Loss: 0.0034 ACC 0.7788\n",
      "Epoch 84/200\n",
      "-------------------------------\n"
     ]
    },
    {
     "output_type": "stream",
     "name": "stderr",
     "text": [
      "100%|██████████| 300/300 [00:22<00:00, 13.47it/s]\n"
     ]
    },
    {
     "output_type": "stream",
     "name": "stdout",
     "text": [
      "train Loss: 0.0010 ACC 0.8688\n"
     ]
    },
    {
     "output_type": "stream",
     "name": "stderr",
     "text": [
      "100%|██████████| 86/86 [00:03<00:00, 23.15it/s]\n"
     ]
    },
    {
     "output_type": "stream",
     "name": "stdout",
     "text": [
      "val Loss: 0.0046 ACC 0.7796\n",
      "Epoch 85/200\n",
      "-------------------------------\n"
     ]
    },
    {
     "output_type": "stream",
     "name": "stderr",
     "text": [
      "100%|██████████| 300/300 [00:22<00:00, 13.45it/s]\n"
     ]
    },
    {
     "output_type": "stream",
     "name": "stdout",
     "text": [
      "train Loss: 0.0013 ACC 0.8695\n"
     ]
    },
    {
     "output_type": "stream",
     "name": "stderr",
     "text": [
      "100%|██████████| 86/86 [00:03<00:00, 23.20it/s]\n"
     ]
    },
    {
     "output_type": "stream",
     "name": "stdout",
     "text": [
      "val Loss: 0.0052 ACC 0.7920\n",
      "Epoch 86/200\n",
      "-------------------------------\n"
     ]
    },
    {
     "output_type": "stream",
     "name": "stderr",
     "text": [
      "100%|██████████| 300/300 [00:22<00:00, 13.58it/s]\n"
     ]
    },
    {
     "output_type": "stream",
     "name": "stdout",
     "text": [
      "train Loss: 0.0007 ACC 0.8697\n"
     ]
    },
    {
     "output_type": "stream",
     "name": "stderr",
     "text": [
      "100%|██████████| 86/86 [00:03<00:00, 23.25it/s]\n"
     ]
    },
    {
     "output_type": "stream",
     "name": "stdout",
     "text": [
      "val Loss: 0.0021 ACC 0.7956\n",
      "Epoch 87/200\n",
      "-------------------------------\n"
     ]
    },
    {
     "output_type": "stream",
     "name": "stderr",
     "text": [
      "100%|██████████| 300/300 [00:22<00:00, 13.49it/s]\n"
     ]
    },
    {
     "output_type": "stream",
     "name": "stdout",
     "text": [
      "train Loss: 0.0008 ACC 0.8682\n"
     ]
    },
    {
     "output_type": "stream",
     "name": "stderr",
     "text": [
      "100%|██████████| 86/86 [00:03<00:00, 23.11it/s]\n"
     ]
    },
    {
     "output_type": "stream",
     "name": "stdout",
     "text": [
      "val Loss: 0.0008 ACC 0.8124\n",
      "Epoch 88/200\n",
      "-------------------------------\n"
     ]
    },
    {
     "output_type": "stream",
     "name": "stderr",
     "text": [
      "100%|██████████| 300/300 [00:22<00:00, 13.62it/s]\n"
     ]
    },
    {
     "output_type": "stream",
     "name": "stdout",
     "text": [
      "train Loss: 0.0005 ACC 0.8616\n"
     ]
    },
    {
     "output_type": "stream",
     "name": "stderr",
     "text": [
      "100%|██████████| 86/86 [00:03<00:00, 22.97it/s]\n"
     ]
    },
    {
     "output_type": "stream",
     "name": "stdout",
     "text": [
      "val Loss: 0.0033 ACC 0.7985\n",
      "Epoch 89/200\n",
      "-------------------------------\n"
     ]
    },
    {
     "output_type": "stream",
     "name": "stderr",
     "text": [
      "100%|██████████| 300/300 [00:21<00:00, 13.67it/s]\n"
     ]
    },
    {
     "output_type": "stream",
     "name": "stdout",
     "text": [
      "train Loss: 0.0007 ACC 0.8668\n"
     ]
    },
    {
     "output_type": "stream",
     "name": "stderr",
     "text": [
      "100%|██████████| 86/86 [00:03<00:00, 23.32it/s]\n"
     ]
    },
    {
     "output_type": "stream",
     "name": "stdout",
     "text": [
      "val Loss: 0.0018 ACC 0.7876\n",
      "Epoch 90/200\n",
      "-------------------------------\n"
     ]
    },
    {
     "output_type": "stream",
     "name": "stderr",
     "text": [
      "100%|██████████| 300/300 [00:22<00:00, 13.57it/s]\n"
     ]
    },
    {
     "output_type": "stream",
     "name": "stdout",
     "text": [
      "train Loss: 0.0008 ACC 0.8670\n"
     ]
    },
    {
     "output_type": "stream",
     "name": "stderr",
     "text": [
      "100%|██████████| 86/86 [00:03<00:00, 22.28it/s]\n"
     ]
    },
    {
     "output_type": "stream",
     "name": "stdout",
     "text": [
      "val Loss: 0.0048 ACC 0.7774\n",
      "Epoch 91/200\n",
      "-------------------------------\n"
     ]
    },
    {
     "output_type": "stream",
     "name": "stderr",
     "text": [
      "100%|██████████| 300/300 [00:22<00:00, 13.61it/s]\n"
     ]
    },
    {
     "output_type": "stream",
     "name": "stdout",
     "text": [
      "train Loss: 0.0008 ACC 0.8764\n"
     ]
    },
    {
     "output_type": "stream",
     "name": "stderr",
     "text": [
      "100%|██████████| 86/86 [00:03<00:00, 22.99it/s]\n"
     ]
    },
    {
     "output_type": "stream",
     "name": "stdout",
     "text": [
      "val Loss: 0.0022 ACC 0.7934\n",
      "Epoch 92/200\n",
      "-------------------------------\n"
     ]
    },
    {
     "output_type": "stream",
     "name": "stderr",
     "text": [
      "100%|██████████| 300/300 [00:22<00:00, 13.59it/s]\n"
     ]
    },
    {
     "output_type": "stream",
     "name": "stdout",
     "text": [
      "train Loss: 0.0007 ACC 0.8672\n"
     ]
    },
    {
     "output_type": "stream",
     "name": "stderr",
     "text": [
      "100%|██████████| 86/86 [00:03<00:00, 23.08it/s]\n"
     ]
    },
    {
     "output_type": "stream",
     "name": "stdout",
     "text": [
      "val Loss: 0.0047 ACC 0.7737\n",
      "Epoch 93/200\n",
      "-------------------------------\n"
     ]
    },
    {
     "output_type": "stream",
     "name": "stderr",
     "text": [
      "100%|██████████| 300/300 [00:22<00:00, 13.49it/s]\n"
     ]
    },
    {
     "output_type": "stream",
     "name": "stdout",
     "text": [
      "train Loss: 0.0008 ACC 0.8680\n"
     ]
    },
    {
     "output_type": "stream",
     "name": "stderr",
     "text": [
      "100%|██████████| 86/86 [00:03<00:00, 22.20it/s]\n"
     ]
    },
    {
     "output_type": "stream",
     "name": "stdout",
     "text": [
      "val Loss: 0.0014 ACC 0.8139\n",
      "Epoch 94/200\n",
      "-------------------------------\n"
     ]
    },
    {
     "output_type": "stream",
     "name": "stderr",
     "text": [
      "100%|██████████| 300/300 [00:21<00:00, 13.65it/s]\n"
     ]
    },
    {
     "output_type": "stream",
     "name": "stdout",
     "text": [
      "train Loss: 0.0010 ACC 0.8699\n"
     ]
    },
    {
     "output_type": "stream",
     "name": "stderr",
     "text": [
      "100%|██████████| 86/86 [00:03<00:00, 23.34it/s]\n"
     ]
    },
    {
     "output_type": "stream",
     "name": "stdout",
     "text": [
      "val Loss: 0.0017 ACC 0.8109\n",
      "Epoch 95/200\n",
      "-------------------------------\n"
     ]
    },
    {
     "output_type": "stream",
     "name": "stderr",
     "text": [
      "100%|██████████| 300/300 [00:22<00:00, 13.60it/s]\n"
     ]
    },
    {
     "output_type": "stream",
     "name": "stdout",
     "text": [
      "train Loss: 0.0007 ACC 0.8747\n"
     ]
    },
    {
     "output_type": "stream",
     "name": "stderr",
     "text": [
      "100%|██████████| 86/86 [00:03<00:00, 22.96it/s]\n"
     ]
    },
    {
     "output_type": "stream",
     "name": "stdout",
     "text": [
      "val Loss: 0.0032 ACC 0.8270\n",
      "Epoch 96/200\n",
      "-------------------------------\n"
     ]
    },
    {
     "output_type": "stream",
     "name": "stderr",
     "text": [
      "100%|██████████| 300/300 [00:21<00:00, 13.71it/s]\n"
     ]
    },
    {
     "output_type": "stream",
     "name": "stdout",
     "text": [
      "train Loss: 0.0006 ACC 0.8714\n"
     ]
    },
    {
     "output_type": "stream",
     "name": "stderr",
     "text": [
      "100%|██████████| 86/86 [00:03<00:00, 23.59it/s]\n"
     ]
    },
    {
     "output_type": "stream",
     "name": "stdout",
     "text": [
      "val Loss: 0.0021 ACC 0.8000\n",
      "Epoch 97/200\n",
      "-------------------------------\n"
     ]
    },
    {
     "output_type": "stream",
     "name": "stderr",
     "text": [
      "100%|██████████| 300/300 [00:22<00:00, 13.61it/s]\n"
     ]
    },
    {
     "output_type": "stream",
     "name": "stdout",
     "text": [
      "train Loss: 0.0011 ACC 0.8786\n"
     ]
    },
    {
     "output_type": "stream",
     "name": "stderr",
     "text": [
      "100%|██████████| 86/86 [00:03<00:00, 23.10it/s]\n"
     ]
    },
    {
     "output_type": "stream",
     "name": "stdout",
     "text": [
      "val Loss: 0.0024 ACC 0.8080\n",
      "Epoch 98/200\n",
      "-------------------------------\n"
     ]
    },
    {
     "output_type": "stream",
     "name": "stderr",
     "text": [
      "100%|██████████| 300/300 [00:22<00:00, 13.61it/s]\n"
     ]
    },
    {
     "output_type": "stream",
     "name": "stdout",
     "text": [
      "train Loss: 0.0001 ACC 0.8795\n"
     ]
    },
    {
     "output_type": "stream",
     "name": "stderr",
     "text": [
      "100%|██████████| 86/86 [00:03<00:00, 22.48it/s]\n"
     ]
    },
    {
     "output_type": "stream",
     "name": "stdout",
     "text": [
      "val Loss: 0.0043 ACC 0.8153\n",
      "Epoch 99/200\n",
      "-------------------------------\n"
     ]
    },
    {
     "output_type": "stream",
     "name": "stderr",
     "text": [
      "100%|██████████| 300/300 [00:22<00:00, 13.55it/s]\n"
     ]
    },
    {
     "output_type": "stream",
     "name": "stdout",
     "text": [
      "train Loss: 0.0003 ACC 0.8818\n"
     ]
    },
    {
     "output_type": "stream",
     "name": "stderr",
     "text": [
      "100%|██████████| 86/86 [00:04<00:00, 21.24it/s]\n"
     ]
    },
    {
     "output_type": "stream",
     "name": "stdout",
     "text": [
      "val Loss: 0.0003 ACC 0.8000\n",
      "Epoch 100/200\n",
      "-------------------------------\n"
     ]
    },
    {
     "output_type": "stream",
     "name": "stderr",
     "text": [
      "100%|██████████| 300/300 [00:22<00:00, 13.62it/s]\n"
     ]
    },
    {
     "output_type": "stream",
     "name": "stdout",
     "text": [
      "train Loss: 0.0007 ACC 0.8839\n"
     ]
    },
    {
     "output_type": "stream",
     "name": "stderr",
     "text": [
      "100%|██████████| 86/86 [00:03<00:00, 22.96it/s]\n"
     ]
    },
    {
     "output_type": "stream",
     "name": "stdout",
     "text": [
      "val Loss: 0.0022 ACC 0.8277\n",
      "Epoch 101/200\n",
      "-------------------------------\n"
     ]
    },
    {
     "output_type": "stream",
     "name": "stderr",
     "text": [
      "100%|██████████| 300/300 [00:21<00:00, 13.69it/s]\n"
     ]
    },
    {
     "output_type": "stream",
     "name": "stdout",
     "text": [
      "train Loss: 0.0016 ACC 0.8761\n"
     ]
    },
    {
     "output_type": "stream",
     "name": "stderr",
     "text": [
      "100%|██████████| 86/86 [00:03<00:00, 23.08it/s]\n"
     ]
    },
    {
     "output_type": "stream",
     "name": "stdout",
     "text": [
      "val Loss: 0.0087 ACC 0.8036\n",
      "Epoch 102/200\n",
      "-------------------------------\n"
     ]
    },
    {
     "output_type": "stream",
     "name": "stderr",
     "text": [
      "100%|██████████| 300/300 [00:21<00:00, 13.68it/s]\n"
     ]
    },
    {
     "output_type": "stream",
     "name": "stdout",
     "text": [
      "train Loss: 0.0004 ACC 0.8816\n"
     ]
    },
    {
     "output_type": "stream",
     "name": "stderr",
     "text": [
      "100%|██████████| 86/86 [00:03<00:00, 23.26it/s]\n"
     ]
    },
    {
     "output_type": "stream",
     "name": "stdout",
     "text": [
      "val Loss: 0.0024 ACC 0.8109\n",
      "Epoch 103/200\n",
      "-------------------------------\n"
     ]
    },
    {
     "output_type": "stream",
     "name": "stderr",
     "text": [
      "100%|██████████| 300/300 [00:22<00:00, 13.63it/s]\n"
     ]
    },
    {
     "output_type": "stream",
     "name": "stdout",
     "text": [
      "train Loss: 0.0003 ACC 0.8853\n"
     ]
    },
    {
     "output_type": "stream",
     "name": "stderr",
     "text": [
      "100%|██████████| 86/86 [00:03<00:00, 22.94it/s]\n"
     ]
    },
    {
     "output_type": "stream",
     "name": "stdout",
     "text": [
      "val Loss: 0.0054 ACC 0.8000\n",
      "Epoch 104/200\n",
      "-------------------------------\n"
     ]
    },
    {
     "output_type": "stream",
     "name": "stderr",
     "text": [
      "100%|██████████| 300/300 [00:22<00:00, 13.57it/s]\n"
     ]
    },
    {
     "output_type": "stream",
     "name": "stdout",
     "text": [
      "train Loss: 0.0005 ACC 0.8830\n"
     ]
    },
    {
     "output_type": "stream",
     "name": "stderr",
     "text": [
      "100%|██████████| 86/86 [00:03<00:00, 22.34it/s]\n"
     ]
    },
    {
     "output_type": "stream",
     "name": "stdout",
     "text": [
      "val Loss: 0.0025 ACC 0.7964\n",
      "Epoch 105/200\n",
      "-------------------------------\n"
     ]
    },
    {
     "output_type": "stream",
     "name": "stderr",
     "text": [
      "100%|██████████| 300/300 [00:21<00:00, 13.65it/s]\n"
     ]
    },
    {
     "output_type": "stream",
     "name": "stdout",
     "text": [
      "train Loss: 0.0012 ACC 0.8797\n"
     ]
    },
    {
     "output_type": "stream",
     "name": "stderr",
     "text": [
      "100%|██████████| 86/86 [00:03<00:00, 22.61it/s]\n"
     ]
    },
    {
     "output_type": "stream",
     "name": "stdout",
     "text": [
      "val Loss: 0.0002 ACC 0.7956\n",
      "Epoch 106/200\n",
      "-------------------------------\n"
     ]
    },
    {
     "output_type": "stream",
     "name": "stderr",
     "text": [
      "100%|██████████| 300/300 [00:21<00:00, 13.67it/s]\n"
     ]
    },
    {
     "output_type": "stream",
     "name": "stdout",
     "text": [
      "train Loss: 0.0004 ACC 0.8876\n"
     ]
    },
    {
     "output_type": "stream",
     "name": "stderr",
     "text": [
      "100%|██████████| 86/86 [00:03<00:00, 23.10it/s]\n"
     ]
    },
    {
     "output_type": "stream",
     "name": "stdout",
     "text": [
      "val Loss: 0.0008 ACC 0.8080\n",
      "Epoch 107/200\n",
      "-------------------------------\n"
     ]
    },
    {
     "output_type": "stream",
     "name": "stderr",
     "text": [
      "100%|██████████| 300/300 [00:22<00:00, 13.54it/s]\n"
     ]
    },
    {
     "output_type": "stream",
     "name": "stdout",
     "text": [
      "train Loss: 0.0012 ACC 0.8812\n"
     ]
    },
    {
     "output_type": "stream",
     "name": "stderr",
     "text": [
      "100%|██████████| 86/86 [00:03<00:00, 23.30it/s]\n"
     ]
    },
    {
     "output_type": "stream",
     "name": "stdout",
     "text": [
      "val Loss: 0.0021 ACC 0.7759\n",
      "Epoch 108/200\n",
      "-------------------------------\n"
     ]
    },
    {
     "output_type": "stream",
     "name": "stderr",
     "text": [
      "100%|██████████| 300/300 [00:21<00:00, 13.65it/s]\n"
     ]
    },
    {
     "output_type": "stream",
     "name": "stdout",
     "text": [
      "train Loss: 0.0021 ACC 0.8891\n"
     ]
    },
    {
     "output_type": "stream",
     "name": "stderr",
     "text": [
      "100%|██████████| 86/86 [00:03<00:00, 22.85it/s]\n"
     ]
    },
    {
     "output_type": "stream",
     "name": "stdout",
     "text": [
      "val Loss: 0.0055 ACC 0.8044\n",
      "Epoch 109/200\n",
      "-------------------------------\n"
     ]
    },
    {
     "output_type": "stream",
     "name": "stderr",
     "text": [
      "100%|██████████| 300/300 [00:21<00:00, 13.68it/s]\n"
     ]
    },
    {
     "output_type": "stream",
     "name": "stdout",
     "text": [
      "train Loss: 0.0007 ACC 0.8882\n"
     ]
    },
    {
     "output_type": "stream",
     "name": "stderr",
     "text": [
      "100%|██████████| 86/86 [00:03<00:00, 23.35it/s]\n"
     ]
    },
    {
     "output_type": "stream",
     "name": "stdout",
     "text": [
      "val Loss: 0.0020 ACC 0.8066\n",
      "Epoch 110/200\n",
      "-------------------------------\n"
     ]
    },
    {
     "output_type": "stream",
     "name": "stderr",
     "text": [
      "100%|██████████| 300/300 [00:22<00:00, 13.50it/s]\n"
     ]
    },
    {
     "output_type": "stream",
     "name": "stdout",
     "text": [
      "train Loss: 0.0004 ACC 0.8855\n"
     ]
    },
    {
     "output_type": "stream",
     "name": "stderr",
     "text": [
      "100%|██████████| 86/86 [00:03<00:00, 23.31it/s]\n"
     ]
    },
    {
     "output_type": "stream",
     "name": "stdout",
     "text": [
      "val Loss: 0.0013 ACC 0.7956\n",
      "Epoch 111/200\n",
      "-------------------------------\n"
     ]
    },
    {
     "output_type": "stream",
     "name": "stderr",
     "text": [
      "100%|██████████| 300/300 [00:21<00:00, 13.65it/s]\n"
     ]
    },
    {
     "output_type": "stream",
     "name": "stdout",
     "text": [
      "train Loss: 0.0020 ACC 0.8907\n"
     ]
    },
    {
     "output_type": "stream",
     "name": "stderr",
     "text": [
      "100%|██████████| 86/86 [00:03<00:00, 22.56it/s]\n"
     ]
    },
    {
     "output_type": "stream",
     "name": "stdout",
     "text": [
      "val Loss: 0.0022 ACC 0.8044\n",
      "Epoch 112/200\n",
      "-------------------------------\n"
     ]
    },
    {
     "output_type": "stream",
     "name": "stderr",
     "text": [
      "100%|██████████| 300/300 [00:22<00:00, 13.63it/s]\n"
     ]
    },
    {
     "output_type": "stream",
     "name": "stdout",
     "text": [
      "train Loss: 0.0004 ACC 0.8910\n"
     ]
    },
    {
     "output_type": "stream",
     "name": "stderr",
     "text": [
      "100%|██████████| 86/86 [00:03<00:00, 22.90it/s]\n"
     ]
    },
    {
     "output_type": "stream",
     "name": "stdout",
     "text": [
      "val Loss: 0.0019 ACC 0.8109\n",
      "Epoch 113/200\n",
      "-------------------------------\n"
     ]
    },
    {
     "output_type": "stream",
     "name": "stderr",
     "text": [
      "100%|██████████| 300/300 [00:21<00:00, 13.64it/s]\n"
     ]
    },
    {
     "output_type": "stream",
     "name": "stdout",
     "text": [
      "train Loss: 0.0003 ACC 0.8937\n"
     ]
    },
    {
     "output_type": "stream",
     "name": "stderr",
     "text": [
      "100%|██████████| 86/86 [00:03<00:00, 23.02it/s]\n"
     ]
    },
    {
     "output_type": "stream",
     "name": "stdout",
     "text": [
      "val Loss: 0.0024 ACC 0.8321\n",
      "Epoch 114/200\n",
      "-------------------------------\n"
     ]
    },
    {
     "output_type": "stream",
     "name": "stderr",
     "text": [
      "100%|██████████| 300/300 [00:21<00:00, 13.77it/s]\n"
     ]
    },
    {
     "output_type": "stream",
     "name": "stdout",
     "text": [
      "train Loss: 0.0001 ACC 0.8922\n"
     ]
    },
    {
     "output_type": "stream",
     "name": "stderr",
     "text": [
      "100%|██████████| 86/86 [00:03<00:00, 23.16it/s]\n"
     ]
    },
    {
     "output_type": "stream",
     "name": "stdout",
     "text": [
      "val Loss: 0.0060 ACC 0.8241\n",
      "Epoch 115/200\n",
      "-------------------------------\n"
     ]
    },
    {
     "output_type": "stream",
     "name": "stderr",
     "text": [
      "100%|██████████| 300/300 [00:22<00:00, 13.61it/s]\n"
     ]
    },
    {
     "output_type": "stream",
     "name": "stdout",
     "text": [
      "train Loss: 0.0010 ACC 0.8872\n"
     ]
    },
    {
     "output_type": "stream",
     "name": "stderr",
     "text": [
      "100%|██████████| 86/86 [00:03<00:00, 22.53it/s]\n"
     ]
    },
    {
     "output_type": "stream",
     "name": "stdout",
     "text": [
      "val Loss: 0.0014 ACC 0.8007\n",
      "Epoch 116/200\n",
      "-------------------------------\n"
     ]
    },
    {
     "output_type": "stream",
     "name": "stderr",
     "text": [
      "100%|██████████| 300/300 [00:22<00:00, 13.60it/s]\n"
     ]
    },
    {
     "output_type": "stream",
     "name": "stdout",
     "text": [
      "train Loss: 0.0006 ACC 0.8803\n"
     ]
    },
    {
     "output_type": "stream",
     "name": "stderr",
     "text": [
      "100%|██████████| 86/86 [00:03<00:00, 22.85it/s]\n"
     ]
    },
    {
     "output_type": "stream",
     "name": "stdout",
     "text": [
      "val Loss: 0.0024 ACC 0.8270\n",
      "Epoch 117/200\n",
      "-------------------------------\n"
     ]
    },
    {
     "output_type": "stream",
     "name": "stderr",
     "text": [
      "100%|██████████| 300/300 [00:22<00:00, 13.52it/s]\n"
     ]
    },
    {
     "output_type": "stream",
     "name": "stdout",
     "text": [
      "train Loss: 0.0004 ACC 0.8964\n"
     ]
    },
    {
     "output_type": "stream",
     "name": "stderr",
     "text": [
      "100%|██████████| 86/86 [00:03<00:00, 23.17it/s]\n"
     ]
    },
    {
     "output_type": "stream",
     "name": "stdout",
     "text": [
      "val Loss: 0.0014 ACC 0.8015\n",
      "Epoch 118/200\n",
      "-------------------------------\n"
     ]
    },
    {
     "output_type": "stream",
     "name": "stderr",
     "text": [
      "100%|██████████| 300/300 [00:22<00:00, 13.56it/s]\n"
     ]
    },
    {
     "output_type": "stream",
     "name": "stdout",
     "text": [
      "train Loss: 0.0007 ACC 0.8910\n"
     ]
    },
    {
     "output_type": "stream",
     "name": "stderr",
     "text": [
      "100%|██████████| 86/86 [00:03<00:00, 21.85it/s]\n"
     ]
    },
    {
     "output_type": "stream",
     "name": "stdout",
     "text": [
      "val Loss: 0.0025 ACC 0.8146\n",
      "Epoch 119/200\n",
      "-------------------------------\n"
     ]
    },
    {
     "output_type": "stream",
     "name": "stderr",
     "text": [
      "100%|██████████| 300/300 [00:22<00:00, 13.63it/s]\n"
     ]
    },
    {
     "output_type": "stream",
     "name": "stdout",
     "text": [
      "train Loss: 0.0010 ACC 0.8893\n"
     ]
    },
    {
     "output_type": "stream",
     "name": "stderr",
     "text": [
      "100%|██████████| 86/86 [00:03<00:00, 22.99it/s]\n"
     ]
    },
    {
     "output_type": "stream",
     "name": "stdout",
     "text": [
      "val Loss: 0.0046 ACC 0.8307\n",
      "Epoch 120/200\n",
      "-------------------------------\n"
     ]
    },
    {
     "output_type": "stream",
     "name": "stderr",
     "text": [
      "100%|██████████| 300/300 [00:21<00:00, 13.64it/s]\n"
     ]
    },
    {
     "output_type": "stream",
     "name": "stdout",
     "text": [
      "train Loss: 0.0013 ACC 0.8962\n"
     ]
    },
    {
     "output_type": "stream",
     "name": "stderr",
     "text": [
      "100%|██████████| 86/86 [00:03<00:00, 22.85it/s]\n"
     ]
    },
    {
     "output_type": "stream",
     "name": "stdout",
     "text": [
      "val Loss: 0.0025 ACC 0.8007\n",
      "Epoch 121/200\n",
      "-------------------------------\n"
     ]
    },
    {
     "output_type": "stream",
     "name": "stderr",
     "text": [
      "100%|██████████| 300/300 [00:21<00:00, 13.71it/s]\n"
     ]
    },
    {
     "output_type": "stream",
     "name": "stdout",
     "text": [
      "train Loss: 0.0009 ACC 0.8897\n"
     ]
    },
    {
     "output_type": "stream",
     "name": "stderr",
     "text": [
      "100%|██████████| 86/86 [00:03<00:00, 23.36it/s]\n"
     ]
    },
    {
     "output_type": "stream",
     "name": "stdout",
     "text": [
      "val Loss: 0.0017 ACC 0.8022\n",
      "Epoch 122/200\n",
      "-------------------------------\n"
     ]
    },
    {
     "output_type": "stream",
     "name": "stderr",
     "text": [
      "100%|██████████| 300/300 [00:21<00:00, 13.66it/s]\n"
     ]
    },
    {
     "output_type": "stream",
     "name": "stdout",
     "text": [
      "train Loss: 0.0006 ACC 0.8907\n"
     ]
    },
    {
     "output_type": "stream",
     "name": "stderr",
     "text": [
      "100%|██████████| 86/86 [00:03<00:00, 22.88it/s]\n"
     ]
    },
    {
     "output_type": "stream",
     "name": "stdout",
     "text": [
      "val Loss: 0.0009 ACC 0.8270\n",
      "Epoch 123/200\n",
      "-------------------------------\n"
     ]
    },
    {
     "output_type": "stream",
     "name": "stderr",
     "text": [
      "100%|██████████| 300/300 [00:21<00:00, 13.73it/s]\n"
     ]
    },
    {
     "output_type": "stream",
     "name": "stdout",
     "text": [
      "train Loss: 0.0008 ACC 0.8876\n"
     ]
    },
    {
     "output_type": "stream",
     "name": "stderr",
     "text": [
      "100%|██████████| 86/86 [00:03<00:00, 23.17it/s]\n"
     ]
    },
    {
     "output_type": "stream",
     "name": "stdout",
     "text": [
      "val Loss: 0.0011 ACC 0.8139\n",
      "Epoch 124/200\n",
      "-------------------------------\n"
     ]
    },
    {
     "output_type": "stream",
     "name": "stderr",
     "text": [
      "100%|██████████| 300/300 [00:21<00:00, 13.79it/s]\n"
     ]
    },
    {
     "output_type": "stream",
     "name": "stdout",
     "text": [
      "train Loss: 0.0013 ACC 0.8941\n"
     ]
    },
    {
     "output_type": "stream",
     "name": "stderr",
     "text": [
      "100%|██████████| 86/86 [00:03<00:00, 22.93it/s]\n"
     ]
    },
    {
     "output_type": "stream",
     "name": "stdout",
     "text": [
      "val Loss: 0.0038 ACC 0.8051\n",
      "Epoch 125/200\n",
      "-------------------------------\n"
     ]
    },
    {
     "output_type": "stream",
     "name": "stderr",
     "text": [
      "100%|██████████| 300/300 [00:21<00:00, 13.72it/s]\n"
     ]
    },
    {
     "output_type": "stream",
     "name": "stdout",
     "text": [
      "train Loss: 0.0003 ACC 0.8970\n"
     ]
    },
    {
     "output_type": "stream",
     "name": "stderr",
     "text": [
      "100%|██████████| 86/86 [00:03<00:00, 23.09it/s]\n"
     ]
    },
    {
     "output_type": "stream",
     "name": "stdout",
     "text": [
      "val Loss: 0.0024 ACC 0.8029\n",
      "Epoch 126/200\n",
      "-------------------------------\n"
     ]
    },
    {
     "output_type": "stream",
     "name": "stderr",
     "text": [
      "100%|██████████| 300/300 [00:21<00:00, 13.72it/s]\n"
     ]
    },
    {
     "output_type": "stream",
     "name": "stdout",
     "text": [
      "train Loss: 0.0002 ACC 0.8951\n"
     ]
    },
    {
     "output_type": "stream",
     "name": "stderr",
     "text": [
      "100%|██████████| 86/86 [00:03<00:00, 23.43it/s]\n"
     ]
    },
    {
     "output_type": "stream",
     "name": "stdout",
     "text": [
      "val Loss: 0.0044 ACC 0.8117\n",
      "Epoch 127/200\n",
      "-------------------------------\n"
     ]
    },
    {
     "output_type": "stream",
     "name": "stderr",
     "text": [
      "100%|██████████| 300/300 [00:21<00:00, 14.08it/s]\n"
     ]
    },
    {
     "output_type": "stream",
     "name": "stdout",
     "text": [
      "train Loss: 0.0005 ACC 0.8999\n"
     ]
    },
    {
     "output_type": "stream",
     "name": "stderr",
     "text": [
      "100%|██████████| 86/86 [00:03<00:00, 22.49it/s]\n"
     ]
    },
    {
     "output_type": "stream",
     "name": "stdout",
     "text": [
      "val Loss: 0.0027 ACC 0.8204\n",
      "Epoch 128/200\n",
      "-------------------------------\n"
     ]
    },
    {
     "output_type": "stream",
     "name": "stderr",
     "text": [
      "100%|██████████| 300/300 [00:21<00:00, 13.83it/s]\n"
     ]
    },
    {
     "output_type": "stream",
     "name": "stdout",
     "text": [
      "train Loss: 0.0004 ACC 0.8935\n"
     ]
    },
    {
     "output_type": "stream",
     "name": "stderr",
     "text": [
      "100%|██████████| 86/86 [00:03<00:00, 22.88it/s]\n"
     ]
    },
    {
     "output_type": "stream",
     "name": "stdout",
     "text": [
      "val Loss: 0.0018 ACC 0.8058\n",
      "Epoch 129/200\n",
      "-------------------------------\n"
     ]
    },
    {
     "output_type": "stream",
     "name": "stderr",
     "text": [
      "100%|██████████| 300/300 [00:21<00:00, 13.95it/s]\n"
     ]
    },
    {
     "output_type": "stream",
     "name": "stdout",
     "text": [
      "train Loss: 0.0009 ACC 0.8949\n"
     ]
    },
    {
     "output_type": "stream",
     "name": "stderr",
     "text": [
      "100%|██████████| 86/86 [00:03<00:00, 22.42it/s]\n"
     ]
    },
    {
     "output_type": "stream",
     "name": "stdout",
     "text": [
      "val Loss: 0.0025 ACC 0.8197\n",
      "Epoch 130/200\n",
      "-------------------------------\n"
     ]
    },
    {
     "output_type": "stream",
     "name": "stderr",
     "text": [
      "100%|██████████| 300/300 [00:21<00:00, 14.05it/s]\n"
     ]
    },
    {
     "output_type": "stream",
     "name": "stdout",
     "text": [
      "train Loss: 0.0010 ACC 0.8930\n"
     ]
    },
    {
     "output_type": "stream",
     "name": "stderr",
     "text": [
      "100%|██████████| 86/86 [00:03<00:00, 23.05it/s]\n"
     ]
    },
    {
     "output_type": "stream",
     "name": "stdout",
     "text": [
      "val Loss: 0.0029 ACC 0.8058\n",
      "Epoch 131/200\n",
      "-------------------------------\n"
     ]
    },
    {
     "output_type": "stream",
     "name": "stderr",
     "text": [
      "100%|██████████| 300/300 [00:21<00:00, 13.85it/s]\n"
     ]
    },
    {
     "output_type": "stream",
     "name": "stdout",
     "text": [
      "train Loss: 0.0012 ACC 0.8943\n"
     ]
    },
    {
     "output_type": "stream",
     "name": "stderr",
     "text": [
      "100%|██████████| 86/86 [00:03<00:00, 22.71it/s]\n"
     ]
    },
    {
     "output_type": "stream",
     "name": "stdout",
     "text": [
      "val Loss: 0.0019 ACC 0.8204\n",
      "Epoch 132/200\n",
      "-------------------------------\n"
     ]
    },
    {
     "output_type": "stream",
     "name": "stderr",
     "text": [
      "100%|██████████| 300/300 [00:21<00:00, 14.03it/s]\n"
     ]
    },
    {
     "output_type": "stream",
     "name": "stdout",
     "text": [
      "train Loss: 0.0007 ACC 0.9037\n"
     ]
    },
    {
     "output_type": "stream",
     "name": "stderr",
     "text": [
      "100%|██████████| 86/86 [00:03<00:00, 23.19it/s]\n"
     ]
    },
    {
     "output_type": "stream",
     "name": "stdout",
     "text": [
      "val Loss: 0.0037 ACC 0.8204\n",
      "Epoch 133/200\n",
      "-------------------------------\n"
     ]
    },
    {
     "output_type": "stream",
     "name": "stderr",
     "text": [
      "100%|██████████| 300/300 [00:21<00:00, 13.86it/s]\n"
     ]
    },
    {
     "output_type": "stream",
     "name": "stdout",
     "text": [
      "train Loss: 0.0019 ACC 0.9022\n"
     ]
    },
    {
     "output_type": "stream",
     "name": "stderr",
     "text": [
      "100%|██████████| 86/86 [00:03<00:00, 22.38it/s]\n"
     ]
    },
    {
     "output_type": "stream",
     "name": "stdout",
     "text": [
      "val Loss: 0.0017 ACC 0.8109\n",
      "Epoch 134/200\n",
      "-------------------------------\n"
     ]
    },
    {
     "output_type": "stream",
     "name": "stderr",
     "text": [
      "100%|██████████| 300/300 [00:21<00:00, 13.80it/s]\n"
     ]
    },
    {
     "output_type": "stream",
     "name": "stdout",
     "text": [
      "train Loss: 0.0013 ACC 0.9020\n"
     ]
    },
    {
     "output_type": "stream",
     "name": "stderr",
     "text": [
      "100%|██████████| 86/86 [00:03<00:00, 22.34it/s]\n"
     ]
    },
    {
     "output_type": "stream",
     "name": "stdout",
     "text": [
      "val Loss: 0.0016 ACC 0.8095\n",
      "Epoch 135/200\n",
      "-------------------------------\n"
     ]
    },
    {
     "output_type": "stream",
     "name": "stderr",
     "text": [
      "100%|██████████| 300/300 [00:21<00:00, 13.86it/s]\n"
     ]
    },
    {
     "output_type": "stream",
     "name": "stdout",
     "text": [
      "train Loss: 0.0001 ACC 0.8935\n"
     ]
    },
    {
     "output_type": "stream",
     "name": "stderr",
     "text": [
      "100%|██████████| 86/86 [00:03<00:00, 23.47it/s]\n"
     ]
    },
    {
     "output_type": "stream",
     "name": "stdout",
     "text": [
      "val Loss: 0.0012 ACC 0.8212\n",
      "Epoch 136/200\n",
      "-------------------------------\n"
     ]
    },
    {
     "output_type": "stream",
     "name": "stderr",
     "text": [
      "100%|██████████| 300/300 [00:21<00:00, 13.85it/s]\n"
     ]
    },
    {
     "output_type": "stream",
     "name": "stdout",
     "text": [
      "train Loss: 0.0002 ACC 0.9026\n"
     ]
    },
    {
     "output_type": "stream",
     "name": "stderr",
     "text": [
      "100%|██████████| 86/86 [00:03<00:00, 22.61it/s]\n"
     ]
    },
    {
     "output_type": "stream",
     "name": "stdout",
     "text": [
      "val Loss: 0.0062 ACC 0.8146\n",
      "Epoch 137/200\n",
      "-------------------------------\n"
     ]
    },
    {
     "output_type": "stream",
     "name": "stderr",
     "text": [
      "100%|██████████| 300/300 [00:21<00:00, 14.03it/s]\n"
     ]
    },
    {
     "output_type": "stream",
     "name": "stdout",
     "text": [
      "train Loss: 0.0002 ACC 0.9016\n"
     ]
    },
    {
     "output_type": "stream",
     "name": "stderr",
     "text": [
      "100%|██████████| 86/86 [00:03<00:00, 21.99it/s]\n"
     ]
    },
    {
     "output_type": "stream",
     "name": "stdout",
     "text": [
      "val Loss: 0.0024 ACC 0.8153\n",
      "Epoch 138/200\n",
      "-------------------------------\n"
     ]
    },
    {
     "output_type": "stream",
     "name": "stderr",
     "text": [
      "100%|██████████| 300/300 [00:21<00:00, 13.97it/s]\n"
     ]
    },
    {
     "output_type": "stream",
     "name": "stdout",
     "text": [
      "train Loss: 0.0006 ACC 0.8945\n"
     ]
    },
    {
     "output_type": "stream",
     "name": "stderr",
     "text": [
      "100%|██████████| 86/86 [00:03<00:00, 23.44it/s]\n"
     ]
    },
    {
     "output_type": "stream",
     "name": "stdout",
     "text": [
      "val Loss: 0.0023 ACC 0.8248\n",
      "Epoch 139/200\n",
      "-------------------------------\n"
     ]
    },
    {
     "output_type": "stream",
     "name": "stderr",
     "text": [
      "100%|██████████| 300/300 [00:21<00:00, 13.98it/s]\n"
     ]
    },
    {
     "output_type": "stream",
     "name": "stdout",
     "text": [
      "train Loss: 0.0007 ACC 0.8989\n"
     ]
    },
    {
     "output_type": "stream",
     "name": "stderr",
     "text": [
      "100%|██████████| 86/86 [00:03<00:00, 23.52it/s]\n"
     ]
    },
    {
     "output_type": "stream",
     "name": "stdout",
     "text": [
      "val Loss: 0.0030 ACC 0.8219\n",
      "Epoch 140/200\n",
      "-------------------------------\n"
     ]
    },
    {
     "output_type": "stream",
     "name": "stderr",
     "text": [
      "100%|██████████| 300/300 [00:21<00:00, 13.87it/s]\n"
     ]
    },
    {
     "output_type": "stream",
     "name": "stdout",
     "text": [
      "train Loss: 0.0001 ACC 0.9033\n"
     ]
    },
    {
     "output_type": "stream",
     "name": "stderr",
     "text": [
      "100%|██████████| 86/86 [00:03<00:00, 22.94it/s]\n"
     ]
    },
    {
     "output_type": "stream",
     "name": "stdout",
     "text": [
      "val Loss: 0.0021 ACC 0.8248\n",
      "Epoch 141/200\n",
      "-------------------------------\n"
     ]
    },
    {
     "output_type": "stream",
     "name": "stderr",
     "text": [
      "100%|██████████| 300/300 [00:21<00:00, 13.93it/s]\n"
     ]
    },
    {
     "output_type": "stream",
     "name": "stdout",
     "text": [
      "train Loss: 0.0009 ACC 0.9068\n"
     ]
    },
    {
     "output_type": "stream",
     "name": "stderr",
     "text": [
      "100%|██████████| 86/86 [00:03<00:00, 23.12it/s]\n"
     ]
    },
    {
     "output_type": "stream",
     "name": "stdout",
     "text": [
      "val Loss: 0.0034 ACC 0.8197\n",
      "Epoch 142/200\n",
      "-------------------------------\n"
     ]
    },
    {
     "output_type": "stream",
     "name": "stderr",
     "text": [
      "100%|██████████| 300/300 [00:21<00:00, 13.90it/s]\n"
     ]
    },
    {
     "output_type": "stream",
     "name": "stdout",
     "text": [
      "train Loss: 0.0000 ACC 0.9070\n"
     ]
    },
    {
     "output_type": "stream",
     "name": "stderr",
     "text": [
      "100%|██████████| 86/86 [00:03<00:00, 22.72it/s]\n"
     ]
    },
    {
     "output_type": "stream",
     "name": "stdout",
     "text": [
      "val Loss: 0.0043 ACC 0.8226\n",
      "Epoch 143/200\n",
      "-------------------------------\n"
     ]
    },
    {
     "output_type": "stream",
     "name": "stderr",
     "text": [
      "100%|██████████| 300/300 [00:21<00:00, 13.89it/s]\n"
     ]
    },
    {
     "output_type": "stream",
     "name": "stdout",
     "text": [
      "train Loss: 0.0008 ACC 0.8949\n"
     ]
    },
    {
     "output_type": "stream",
     "name": "stderr",
     "text": [
      "100%|██████████| 86/86 [00:03<00:00, 22.83it/s]\n"
     ]
    },
    {
     "output_type": "stream",
     "name": "stdout",
     "text": [
      "val Loss: 0.0035 ACC 0.8285\n",
      "Epoch 144/200\n",
      "-------------------------------\n"
     ]
    },
    {
     "output_type": "stream",
     "name": "stderr",
     "text": [
      "100%|██████████| 300/300 [00:20<00:00, 14.35it/s]\n"
     ]
    },
    {
     "output_type": "stream",
     "name": "stdout",
     "text": [
      "train Loss: 0.0001 ACC 0.9014\n"
     ]
    },
    {
     "output_type": "stream",
     "name": "stderr",
     "text": [
      "100%|██████████| 86/86 [00:03<00:00, 23.35it/s]\n"
     ]
    },
    {
     "output_type": "stream",
     "name": "stdout",
     "text": [
      "val Loss: 0.0010 ACC 0.8102\n",
      "Epoch 145/200\n",
      "-------------------------------\n"
     ]
    },
    {
     "output_type": "stream",
     "name": "stderr",
     "text": [
      "100%|██████████| 300/300 [00:20<00:00, 14.66it/s]\n"
     ]
    },
    {
     "output_type": "stream",
     "name": "stdout",
     "text": [
      "train Loss: 0.0012 ACC 0.9003\n"
     ]
    },
    {
     "output_type": "stream",
     "name": "stderr",
     "text": [
      "100%|██████████| 86/86 [00:03<00:00, 23.62it/s]\n"
     ]
    },
    {
     "output_type": "stream",
     "name": "stdout",
     "text": [
      "val Loss: 0.0010 ACC 0.8153\n",
      "Epoch 146/200\n",
      "-------------------------------\n"
     ]
    },
    {
     "output_type": "stream",
     "name": "stderr",
     "text": [
      "100%|██████████| 300/300 [00:20<00:00, 14.45it/s]\n"
     ]
    },
    {
     "output_type": "stream",
     "name": "stdout",
     "text": [
      "train Loss: 0.0002 ACC 0.9066\n"
     ]
    },
    {
     "output_type": "stream",
     "name": "stderr",
     "text": [
      "100%|██████████| 86/86 [00:03<00:00, 22.55it/s]\n"
     ]
    },
    {
     "output_type": "stream",
     "name": "stdout",
     "text": [
      "val Loss: 0.0004 ACC 0.8234\n",
      "Epoch 147/200\n",
      "-------------------------------\n"
     ]
    },
    {
     "output_type": "stream",
     "name": "stderr",
     "text": [
      "100%|██████████| 300/300 [00:20<00:00, 14.56it/s]\n"
     ]
    },
    {
     "output_type": "stream",
     "name": "stdout",
     "text": [
      "train Loss: 0.0007 ACC 0.8989\n"
     ]
    },
    {
     "output_type": "stream",
     "name": "stderr",
     "text": [
      "100%|██████████| 86/86 [00:03<00:00, 22.99it/s]\n"
     ]
    },
    {
     "output_type": "stream",
     "name": "stdout",
     "text": [
      "val Loss: 0.0029 ACC 0.8182\n",
      "Epoch 148/200\n",
      "-------------------------------\n"
     ]
    },
    {
     "output_type": "stream",
     "name": "stderr",
     "text": [
      "100%|██████████| 300/300 [00:20<00:00, 14.95it/s]\n"
     ]
    },
    {
     "output_type": "stream",
     "name": "stdout",
     "text": [
      "train Loss: 0.0005 ACC 0.9143\n"
     ]
    },
    {
     "output_type": "stream",
     "name": "stderr",
     "text": [
      "100%|██████████| 86/86 [00:03<00:00, 23.36it/s]\n"
     ]
    },
    {
     "output_type": "stream",
     "name": "stdout",
     "text": [
      "val Loss: 0.0030 ACC 0.8328\n",
      "Epoch 149/200\n",
      "-------------------------------\n"
     ]
    },
    {
     "output_type": "stream",
     "name": "stderr",
     "text": [
      "100%|██████████| 300/300 [00:20<00:00, 14.64it/s]\n"
     ]
    },
    {
     "output_type": "stream",
     "name": "stdout",
     "text": [
      "train Loss: 0.0001 ACC 0.9047\n"
     ]
    },
    {
     "output_type": "stream",
     "name": "stderr",
     "text": [
      "100%|██████████| 86/86 [00:03<00:00, 23.37it/s]\n"
     ]
    },
    {
     "output_type": "stream",
     "name": "stdout",
     "text": [
      "val Loss: 0.0036 ACC 0.8336\n",
      "Epoch 150/200\n",
      "-------------------------------\n"
     ]
    },
    {
     "output_type": "stream",
     "name": "stderr",
     "text": [
      "100%|██████████| 300/300 [00:20<00:00, 14.58it/s]\n"
     ]
    },
    {
     "output_type": "stream",
     "name": "stdout",
     "text": [
      "train Loss: 0.0010 ACC 0.9060\n"
     ]
    },
    {
     "output_type": "stream",
     "name": "stderr",
     "text": [
      "100%|██████████| 86/86 [00:03<00:00, 24.03it/s]\n"
     ]
    },
    {
     "output_type": "stream",
     "name": "stdout",
     "text": [
      "val Loss: 0.0029 ACC 0.8380\n",
      "Epoch 151/200\n",
      "-------------------------------\n"
     ]
    },
    {
     "output_type": "stream",
     "name": "stderr",
     "text": [
      "100%|██████████| 300/300 [00:20<00:00, 14.96it/s]\n"
     ]
    },
    {
     "output_type": "stream",
     "name": "stdout",
     "text": [
      "train Loss: 0.0002 ACC 0.9062\n"
     ]
    },
    {
     "output_type": "stream",
     "name": "stderr",
     "text": [
      "100%|██████████| 86/86 [00:03<00:00, 24.28it/s]\n"
     ]
    },
    {
     "output_type": "stream",
     "name": "stdout",
     "text": [
      "val Loss: 0.0061 ACC 0.8292\n",
      "Epoch 152/200\n",
      "-------------------------------\n"
     ]
    },
    {
     "output_type": "stream",
     "name": "stderr",
     "text": [
      "100%|██████████| 300/300 [00:20<00:00, 14.96it/s]\n"
     ]
    },
    {
     "output_type": "stream",
     "name": "stdout",
     "text": [
      "train Loss: 0.0004 ACC 0.9014\n"
     ]
    },
    {
     "output_type": "stream",
     "name": "stderr",
     "text": [
      "100%|██████████| 86/86 [00:03<00:00, 24.12it/s]\n"
     ]
    },
    {
     "output_type": "stream",
     "name": "stdout",
     "text": [
      "val Loss: 0.0012 ACC 0.8270\n",
      "Epoch 153/200\n",
      "-------------------------------\n"
     ]
    },
    {
     "output_type": "stream",
     "name": "stderr",
     "text": [
      "100%|██████████| 300/300 [00:20<00:00, 14.91it/s]\n"
     ]
    },
    {
     "output_type": "stream",
     "name": "stdout",
     "text": [
      "train Loss: 0.0003 ACC 0.9047\n"
     ]
    },
    {
     "output_type": "stream",
     "name": "stderr",
     "text": [
      "100%|██████████| 86/86 [00:03<00:00, 24.19it/s]\n"
     ]
    },
    {
     "output_type": "stream",
     "name": "stdout",
     "text": [
      "val Loss: 0.0014 ACC 0.8299\n",
      "Epoch 154/200\n",
      "-------------------------------\n"
     ]
    },
    {
     "output_type": "stream",
     "name": "stderr",
     "text": [
      "100%|██████████| 300/300 [00:20<00:00, 14.81it/s]\n"
     ]
    },
    {
     "output_type": "stream",
     "name": "stdout",
     "text": [
      "train Loss: 0.0018 ACC 0.9160\n"
     ]
    },
    {
     "output_type": "stream",
     "name": "stderr",
     "text": [
      "100%|██████████| 86/86 [00:03<00:00, 24.05it/s]\n"
     ]
    },
    {
     "output_type": "stream",
     "name": "stdout",
     "text": [
      "val Loss: 0.0010 ACC 0.8285\n",
      "Epoch 155/200\n",
      "-------------------------------\n"
     ]
    },
    {
     "output_type": "stream",
     "name": "stderr",
     "text": [
      "100%|██████████| 300/300 [00:20<00:00, 14.83it/s]\n"
     ]
    },
    {
     "output_type": "stream",
     "name": "stdout",
     "text": [
      "train Loss: 0.0013 ACC 0.9080\n"
     ]
    },
    {
     "output_type": "stream",
     "name": "stderr",
     "text": [
      "100%|██████████| 86/86 [00:03<00:00, 24.10it/s]\n"
     ]
    },
    {
     "output_type": "stream",
     "name": "stdout",
     "text": [
      "val Loss: 0.0024 ACC 0.8117\n",
      "Epoch 156/200\n",
      "-------------------------------\n"
     ]
    },
    {
     "output_type": "stream",
     "name": "stderr",
     "text": [
      "100%|██████████| 300/300 [00:20<00:00, 14.90it/s]\n"
     ]
    },
    {
     "output_type": "stream",
     "name": "stdout",
     "text": [
      "train Loss: 0.0009 ACC 0.9010\n"
     ]
    },
    {
     "output_type": "stream",
     "name": "stderr",
     "text": [
      "100%|██████████| 86/86 [00:03<00:00, 24.11it/s]\n"
     ]
    },
    {
     "output_type": "stream",
     "name": "stdout",
     "text": [
      "val Loss: 0.0010 ACC 0.8212\n",
      "Epoch 157/200\n",
      "-------------------------------\n"
     ]
    },
    {
     "output_type": "stream",
     "name": "stderr",
     "text": [
      "100%|██████████| 300/300 [00:20<00:00, 14.82it/s]\n"
     ]
    },
    {
     "output_type": "stream",
     "name": "stdout",
     "text": [
      "train Loss: 0.0006 ACC 0.9101\n"
     ]
    },
    {
     "output_type": "stream",
     "name": "stderr",
     "text": [
      "100%|██████████| 86/86 [00:03<00:00, 24.11it/s]\n"
     ]
    },
    {
     "output_type": "stream",
     "name": "stdout",
     "text": [
      "val Loss: 0.0029 ACC 0.8197\n",
      "Epoch 158/200\n",
      "-------------------------------\n"
     ]
    },
    {
     "output_type": "stream",
     "name": "stderr",
     "text": [
      "100%|██████████| 300/300 [00:20<00:00, 14.88it/s]\n"
     ]
    },
    {
     "output_type": "stream",
     "name": "stdout",
     "text": [
      "train Loss: 0.0005 ACC 0.9095\n"
     ]
    },
    {
     "output_type": "stream",
     "name": "stderr",
     "text": [
      "100%|██████████| 86/86 [00:03<00:00, 24.12it/s]\n"
     ]
    },
    {
     "output_type": "stream",
     "name": "stdout",
     "text": [
      "val Loss: 0.0014 ACC 0.8292\n",
      "Epoch 159/200\n",
      "-------------------------------\n"
     ]
    },
    {
     "output_type": "stream",
     "name": "stderr",
     "text": [
      "100%|██████████| 300/300 [00:20<00:00, 14.87it/s]\n"
     ]
    },
    {
     "output_type": "stream",
     "name": "stdout",
     "text": [
      "train Loss: 0.0012 ACC 0.9103\n"
     ]
    },
    {
     "output_type": "stream",
     "name": "stderr",
     "text": [
      "100%|██████████| 86/86 [00:03<00:00, 24.14it/s]\n"
     ]
    },
    {
     "output_type": "stream",
     "name": "stdout",
     "text": [
      "val Loss: 0.0030 ACC 0.8314\n",
      "Epoch 160/200\n",
      "-------------------------------\n"
     ]
    },
    {
     "output_type": "stream",
     "name": "stderr",
     "text": [
      "100%|██████████| 300/300 [00:20<00:00, 14.80it/s]\n"
     ]
    },
    {
     "output_type": "stream",
     "name": "stdout",
     "text": [
      "train Loss: 0.0003 ACC 0.9120\n"
     ]
    },
    {
     "output_type": "stream",
     "name": "stderr",
     "text": [
      "100%|██████████| 86/86 [00:03<00:00, 23.87it/s]\n"
     ]
    },
    {
     "output_type": "stream",
     "name": "stdout",
     "text": [
      "val Loss: 0.0038 ACC 0.8248\n",
      "Epoch 161/200\n",
      "-------------------------------\n"
     ]
    },
    {
     "output_type": "stream",
     "name": "stderr",
     "text": [
      "100%|██████████| 300/300 [00:20<00:00, 14.77it/s]\n"
     ]
    },
    {
     "output_type": "stream",
     "name": "stdout",
     "text": [
      "train Loss: 0.0003 ACC 0.9124\n"
     ]
    },
    {
     "output_type": "stream",
     "name": "stderr",
     "text": [
      "100%|██████████| 86/86 [00:03<00:00, 23.52it/s]\n"
     ]
    },
    {
     "output_type": "stream",
     "name": "stdout",
     "text": [
      "val Loss: 0.0075 ACC 0.8431\n",
      "Epoch 162/200\n",
      "-------------------------------\n"
     ]
    },
    {
     "output_type": "stream",
     "name": "stderr",
     "text": [
      "100%|██████████| 300/300 [00:20<00:00, 14.56it/s]\n"
     ]
    },
    {
     "output_type": "stream",
     "name": "stdout",
     "text": [
      "train Loss: 0.0013 ACC 0.9135\n"
     ]
    },
    {
     "output_type": "stream",
     "name": "stderr",
     "text": [
      "100%|██████████| 86/86 [00:03<00:00, 23.83it/s]\n"
     ]
    },
    {
     "output_type": "stream",
     "name": "stdout",
     "text": [
      "val Loss: 0.0013 ACC 0.8460\n",
      "Epoch 163/200\n",
      "-------------------------------\n"
     ]
    },
    {
     "output_type": "stream",
     "name": "stderr",
     "text": [
      "100%|██████████| 300/300 [00:20<00:00, 14.61it/s]\n"
     ]
    },
    {
     "output_type": "stream",
     "name": "stdout",
     "text": [
      "train Loss: 0.0012 ACC 0.9114\n"
     ]
    },
    {
     "output_type": "stream",
     "name": "stderr",
     "text": [
      "100%|██████████| 86/86 [00:03<00:00, 22.00it/s]\n"
     ]
    },
    {
     "output_type": "stream",
     "name": "stdout",
     "text": [
      "val Loss: 0.0020 ACC 0.8365\n",
      "Epoch 164/200\n",
      "-------------------------------\n"
     ]
    },
    {
     "output_type": "stream",
     "name": "stderr",
     "text": [
      "100%|██████████| 300/300 [00:20<00:00, 14.70it/s]\n"
     ]
    },
    {
     "output_type": "stream",
     "name": "stdout",
     "text": [
      "train Loss: 0.0008 ACC 0.9078\n"
     ]
    },
    {
     "output_type": "stream",
     "name": "stderr",
     "text": [
      "100%|██████████| 86/86 [00:03<00:00, 23.27it/s]\n"
     ]
    },
    {
     "output_type": "stream",
     "name": "stdout",
     "text": [
      "val Loss: 0.0014 ACC 0.8336\n",
      "Epoch 165/200\n",
      "-------------------------------\n"
     ]
    },
    {
     "output_type": "stream",
     "name": "stderr",
     "text": [
      "100%|██████████| 300/300 [00:20<00:00, 14.72it/s]\n"
     ]
    },
    {
     "output_type": "stream",
     "name": "stdout",
     "text": [
      "train Loss: 0.0015 ACC 0.9106\n"
     ]
    },
    {
     "output_type": "stream",
     "name": "stderr",
     "text": [
      "100%|██████████| 86/86 [00:03<00:00, 23.40it/s]\n"
     ]
    },
    {
     "output_type": "stream",
     "name": "stdout",
     "text": [
      "val Loss: 0.0023 ACC 0.8409\n",
      "Epoch 166/200\n",
      "-------------------------------\n"
     ]
    },
    {
     "output_type": "stream",
     "name": "stderr",
     "text": [
      "100%|██████████| 300/300 [00:20<00:00, 14.72it/s]\n"
     ]
    },
    {
     "output_type": "stream",
     "name": "stdout",
     "text": [
      "train Loss: 0.0002 ACC 0.9089\n"
     ]
    },
    {
     "output_type": "stream",
     "name": "stderr",
     "text": [
      "100%|██████████| 86/86 [00:03<00:00, 23.48it/s]\n"
     ]
    },
    {
     "output_type": "stream",
     "name": "stdout",
     "text": [
      "val Loss: 0.0052 ACC 0.8365\n",
      "Epoch 167/200\n",
      "-------------------------------\n"
     ]
    },
    {
     "output_type": "stream",
     "name": "stderr",
     "text": [
      "100%|██████████| 300/300 [00:20<00:00, 14.72it/s]\n"
     ]
    },
    {
     "output_type": "stream",
     "name": "stdout",
     "text": [
      "train Loss: 0.0006 ACC 0.9103\n"
     ]
    },
    {
     "output_type": "stream",
     "name": "stderr",
     "text": [
      "100%|██████████| 86/86 [00:03<00:00, 23.89it/s]\n"
     ]
    },
    {
     "output_type": "stream",
     "name": "stdout",
     "text": [
      "val Loss: 0.0045 ACC 0.8401\n",
      "Epoch 168/200\n",
      "-------------------------------\n"
     ]
    },
    {
     "output_type": "stream",
     "name": "stderr",
     "text": [
      "100%|██████████| 300/300 [00:20<00:00, 14.52it/s]\n"
     ]
    },
    {
     "output_type": "stream",
     "name": "stdout",
     "text": [
      "train Loss: 0.0007 ACC 0.9085\n"
     ]
    },
    {
     "output_type": "stream",
     "name": "stderr",
     "text": [
      "100%|██████████| 86/86 [00:03<00:00, 23.40it/s]\n"
     ]
    },
    {
     "output_type": "stream",
     "name": "stdout",
     "text": [
      "val Loss: 0.0006 ACC 0.8248\n",
      "Epoch 169/200\n",
      "-------------------------------\n"
     ]
    },
    {
     "output_type": "stream",
     "name": "stderr",
     "text": [
      "100%|██████████| 300/300 [00:20<00:00, 14.64it/s]\n"
     ]
    },
    {
     "output_type": "stream",
     "name": "stdout",
     "text": [
      "train Loss: 0.0000 ACC 0.9074\n"
     ]
    },
    {
     "output_type": "stream",
     "name": "stderr",
     "text": [
      "100%|██████████| 86/86 [00:03<00:00, 23.96it/s]\n"
     ]
    },
    {
     "output_type": "stream",
     "name": "stdout",
     "text": [
      "val Loss: 0.0015 ACC 0.8401\n",
      "Epoch 170/200\n",
      "-------------------------------\n"
     ]
    },
    {
     "output_type": "stream",
     "name": "stderr",
     "text": [
      "100%|██████████| 300/300 [00:20<00:00, 14.68it/s]\n"
     ]
    },
    {
     "output_type": "stream",
     "name": "stdout",
     "text": [
      "train Loss: 0.0001 ACC 0.9181\n"
     ]
    },
    {
     "output_type": "stream",
     "name": "stderr",
     "text": [
      "100%|██████████| 86/86 [00:03<00:00, 23.64it/s]\n"
     ]
    },
    {
     "output_type": "stream",
     "name": "stdout",
     "text": [
      "val Loss: 0.0025 ACC 0.8182\n",
      "Epoch 171/200\n",
      "-------------------------------\n"
     ]
    },
    {
     "output_type": "stream",
     "name": "stderr",
     "text": [
      "100%|██████████| 300/300 [00:20<00:00, 14.38it/s]\n"
     ]
    },
    {
     "output_type": "stream",
     "name": "stdout",
     "text": [
      "train Loss: 0.0001 ACC 0.9149\n"
     ]
    },
    {
     "output_type": "stream",
     "name": "stderr",
     "text": [
      "100%|██████████| 86/86 [00:03<00:00, 23.98it/s]\n"
     ]
    },
    {
     "output_type": "stream",
     "name": "stdout",
     "text": [
      "val Loss: 0.0019 ACC 0.8394\n",
      "Epoch 172/200\n",
      "-------------------------------\n"
     ]
    },
    {
     "output_type": "stream",
     "name": "stderr",
     "text": [
      "100%|██████████| 300/300 [00:20<00:00, 14.60it/s]\n"
     ]
    },
    {
     "output_type": "stream",
     "name": "stdout",
     "text": [
      "train Loss: 0.0001 ACC 0.9160\n"
     ]
    },
    {
     "output_type": "stream",
     "name": "stderr",
     "text": [
      "100%|██████████| 86/86 [00:03<00:00, 23.98it/s]\n"
     ]
    },
    {
     "output_type": "stream",
     "name": "stdout",
     "text": [
      "val Loss: 0.0020 ACC 0.8182\n",
      "Epoch 173/200\n",
      "-------------------------------\n"
     ]
    },
    {
     "output_type": "stream",
     "name": "stderr",
     "text": [
      "100%|██████████| 300/300 [00:20<00:00, 14.51it/s]\n"
     ]
    },
    {
     "output_type": "stream",
     "name": "stdout",
     "text": [
      "train Loss: 0.0007 ACC 0.9195\n"
     ]
    },
    {
     "output_type": "stream",
     "name": "stderr",
     "text": [
      "100%|██████████| 86/86 [00:03<00:00, 23.10it/s]\n"
     ]
    },
    {
     "output_type": "stream",
     "name": "stdout",
     "text": [
      "val Loss: 0.0001 ACC 0.8314\n",
      "Epoch 174/200\n",
      "-------------------------------\n"
     ]
    },
    {
     "output_type": "stream",
     "name": "stderr",
     "text": [
      "100%|██████████| 300/300 [00:20<00:00, 14.67it/s]\n"
     ]
    },
    {
     "output_type": "stream",
     "name": "stdout",
     "text": [
      "train Loss: 0.0002 ACC 0.9183\n"
     ]
    },
    {
     "output_type": "stream",
     "name": "stderr",
     "text": [
      "100%|██████████| 86/86 [00:03<00:00, 24.04it/s]\n"
     ]
    },
    {
     "output_type": "stream",
     "name": "stdout",
     "text": [
      "val Loss: 0.0012 ACC 0.7985\n",
      "Epoch 175/200\n",
      "-------------------------------\n"
     ]
    },
    {
     "output_type": "stream",
     "name": "stderr",
     "text": [
      "100%|██████████| 300/300 [00:20<00:00, 14.54it/s]\n"
     ]
    },
    {
     "output_type": "stream",
     "name": "stdout",
     "text": [
      "train Loss: 0.0005 ACC 0.9110\n"
     ]
    },
    {
     "output_type": "stream",
     "name": "stderr",
     "text": [
      "100%|██████████| 86/86 [00:03<00:00, 22.55it/s]\n"
     ]
    },
    {
     "output_type": "stream",
     "name": "stdout",
     "text": [
      "val Loss: 0.0041 ACC 0.8467\n",
      "Epoch 176/200\n",
      "-------------------------------\n"
     ]
    },
    {
     "output_type": "stream",
     "name": "stderr",
     "text": [
      "100%|██████████| 300/300 [00:20<00:00, 14.66it/s]\n"
     ]
    },
    {
     "output_type": "stream",
     "name": "stdout",
     "text": [
      "train Loss: 0.0002 ACC 0.9126\n"
     ]
    },
    {
     "output_type": "stream",
     "name": "stderr",
     "text": [
      "100%|██████████| 86/86 [00:03<00:00, 23.61it/s]\n"
     ]
    },
    {
     "output_type": "stream",
     "name": "stdout",
     "text": [
      "val Loss: 0.0018 ACC 0.8299\n",
      "Epoch 177/200\n",
      "-------------------------------\n"
     ]
    },
    {
     "output_type": "stream",
     "name": "stderr",
     "text": [
      "100%|██████████| 300/300 [00:20<00:00, 14.58it/s]\n"
     ]
    },
    {
     "output_type": "stream",
     "name": "stdout",
     "text": [
      "train Loss: 0.0005 ACC 0.9110\n"
     ]
    },
    {
     "output_type": "stream",
     "name": "stderr",
     "text": [
      "100%|██████████| 86/86 [00:03<00:00, 24.45it/s]\n"
     ]
    },
    {
     "output_type": "stream",
     "name": "stdout",
     "text": [
      "val Loss: 0.0011 ACC 0.8511\n",
      "Epoch 178/200\n",
      "-------------------------------\n"
     ]
    },
    {
     "output_type": "stream",
     "name": "stderr",
     "text": [
      "100%|██████████| 300/300 [00:20<00:00, 14.89it/s]\n"
     ]
    },
    {
     "output_type": "stream",
     "name": "stdout",
     "text": [
      "train Loss: 0.0009 ACC 0.9122\n"
     ]
    },
    {
     "output_type": "stream",
     "name": "stderr",
     "text": [
      "100%|██████████| 86/86 [00:03<00:00, 24.19it/s]\n"
     ]
    },
    {
     "output_type": "stream",
     "name": "stdout",
     "text": [
      "val Loss: 0.0017 ACC 0.8401\n",
      "Epoch 179/200\n",
      "-------------------------------\n"
     ]
    },
    {
     "output_type": "stream",
     "name": "stderr",
     "text": [
      "100%|██████████| 300/300 [00:20<00:00, 14.90it/s]\n"
     ]
    },
    {
     "output_type": "stream",
     "name": "stdout",
     "text": [
      "train Loss: 0.0009 ACC 0.9237\n"
     ]
    },
    {
     "output_type": "stream",
     "name": "stderr",
     "text": [
      "100%|██████████| 86/86 [00:03<00:00, 24.04it/s]\n"
     ]
    },
    {
     "output_type": "stream",
     "name": "stdout",
     "text": [
      "val Loss: 0.0009 ACC 0.8270\n",
      "Epoch 180/200\n",
      "-------------------------------\n"
     ]
    },
    {
     "output_type": "stream",
     "name": "stderr",
     "text": [
      "100%|██████████| 300/300 [00:20<00:00, 14.88it/s]\n"
     ]
    },
    {
     "output_type": "stream",
     "name": "stdout",
     "text": [
      "train Loss: 0.0013 ACC 0.9164\n"
     ]
    },
    {
     "output_type": "stream",
     "name": "stderr",
     "text": [
      "100%|██████████| 86/86 [00:03<00:00, 24.21it/s]\n"
     ]
    },
    {
     "output_type": "stream",
     "name": "stdout",
     "text": [
      "val Loss: 0.0033 ACC 0.8372\n",
      "Epoch 181/200\n",
      "-------------------------------\n"
     ]
    },
    {
     "output_type": "stream",
     "name": "stderr",
     "text": [
      "100%|██████████| 300/300 [00:20<00:00, 14.86it/s]\n"
     ]
    },
    {
     "output_type": "stream",
     "name": "stdout",
     "text": [
      "train Loss: 0.0007 ACC 0.9149\n"
     ]
    },
    {
     "output_type": "stream",
     "name": "stderr",
     "text": [
      "100%|██████████| 86/86 [00:03<00:00, 24.03it/s]\n"
     ]
    },
    {
     "output_type": "stream",
     "name": "stdout",
     "text": [
      "val Loss: 0.0095 ACC 0.8372\n",
      "Epoch 182/200\n",
      "-------------------------------\n"
     ]
    },
    {
     "output_type": "stream",
     "name": "stderr",
     "text": [
      "100%|██████████| 300/300 [00:20<00:00, 14.87it/s]\n"
     ]
    },
    {
     "output_type": "stream",
     "name": "stdout",
     "text": [
      "train Loss: 0.0011 ACC 0.9135\n"
     ]
    },
    {
     "output_type": "stream",
     "name": "stderr",
     "text": [
      "100%|██████████| 86/86 [00:03<00:00, 24.02it/s]\n"
     ]
    },
    {
     "output_type": "stream",
     "name": "stdout",
     "text": [
      "val Loss: 0.0011 ACC 0.8577\n",
      "Epoch 183/200\n",
      "-------------------------------\n"
     ]
    },
    {
     "output_type": "stream",
     "name": "stderr",
     "text": [
      "100%|██████████| 300/300 [00:20<00:00, 14.85it/s]\n"
     ]
    },
    {
     "output_type": "stream",
     "name": "stdout",
     "text": [
      "train Loss: 0.0004 ACC 0.9191\n"
     ]
    },
    {
     "output_type": "stream",
     "name": "stderr",
     "text": [
      "100%|██████████| 86/86 [00:03<00:00, 23.90it/s]\n"
     ]
    },
    {
     "output_type": "stream",
     "name": "stdout",
     "text": [
      "val Loss: 0.0011 ACC 0.8314\n",
      "Epoch 184/200\n",
      "-------------------------------\n"
     ]
    },
    {
     "output_type": "stream",
     "name": "stderr",
     "text": [
      "100%|██████████| 300/300 [00:20<00:00, 14.91it/s]\n"
     ]
    },
    {
     "output_type": "stream",
     "name": "stdout",
     "text": [
      "train Loss: 0.0005 ACC 0.9283\n"
     ]
    },
    {
     "output_type": "stream",
     "name": "stderr",
     "text": [
      "100%|██████████| 86/86 [00:03<00:00, 23.59it/s]\n"
     ]
    },
    {
     "output_type": "stream",
     "name": "stdout",
     "text": [
      "val Loss: 0.0027 ACC 0.8234\n",
      "Epoch 185/200\n",
      "-------------------------------\n"
     ]
    },
    {
     "output_type": "stream",
     "name": "stderr",
     "text": [
      "100%|██████████| 300/300 [00:20<00:00, 14.84it/s]\n"
     ]
    },
    {
     "output_type": "stream",
     "name": "stdout",
     "text": [
      "train Loss: 0.0010 ACC 0.9172\n"
     ]
    },
    {
     "output_type": "stream",
     "name": "stderr",
     "text": [
      "100%|██████████| 86/86 [00:03<00:00, 24.09it/s]\n"
     ]
    },
    {
     "output_type": "stream",
     "name": "stdout",
     "text": [
      "val Loss: 0.0042 ACC 0.8387\n",
      "Epoch 186/200\n",
      "-------------------------------\n"
     ]
    },
    {
     "output_type": "stream",
     "name": "stderr",
     "text": [
      "100%|██████████| 300/300 [00:20<00:00, 14.79it/s]\n"
     ]
    },
    {
     "output_type": "stream",
     "name": "stdout",
     "text": [
      "train Loss: 0.0006 ACC 0.9101\n"
     ]
    },
    {
     "output_type": "stream",
     "name": "stderr",
     "text": [
      "100%|██████████| 86/86 [00:03<00:00, 24.23it/s]\n"
     ]
    },
    {
     "output_type": "stream",
     "name": "stdout",
     "text": [
      "val Loss: 0.0017 ACC 0.8599\n",
      "Epoch 187/200\n",
      "-------------------------------\n"
     ]
    },
    {
     "output_type": "stream",
     "name": "stderr",
     "text": [
      "100%|██████████| 300/300 [00:20<00:00, 14.79it/s]\n"
     ]
    },
    {
     "output_type": "stream",
     "name": "stdout",
     "text": [
      "train Loss: 0.0013 ACC 0.9206\n"
     ]
    },
    {
     "output_type": "stream",
     "name": "stderr",
     "text": [
      "100%|██████████| 86/86 [00:03<00:00, 23.96it/s]\n"
     ]
    },
    {
     "output_type": "stream",
     "name": "stdout",
     "text": [
      "val Loss: 0.0060 ACC 0.8453\n",
      "Epoch 188/200\n",
      "-------------------------------\n"
     ]
    },
    {
     "output_type": "stream",
     "name": "stderr",
     "text": [
      "100%|██████████| 300/300 [00:20<00:00, 14.88it/s]\n"
     ]
    },
    {
     "output_type": "stream",
     "name": "stdout",
     "text": [
      "train Loss: 0.0005 ACC 0.9162\n"
     ]
    },
    {
     "output_type": "stream",
     "name": "stderr",
     "text": [
      "100%|██████████| 86/86 [00:03<00:00, 24.22it/s]\n"
     ]
    },
    {
     "output_type": "stream",
     "name": "stdout",
     "text": [
      "val Loss: 0.0016 ACC 0.8343\n",
      "Epoch 189/200\n",
      "-------------------------------\n"
     ]
    },
    {
     "output_type": "stream",
     "name": "stderr",
     "text": [
      "100%|██████████| 300/300 [00:20<00:00, 14.85it/s]\n"
     ]
    },
    {
     "output_type": "stream",
     "name": "stdout",
     "text": [
      "train Loss: 0.0005 ACC 0.9133\n"
     ]
    },
    {
     "output_type": "stream",
     "name": "stderr",
     "text": [
      "100%|██████████| 86/86 [00:03<00:00, 23.83it/s]\n"
     ]
    },
    {
     "output_type": "stream",
     "name": "stdout",
     "text": [
      "val Loss: 0.0056 ACC 0.8416\n",
      "Epoch 190/200\n",
      "-------------------------------\n"
     ]
    },
    {
     "output_type": "stream",
     "name": "stderr",
     "text": [
      "100%|██████████| 300/300 [00:20<00:00, 14.89it/s]\n"
     ]
    },
    {
     "output_type": "stream",
     "name": "stdout",
     "text": [
      "train Loss: 0.0010 ACC 0.9208\n"
     ]
    },
    {
     "output_type": "stream",
     "name": "stderr",
     "text": [
      "100%|██████████| 86/86 [00:03<00:00, 24.07it/s]\n"
     ]
    },
    {
     "output_type": "stream",
     "name": "stdout",
     "text": [
      "val Loss: 0.0025 ACC 0.8416\n",
      "Epoch 191/200\n",
      "-------------------------------\n"
     ]
    },
    {
     "output_type": "stream",
     "name": "stderr",
     "text": [
      "100%|██████████| 300/300 [00:20<00:00, 14.86it/s]\n"
     ]
    },
    {
     "output_type": "stream",
     "name": "stdout",
     "text": [
      "train Loss: 0.0009 ACC 0.9199\n"
     ]
    },
    {
     "output_type": "stream",
     "name": "stderr",
     "text": [
      "100%|██████████| 86/86 [00:03<00:00, 24.27it/s]\n"
     ]
    },
    {
     "output_type": "stream",
     "name": "stdout",
     "text": [
      "val Loss: 0.0017 ACC 0.8431\n",
      "Epoch 192/200\n",
      "-------------------------------\n"
     ]
    },
    {
     "output_type": "stream",
     "name": "stderr",
     "text": [
      "100%|██████████| 300/300 [00:20<00:00, 14.83it/s]\n"
     ]
    },
    {
     "output_type": "stream",
     "name": "stdout",
     "text": [
      "train Loss: 0.0002 ACC 0.9239\n"
     ]
    },
    {
     "output_type": "stream",
     "name": "stderr",
     "text": [
      "100%|██████████| 86/86 [00:03<00:00, 23.47it/s]\n"
     ]
    },
    {
     "output_type": "stream",
     "name": "stdout",
     "text": [
      "val Loss: 0.0018 ACC 0.8467\n",
      "Epoch 193/200\n",
      "-------------------------------\n"
     ]
    },
    {
     "output_type": "stream",
     "name": "stderr",
     "text": [
      "100%|██████████| 300/300 [00:20<00:00, 14.85it/s]\n"
     ]
    },
    {
     "output_type": "stream",
     "name": "stdout",
     "text": [
      "train Loss: 0.0002 ACC 0.9162\n"
     ]
    },
    {
     "output_type": "stream",
     "name": "stderr",
     "text": [
      "100%|██████████| 86/86 [00:03<00:00, 24.35it/s]\n"
     ]
    },
    {
     "output_type": "stream",
     "name": "stdout",
     "text": [
      "val Loss: 0.0020 ACC 0.8569\n",
      "Epoch 194/200\n",
      "-------------------------------\n"
     ]
    },
    {
     "output_type": "stream",
     "name": "stderr",
     "text": [
      "100%|██████████| 300/300 [00:20<00:00, 14.87it/s]\n"
     ]
    },
    {
     "output_type": "stream",
     "name": "stdout",
     "text": [
      "train Loss: 0.0004 ACC 0.9239\n"
     ]
    },
    {
     "output_type": "stream",
     "name": "stderr",
     "text": [
      "100%|██████████| 86/86 [00:03<00:00, 24.16it/s]\n"
     ]
    },
    {
     "output_type": "stream",
     "name": "stdout",
     "text": [
      "val Loss: 0.0017 ACC 0.8401\n",
      "Epoch 195/200\n",
      "-------------------------------\n"
     ]
    },
    {
     "output_type": "stream",
     "name": "stderr",
     "text": [
      "100%|██████████| 300/300 [00:20<00:00, 14.80it/s]\n"
     ]
    },
    {
     "output_type": "stream",
     "name": "stdout",
     "text": [
      "train Loss: 0.0009 ACC 0.9212\n"
     ]
    },
    {
     "output_type": "stream",
     "name": "stderr",
     "text": [
      "100%|██████████| 86/86 [00:03<00:00, 24.03it/s]\n"
     ]
    },
    {
     "output_type": "stream",
     "name": "stdout",
     "text": [
      "val Loss: 0.0025 ACC 0.8533\n",
      "Epoch 196/200\n",
      "-------------------------------\n"
     ]
    },
    {
     "output_type": "stream",
     "name": "stderr",
     "text": [
      "100%|██████████| 300/300 [00:20<00:00, 14.89it/s]\n"
     ]
    },
    {
     "output_type": "stream",
     "name": "stdout",
     "text": [
      "train Loss: 0.0014 ACC 0.9233\n"
     ]
    },
    {
     "output_type": "stream",
     "name": "stderr",
     "text": [
      "100%|██████████| 86/86 [00:03<00:00, 24.16it/s]\n"
     ]
    },
    {
     "output_type": "stream",
     "name": "stdout",
     "text": [
      "val Loss: 0.0009 ACC 0.8336\n",
      "Epoch 197/200\n",
      "-------------------------------\n"
     ]
    },
    {
     "output_type": "stream",
     "name": "stderr",
     "text": [
      "100%|██████████| 300/300 [00:20<00:00, 14.82it/s]\n"
     ]
    },
    {
     "output_type": "stream",
     "name": "stdout",
     "text": [
      "train Loss: 0.0001 ACC 0.9204\n"
     ]
    },
    {
     "output_type": "stream",
     "name": "stderr",
     "text": [
      "100%|██████████| 86/86 [00:03<00:00, 24.09it/s]\n"
     ]
    },
    {
     "output_type": "stream",
     "name": "stdout",
     "text": [
      "val Loss: 0.0005 ACC 0.8358\n",
      "Epoch 198/200\n",
      "-------------------------------\n"
     ]
    },
    {
     "output_type": "stream",
     "name": "stderr",
     "text": [
      "100%|██████████| 300/300 [00:20<00:00, 14.89it/s]\n"
     ]
    },
    {
     "output_type": "stream",
     "name": "stdout",
     "text": [
      "train Loss: 0.0004 ACC 0.9164\n"
     ]
    },
    {
     "output_type": "stream",
     "name": "stderr",
     "text": [
      "100%|██████████| 86/86 [00:03<00:00, 24.21it/s]\n"
     ]
    },
    {
     "output_type": "stream",
     "name": "stdout",
     "text": [
      "val Loss: 0.0009 ACC 0.8460\n",
      "Epoch 199/200\n",
      "-------------------------------\n"
     ]
    },
    {
     "output_type": "stream",
     "name": "stderr",
     "text": [
      "100%|██████████| 300/300 [00:20<00:00, 14.70it/s]\n"
     ]
    },
    {
     "output_type": "stream",
     "name": "stdout",
     "text": [
      "train Loss: 0.0004 ACC 0.9174\n"
     ]
    },
    {
     "output_type": "stream",
     "name": "stderr",
     "text": [
      "100%|██████████| 86/86 [00:03<00:00, 22.72it/s]\n"
     ]
    },
    {
     "output_type": "stream",
     "name": "stdout",
     "text": [
      "val Loss: 0.0020 ACC 0.8394\n",
      "Epoch 200/200\n",
      "-------------------------------\n"
     ]
    },
    {
     "output_type": "stream",
     "name": "stderr",
     "text": [
      "100%|██████████| 300/300 [00:20<00:00, 14.65it/s]\n"
     ]
    },
    {
     "output_type": "stream",
     "name": "stdout",
     "text": [
      "train Loss: 0.0003 ACC 0.9281\n"
     ]
    },
    {
     "output_type": "stream",
     "name": "stderr",
     "text": [
      "100%|██████████| 86/86 [00:03<00:00, 23.55it/s]"
     ]
    },
    {
     "output_type": "stream",
     "name": "stdout",
     "text": [
      "val Loss: 0.0022 ACC 0.8438\n"
     ]
    },
    {
     "output_type": "stream",
     "name": "stderr",
     "text": [
      "\n"
     ]
    }
   ],
   "metadata": {}
  },
  {
   "cell_type": "code",
   "execution_count": 266,
   "source": [
    "# save weight\n",
    "save_path = './saved_models/ResNet34_img_aihub+custom+augmentaion.pth'\n",
    "torch.save(model.state_dict(),save_path)"
   ],
   "outputs": [],
   "metadata": {}
  },
  {
   "cell_type": "code",
   "execution_count": 267,
   "source": [
    "# load weight\n",
    "load_path = './saved_models/ResNet34_img_aihub+custom+augmentaion.pth'\n",
    "load_weights = torch.load(load_path, map_location={'cuda:0': 'cpu'})\n",
    "# model = torchvision.models.densenet121(pretrained=True)\n",
    "model = torchvision.models.resnet34(pretrained=True)\n",
    "# first_conv_layer = [nn.Conv2d(1, 3, kernel_size=3, stride=1, padding=1, dilation=1, groups=1, bias=True)]\n",
    "# first_conv_layer.extend(list(model.features))  \n",
    "# model.features= nn.Sequential(*first_conv_layer )  \n",
    "# model.classifier = nn.Linear(in_features=1024, out_features=4)\n",
    "model.classifier = nn.Linear(in_features=1000, out_features=4)\n",
    "criterion = nn.CrossEntropyLoss()\n",
    "optimizer = optim.RMSprop(model.parameters() ,lr=0.00001, weight_decay=1e-6, momentum=0.9)\n",
    "model.eval()\n",
    "model.load_state_dict(load_weights)"
   ],
   "outputs": [
    {
     "output_type": "execute_result",
     "data": {
      "text/plain": [
       "<All keys matched successfully>"
      ]
     },
     "metadata": {},
     "execution_count": 267
    }
   ],
   "metadata": {}
  },
  {
   "cell_type": "code",
   "execution_count": 268,
   "source": [
    "class Predictor(object):\n",
    "    def __init__(self, model, device ='cpu',  fp16=False ):\n",
    "        self.model = model\n",
    "        \n",
    "        self.cls_name = {0:'angry', 1:'happy', 2:'sad', 3:'neutral'}\n",
    "        self.device = device\n",
    "        \n",
    "\n",
    "    def predict(self, audio):\n",
    "        \n",
    "        audio_info = audio\n",
    "        \n",
    "        outputs = self.model(audio_info)\n",
    "        probability = torch.softmax(outputs,1)\n",
    "        probability = probability.squeeze()\n",
    "        proba, idx = torch.max(probability, dim=0)\n",
    "        emo_proba = proba.item()\n",
    "        print(emo_proba)\n",
    "        idx = idx.item()\n",
    "        emo_label = self.cls_name[idx]\n",
    "        print(emo_label)\n",
    "        return emo_label\n",
    "\n"
   ],
   "outputs": [],
   "metadata": {}
  },
  {
   "cell_type": "code",
   "execution_count": 269,
   "source": [
    "def swdata(emotion):\n",
    "    swlist_1 = os.listdir('swdata/%s/' % emotion)\n",
    "    type(swlist_1)\n",
    "    swlist = []\n",
    "    for item in swlist_1:\n",
    "        if item[-3:] == 'wav':\n",
    "            swlist.append('./swdata/%s/' % emotion + item)\n",
    "    return swlist"
   ],
   "outputs": [],
   "metadata": {}
  },
  {
   "cell_type": "code",
   "execution_count": 270,
   "source": [
    "sw_list = swdata('angry') + swdata('happy') + swdata('sad') + swdata('neutral')\n",
    "\n",
    "random.shuffle(sw_list)"
   ],
   "outputs": [],
   "metadata": {}
  },
  {
   "cell_type": "code",
   "execution_count": 271,
   "source": [
    "sw_list"
   ],
   "outputs": [
    {
     "output_type": "execute_result",
     "data": {
      "text/plain": [
       "['./swdata/angry/0102.wav',\n",
       " './swdata/sad/1001.wav',\n",
       " './swdata/neutral/0801.wav',\n",
       " './swdata/happy/1102.wav',\n",
       " './swdata/sad/0202.wav',\n",
       " './swdata/happy/0902.wav',\n",
       " './swdata/angry/0201.wav',\n",
       " './swdata/neutral/1001.wav',\n",
       " './swdata/happy/0402.wav',\n",
       " './swdata/sad/1101.wav',\n",
       " './swdata/sad/0601.wav',\n",
       " './swdata/neutral/0802.wav',\n",
       " './swdata/happy/0201.wav',\n",
       " './swdata/sad/0902.wav',\n",
       " './swdata/angry/0401.wav',\n",
       " './swdata/neutral/0401.wav',\n",
       " './swdata/neutral/1101.wav',\n",
       " './swdata/happy/0102.wav',\n",
       " './swdata/neutral/1002.wav',\n",
       " './swdata/sad/0502.wav',\n",
       " './swdata/happy/1001.wav',\n",
       " './swdata/sad/0501.wav',\n",
       " './swdata/happy/1002.wav',\n",
       " './swdata/sad/0801.wav',\n",
       " './swdata/neutral/0202.wav',\n",
       " './swdata/happy/0602.wav',\n",
       " './swdata/sad/0701.wav',\n",
       " './swdata/happy/0501.wav',\n",
       " './swdata/angry/0501.wav',\n",
       " './swdata/happy/0701.wav',\n",
       " './swdata/angry/0103.wav',\n",
       " './swdata/neutral/0201.wav',\n",
       " './swdata/happy/0502.wav',\n",
       " './swdata/neutral/0701.wav',\n",
       " './swdata/happy/0702.wav',\n",
       " './swdata/angry/0701.wav',\n",
       " './swdata/happy/0202.wav',\n",
       " './swdata/neutral/1102.wav',\n",
       " './swdata/happy/0301.wav',\n",
       " './swdata/neutral/0102.wav',\n",
       " './swdata/angry/1001.wav',\n",
       " './swdata/angry/0802.wav',\n",
       " './swdata/angry/0502.wav',\n",
       " './swdata/angry/1002.wav',\n",
       " './swdata/sad/0102.wav',\n",
       " './swdata/neutral/0501.wav',\n",
       " './swdata/sad/0401.wav',\n",
       " './swdata/sad/0301.wav',\n",
       " './swdata/happy/0901.wav',\n",
       " './swdata/sad/0802.wav',\n",
       " './swdata/angry/1102.wav',\n",
       " './swdata/sad/0702.wav',\n",
       " './swdata/angry/0402.wav',\n",
       " './swdata/neutral/0502.wav',\n",
       " './swdata/angry/0202.wav',\n",
       " './swdata/sad/0901.wav',\n",
       " './swdata/sad/0201.wav',\n",
       " './swdata/happy/0801.wav',\n",
       " './swdata/neutral/0901.wav',\n",
       " './swdata/angry/0902.wav',\n",
       " './swdata/happy/0802.wav',\n",
       " './swdata/sad/0302.wav',\n",
       " './swdata/neutral/0702.wav',\n",
       " './swdata/angry/0101.wav',\n",
       " './swdata/sad/0602.wav',\n",
       " './swdata/angry/1101.wav',\n",
       " './swdata/happy/0601.wav',\n",
       " './swdata/angry/0602.wav',\n",
       " './swdata/neutral/0301.wav',\n",
       " './swdata/neutral/0602.wav',\n",
       " './swdata/angry/0301.wav',\n",
       " './swdata/angry/0601.wav',\n",
       " './swdata/neutral/0902.wav',\n",
       " './swdata/happy/0401.wav',\n",
       " './swdata/angry/0702.wav',\n",
       " './swdata/sad/0402.wav',\n",
       " './swdata/happy/0101.wav',\n",
       " './swdata/neutral/0302.wav',\n",
       " './swdata/neutral/0101.wav',\n",
       " './swdata/neutral/0601.wav',\n",
       " './swdata/angry/0801.wav',\n",
       " './swdata/neutral/0402.wav',\n",
       " './swdata/sad/1102.wav',\n",
       " './swdata/sad/0101.wav',\n",
       " './swdata/happy/0302.wav',\n",
       " './swdata/angry/0901.wav',\n",
       " './swdata/sad/1002.wav',\n",
       " './swdata/happy/1101.wav',\n",
       " './swdata/angry/0302.wav']"
      ]
     },
     "metadata": {},
     "execution_count": 271
    }
   ],
   "metadata": {}
  },
  {
   "cell_type": "code",
   "execution_count": 272,
   "source": [
    "#wav2spec\n",
    "class swdata_spectram():\n",
    "    def __init__(self, dataframe, frame_length=0.025, frame_stride=0.010):\n",
    "        self.dataframe = dataframe\n",
    "        self.frame_length = frame_length\n",
    "        self.frame_stride = frame_stride\n",
    "    \n",
    "    def __len__(self):\n",
    "        return len(self.dataframe)\n",
    "\n",
    "    def __getitem__(self,index):\n",
    "        audio_path = self.dataframe[index]\n",
    "        X, sample_rate = librosa.load(audio_path, res_type='kaiser_fast',sr=16000,offset=0.0)\n",
    "        sample_rate = sample_rate\n",
    "        input_nfft = int(round(sample_rate*self.frame_length))\n",
    "        input_stride = int(round(sample_rate*self.frame_stride))\n",
    "\n",
    "        S = librosa.feature.melspectrogram(y=X, n_mels=64, n_fft=input_nfft, hop_length=input_stride)\n",
    "        P = librosa.power_to_db(S, ref=np.max)\n",
    "        \n",
    "\n",
    "        ## get label\n",
    "        if audio_path[-3:] == 'wav':\n",
    "            if audio_path[9:10] =='a':\n",
    "                label = 0\n",
    "            elif audio_path[9:10] =='n':\n",
    "                label = 1\n",
    "            elif audio_path[9:10] =='s':\n",
    "                label = 2\n",
    "            elif audio_path[9:10] =='h':\n",
    "                label = 3\n",
    "        else:\n",
    "            label=None\n",
    "        return P, label"
   ],
   "outputs": [],
   "metadata": {}
  },
  {
   "cell_type": "code",
   "execution_count": 273,
   "source": [
    "test_swdata = swdata_spectram(sw_list)\n",
    "label=None\n",
    "test_path , test_labels = getimg(test_swdata,'test_sw')\n"
   ],
   "outputs": [],
   "metadata": {}
  },
  {
   "cell_type": "code",
   "execution_count": 274,
   "source": [
    "test_path"
   ],
   "outputs": [
    {
     "output_type": "execute_result",
     "data": {
      "text/plain": [
       "['./image_aihub/0_0_test_sw.jpg',\n",
       " './image_aihub/2_1_test_sw.jpg',\n",
       " './image_aihub/1_2_test_sw.jpg',\n",
       " './image_aihub/3_3_test_sw.jpg',\n",
       " './image_aihub/2_4_test_sw.jpg',\n",
       " './image_aihub/3_5_test_sw.jpg',\n",
       " './image_aihub/0_6_test_sw.jpg',\n",
       " './image_aihub/1_7_test_sw.jpg',\n",
       " './image_aihub/3_8_test_sw.jpg',\n",
       " './image_aihub/2_9_test_sw.jpg',\n",
       " './image_aihub/2_10_test_sw.jpg',\n",
       " './image_aihub/1_11_test_sw.jpg',\n",
       " './image_aihub/3_12_test_sw.jpg',\n",
       " './image_aihub/2_13_test_sw.jpg',\n",
       " './image_aihub/0_14_test_sw.jpg',\n",
       " './image_aihub/1_15_test_sw.jpg',\n",
       " './image_aihub/1_16_test_sw.jpg',\n",
       " './image_aihub/3_17_test_sw.jpg',\n",
       " './image_aihub/1_18_test_sw.jpg',\n",
       " './image_aihub/2_19_test_sw.jpg',\n",
       " './image_aihub/3_20_test_sw.jpg',\n",
       " './image_aihub/2_21_test_sw.jpg',\n",
       " './image_aihub/3_22_test_sw.jpg',\n",
       " './image_aihub/2_23_test_sw.jpg',\n",
       " './image_aihub/1_24_test_sw.jpg',\n",
       " './image_aihub/3_25_test_sw.jpg',\n",
       " './image_aihub/2_26_test_sw.jpg',\n",
       " './image_aihub/3_27_test_sw.jpg',\n",
       " './image_aihub/0_28_test_sw.jpg',\n",
       " './image_aihub/3_29_test_sw.jpg',\n",
       " './image_aihub/0_30_test_sw.jpg',\n",
       " './image_aihub/1_31_test_sw.jpg',\n",
       " './image_aihub/3_32_test_sw.jpg',\n",
       " './image_aihub/1_33_test_sw.jpg',\n",
       " './image_aihub/3_34_test_sw.jpg',\n",
       " './image_aihub/0_35_test_sw.jpg',\n",
       " './image_aihub/3_36_test_sw.jpg',\n",
       " './image_aihub/1_37_test_sw.jpg',\n",
       " './image_aihub/3_38_test_sw.jpg',\n",
       " './image_aihub/1_39_test_sw.jpg',\n",
       " './image_aihub/0_40_test_sw.jpg',\n",
       " './image_aihub/0_41_test_sw.jpg',\n",
       " './image_aihub/0_42_test_sw.jpg',\n",
       " './image_aihub/0_43_test_sw.jpg',\n",
       " './image_aihub/2_44_test_sw.jpg',\n",
       " './image_aihub/1_45_test_sw.jpg',\n",
       " './image_aihub/2_46_test_sw.jpg',\n",
       " './image_aihub/2_47_test_sw.jpg',\n",
       " './image_aihub/3_48_test_sw.jpg',\n",
       " './image_aihub/2_49_test_sw.jpg',\n",
       " './image_aihub/0_50_test_sw.jpg',\n",
       " './image_aihub/2_51_test_sw.jpg',\n",
       " './image_aihub/0_52_test_sw.jpg',\n",
       " './image_aihub/1_53_test_sw.jpg',\n",
       " './image_aihub/0_54_test_sw.jpg',\n",
       " './image_aihub/2_55_test_sw.jpg',\n",
       " './image_aihub/2_56_test_sw.jpg',\n",
       " './image_aihub/3_57_test_sw.jpg',\n",
       " './image_aihub/1_58_test_sw.jpg',\n",
       " './image_aihub/0_59_test_sw.jpg',\n",
       " './image_aihub/3_60_test_sw.jpg',\n",
       " './image_aihub/2_61_test_sw.jpg',\n",
       " './image_aihub/1_62_test_sw.jpg',\n",
       " './image_aihub/0_63_test_sw.jpg',\n",
       " './image_aihub/2_64_test_sw.jpg',\n",
       " './image_aihub/0_65_test_sw.jpg',\n",
       " './image_aihub/3_66_test_sw.jpg',\n",
       " './image_aihub/0_67_test_sw.jpg',\n",
       " './image_aihub/1_68_test_sw.jpg',\n",
       " './image_aihub/1_69_test_sw.jpg',\n",
       " './image_aihub/0_70_test_sw.jpg',\n",
       " './image_aihub/0_71_test_sw.jpg',\n",
       " './image_aihub/1_72_test_sw.jpg',\n",
       " './image_aihub/3_73_test_sw.jpg',\n",
       " './image_aihub/0_74_test_sw.jpg',\n",
       " './image_aihub/2_75_test_sw.jpg',\n",
       " './image_aihub/3_76_test_sw.jpg',\n",
       " './image_aihub/1_77_test_sw.jpg',\n",
       " './image_aihub/1_78_test_sw.jpg',\n",
       " './image_aihub/1_79_test_sw.jpg',\n",
       " './image_aihub/0_80_test_sw.jpg',\n",
       " './image_aihub/1_81_test_sw.jpg',\n",
       " './image_aihub/2_82_test_sw.jpg',\n",
       " './image_aihub/2_83_test_sw.jpg',\n",
       " './image_aihub/3_84_test_sw.jpg',\n",
       " './image_aihub/0_85_test_sw.jpg',\n",
       " './image_aihub/2_86_test_sw.jpg',\n",
       " './image_aihub/3_87_test_sw.jpg',\n",
       " './image_aihub/0_88_test_sw.jpg']"
      ]
     },
     "metadata": {},
     "execution_count": 274
    }
   ],
   "metadata": {}
  },
  {
   "cell_type": "code",
   "execution_count": 275,
   "source": [
    "img2tensor(test_path,test_labels,test_transforms)[1][0].unsqueeze(0).shape"
   ],
   "outputs": [
    {
     "output_type": "execute_result",
     "data": {
      "text/plain": [
       "torch.Size([1, 3, 224, 224])"
      ]
     },
     "metadata": {},
     "execution_count": 275
    }
   ],
   "metadata": {}
  },
  {
   "cell_type": "code",
   "execution_count": 276,
   "source": [
    "predictor = Predictor(model)\n",
    "device='cpu'\n",
    "a=[]\n",
    "b=[]\n",
    "for i in range(len(img2tensor(test_path,test_labels,test_transforms))):\n",
    "    a.append(predictor.predict(img2tensor(test_path,test_labels,test_transforms)[i][0].unsqueeze(0)))\n",
    "    b.append(img2tensor(test_path,test_labels,test_transforms)[i][1])\n"
   ],
   "outputs": [
    {
     "output_type": "stream",
     "name": "stdout",
     "text": [
      "0.9992499947547913\n",
      "angry\n",
      "0.6637448072433472\n",
      "sad\n",
      "0.7515119910240173\n",
      "sad\n",
      "0.7910356521606445\n",
      "neutral\n",
      "0.9999866485595703\n",
      "sad\n",
      "0.9975740313529968\n",
      "neutral\n",
      "0.9059281945228577\n",
      "angry\n",
      "0.9909104704856873\n",
      "happy\n",
      "0.584356963634491\n",
      "neutral\n",
      "0.8786373138427734\n",
      "sad\n",
      "0.999591052532196\n",
      "sad\n",
      "0.6299387812614441\n",
      "sad\n",
      "0.6735338568687439\n",
      "happy\n",
      "0.8351410627365112\n",
      "sad\n",
      "0.6344221234321594\n",
      "angry\n",
      "0.9995591044425964\n",
      "happy\n",
      "0.9972520470619202\n",
      "happy\n",
      "0.9419590830802917\n",
      "neutral\n",
      "0.4528966546058655\n",
      "neutral\n",
      "0.9999350309371948\n",
      "sad\n",
      "0.9999998807907104\n",
      "neutral\n",
      "0.9994934797286987\n",
      "sad\n",
      "0.9999947547912598\n",
      "neutral\n",
      "0.999991774559021\n",
      "sad\n",
      "0.9999994039535522\n",
      "happy\n",
      "0.9999421834945679\n",
      "neutral\n",
      "0.9999967813491821\n",
      "sad\n",
      "0.9861142635345459\n",
      "neutral\n",
      "0.9999505281448364\n",
      "angry\n",
      "0.6701821088790894\n",
      "neutral\n",
      "0.8223038911819458\n",
      "angry\n",
      "0.9999768733978271\n",
      "happy\n",
      "0.9966351389884949\n",
      "neutral\n",
      "0.9999505281448364\n",
      "happy\n",
      "0.9986082911491394\n",
      "neutral\n",
      "0.9998520612716675\n",
      "angry\n",
      "0.7368167042732239\n",
      "angry\n",
      "0.6265462040901184\n",
      "happy\n",
      "0.6983428001403809\n",
      "angry\n",
      "0.9703207015991211\n",
      "happy\n",
      "0.6457316875457764\n",
      "sad\n",
      "0.8757594227790833\n",
      "sad\n",
      "0.9868372678756714\n",
      "neutral\n",
      "0.9999971389770508\n",
      "angry\n",
      "0.8413469195365906\n",
      "neutral\n",
      "0.7503652572631836\n",
      "sad\n",
      "0.9997979998588562\n",
      "sad\n",
      "0.9888631105422974\n",
      "sad\n",
      "0.9981092214584351\n",
      "neutral\n",
      "0.9999316930770874\n",
      "sad\n",
      "0.33542147278785706\n",
      "happy\n",
      "0.7285410165786743\n",
      "sad\n",
      "0.8268296122550964\n",
      "angry\n",
      "0.9686342477798462\n",
      "happy\n",
      "0.8808023929595947\n",
      "angry\n",
      "0.9999332427978516\n",
      "sad\n",
      "0.97971111536026\n",
      "sad\n",
      "0.9996150732040405\n",
      "sad\n",
      "0.34422099590301514\n",
      "happy\n",
      "0.8555927872657776\n",
      "angry\n",
      "0.8842632174491882\n",
      "neutral\n",
      "0.9999971389770508\n",
      "sad\n",
      "0.9998456239700317\n",
      "happy\n",
      "0.999138593673706\n",
      "angry\n",
      "0.9857812523841858\n",
      "sad\n",
      "0.9999774694442749\n",
      "angry\n",
      "0.9845801591873169\n",
      "neutral\n",
      "0.9976183772087097\n",
      "angry\n",
      "0.9997074007987976\n",
      "happy\n",
      "0.9706008434295654\n",
      "happy\n",
      "0.9999867677688599\n",
      "angry\n",
      "0.9999831914901733\n",
      "angry\n",
      "0.8976011872291565\n",
      "neutral\n",
      "0.6070632934570312\n",
      "happy\n",
      "0.4248737096786499\n",
      "happy\n",
      "0.982417643070221\n",
      "sad\n",
      "0.9933146834373474\n",
      "neutral\n",
      "0.9999995231628418\n",
      "happy\n",
      "0.9999712705612183\n",
      "happy\n",
      "0.9991706609725952\n",
      "happy\n",
      "0.999649167060852\n",
      "angry\n",
      "0.9917739033699036\n",
      "happy\n",
      "0.5313802361488342\n",
      "angry\n",
      "0.8458158373832703\n",
      "sad\n",
      "0.9989985823631287\n",
      "neutral\n",
      "0.9753400087356567\n",
      "angry\n",
      "0.9999998807907104\n",
      "sad\n",
      "0.7763038277626038\n",
      "neutral\n",
      "0.9903268218040466\n",
      "angry\n"
     ]
    }
   ],
   "metadata": {}
  },
  {
   "cell_type": "code",
   "execution_count": 277,
   "source": [
    "df = pd.DataFrame(a,columns=['predict'])\n",
    "df['original']=b\n",
    "for i in range(len(df)):\n",
    "    if df['original'][i] == 0:\n",
    "        df['original'][i] = 'angry'\n",
    "    elif df['original'][i] == 1:\n",
    "        df['original'][i] = 'happy'\n",
    "    elif df['original'][i] == 2:\n",
    "        df['original'][i] = 'sad'\n",
    "    elif df['original'][i] == 3:\n",
    "        df['original'][i] = 'neutral'\n",
    "print('accuracy={}'.format((df['predict']==df['original']).sum()/len(df)))"
   ],
   "outputs": [
    {
     "output_type": "stream",
     "name": "stdout",
     "text": [
      "accuracy=0.8089887640449438\n"
     ]
    },
    {
     "output_type": "stream",
     "name": "stderr",
     "text": [
      "/tmp/ipykernel_7289/4207275683.py:5: SettingWithCopyWarning: \n",
      "A value is trying to be set on a copy of a slice from a DataFrame\n",
      "\n",
      "See the caveats in the documentation: https://pandas.pydata.org/pandas-docs/stable/user_guide/indexing.html#returning-a-view-versus-a-copy\n",
      "  df['original'][i] = 'angry'\n",
      "/home/seojungin/anaconda3/lib/python3.8/site-packages/pandas/core/indexing.py:1732: SettingWithCopyWarning: \n",
      "A value is trying to be set on a copy of a slice from a DataFrame\n",
      "\n",
      "See the caveats in the documentation: https://pandas.pydata.org/pandas-docs/stable/user_guide/indexing.html#returning-a-view-versus-a-copy\n",
      "  self._setitem_single_block(indexer, value, name)\n"
     ]
    }
   ],
   "metadata": {}
  },
  {
   "cell_type": "code",
   "execution_count": 262,
   "source": [
    "df.to_csv('predict_result_resnet34_img_sw_aihub+custom+augmentaion.csv',index=False)\n"
   ],
   "outputs": [],
   "metadata": {}
  },
  {
   "cell_type": "code",
   "execution_count": null,
   "source": [],
   "outputs": [],
   "metadata": {}
  }
 ],
 "metadata": {
  "interpreter": {
   "hash": "9cd0a2b2755993ea388295ce13640730b09dff1872912d88e6835a7e20d63119"
  },
  "kernelspec": {
   "name": "python3",
   "display_name": "Python 3.8.12 64-bit ('base': conda)"
  },
  "language_info": {
   "codemirror_mode": {
    "name": "ipython",
    "version": 3
   },
   "file_extension": ".py",
   "mimetype": "text/x-python",
   "name": "python",
   "nbconvert_exporter": "python",
   "pygments_lexer": "ipython3",
   "version": "3.8.12"
  },
  "orig_nbformat": 4
 },
 "nbformat": 4,
 "nbformat_minor": 2
}